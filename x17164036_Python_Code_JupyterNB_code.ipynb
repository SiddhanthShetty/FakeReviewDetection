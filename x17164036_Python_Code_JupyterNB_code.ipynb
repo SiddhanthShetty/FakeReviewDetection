{
 "cells": [
  {
   "cell_type": "code",
   "execution_count": null,
   "metadata": {},
   "outputs": [],
   "source": [
    "# Importing packages\n",
    "import pandas as pd\n",
    "import numpy as np\n",
    "import seaborn as sns\n",
    "import textstat as ts\n",
    "from nltk.corpus import stopwords\n",
    "from textblob import Word\n",
    "from textblob import TextBlob\n",
    "stop = stopwords.words('english')"
   ]
  },
  {
   "cell_type": "code",
   "execution_count": 2,
   "metadata": {},
   "outputs": [],
   "source": [
    "#Importing Raw Data\n",
    "reviews_df = pd.read_csv('D:\\\\NCI Notes\\\\Thesis\\\\Data\\\\Reviews.csv', encoding = 'cp1252')\n",
    "restaurant_df = pd.read_csv('D:\\\\NCI Notes\\\\Thesis\\\\Data\\\\Restaurant.csv', encoding = 'cp1252')"
   ]
  },
  {
   "cell_type": "code",
   "execution_count": 3,
   "metadata": {},
   "outputs": [
    {
     "name": "stdout",
     "output_type": "stream",
     "text": [
      "Index(['date', 'reviewID', 'reviewerID', 'reviewContent', 'rating',\n",
      "       'usefulCount', 'coolCount', 'funnyCount', 'flagged', 'restaurantID'],\n",
      "      dtype='object')\n",
      "The Reviews dataset contains 0.0 % missing values.\n"
     ]
    }
   ],
   "source": [
    "#Checking for Missing values - Reviews Dataset\n",
    "column_names = reviews_df.columns\n",
    "print(column_names) #Column names\n",
    "totalCells = np.product(reviews_df.shape) #Calculate total number of cells in dataframe\n",
    "missingCount = reviews_df.isnull().sum() #Count number of missing values per column\n",
    "totalMissing = missingCount.sum() #Calculate total number of missing values \n",
    "print(\"The Reviews dataset contains\", round(((totalMissing/totalCells) * 100), 2), \"%\", \"missing values.\") #Calculate percentage of missing values\n"
   ]
  },
  {
   "cell_type": "code",
   "execution_count": 4,
   "metadata": {},
   "outputs": [],
   "source": [
    "#Replace any missing values with NA and Drop NA values\n",
    "reviews_df.replace(' ',np.nan, inplace = True)\n",
    "reviews_df = reviews_df.dropna()\n"
   ]
  },
  {
   "cell_type": "code",
   "execution_count": 5,
   "metadata": {},
   "outputs": [],
   "source": [
    "#Deleting rows flagged as NR and YR\n",
    "reviews_df = reviews_df[reviews_df.flagged != 'NR']\n",
    "reviews_df = reviews_df[reviews_df.flagged != 'YR']\n"
   ]
  },
  {
   "cell_type": "code",
   "execution_count": 6,
   "metadata": {},
   "outputs": [],
   "source": [
    "#Encoding categorical values\n",
    "from sklearn.preprocessing import LabelEncoder\n",
    "le = LabelEncoder()\n",
    "reviews_df['flagged_code'] = le.fit_transform(reviews_df['flagged'])"
   ]
  },
  {
   "cell_type": "code",
   "execution_count": 7,
   "metadata": {},
   "outputs": [],
   "source": [
    "#Unique Id column\n",
    "reviews_df['ReviewID'] = reviews_df.index\n",
    "\n",
    "#Adding review content wordcount feature\n",
    "reviews_df['WordCount_Review'] = reviews_df['reviewContent'].apply(lambda comment: len(comment.split()))\n",
    "\n",
    "#Drop unwanted columns\n",
    "reviews_df = reviews_df.drop(columns=['date','reviewID','coolCount','funnyCount'], axis = 1)\n",
    "\n",
    "#Renaming Columns\n",
    "reviews_df.rename(columns={'rating':'ReviewRating','usefulCount':'UsefulCount_Review'}, inplace = True)\n"
   ]
  },
  {
   "cell_type": "code",
   "execution_count": 8,
   "metadata": {},
   "outputs": [],
   "source": [
    "#Renaming Columns - Restaurant dataset\n",
    "restaurant_df.rename(columns={'reviewCount':'TotalReviewCountofRestaurant','filReviewCount':'FakeReviewCountRestaurant','rating':'AggRestaurantRating'}, inplace = True)\n",
    "rest_df = restaurant_df[['restaurantID','TotalReviewCountofRestaurant','FakeReviewCountRestaurant','AggRestaurantRating']]\n"
   ]
  },
  {
   "cell_type": "code",
   "execution_count": 9,
   "metadata": {},
   "outputs": [],
   "source": [
    "#Joining the two datasets\n",
    "combined_df = pd.merge(reviews_df,rest_df, how = 'inner', on = 'restaurantID')\n",
    "combined_df = pd.DataFrame(combined_df)\n",
    "combined_df.to_csv(r'D:\\\\NCI Notes\\\\Thesis\\\\Data\\\\FinalMergedDataset.csv')"
   ]
  },
  {
   "cell_type": "code",
   "execution_count": 10,
   "metadata": {},
   "outputs": [
    {
     "data": {
      "text/html": [
       "<div>\n",
       "<style scoped>\n",
       "    .dataframe tbody tr th:only-of-type {\n",
       "        vertical-align: middle;\n",
       "    }\n",
       "\n",
       "    .dataframe tbody tr th {\n",
       "        vertical-align: top;\n",
       "    }\n",
       "\n",
       "    .dataframe thead th {\n",
       "        text-align: right;\n",
       "    }\n",
       "</style>\n",
       "<table border=\"1\" class=\"dataframe\">\n",
       "  <thead>\n",
       "    <tr style=\"text-align: right;\">\n",
       "      <th></th>\n",
       "      <th>reviewerID</th>\n",
       "      <th>reviewContent</th>\n",
       "      <th>ReviewRating</th>\n",
       "      <th>UsefulCount_Review</th>\n",
       "      <th>flagged</th>\n",
       "      <th>restaurantID</th>\n",
       "      <th>flagged_code</th>\n",
       "      <th>ReviewID</th>\n",
       "      <th>WordCount_Review</th>\n",
       "      <th>TotalReviewCountofRestaurant</th>\n",
       "      <th>FakeReviewCountRestaurant</th>\n",
       "      <th>AggRestaurantRating</th>\n",
       "    </tr>\n",
       "  </thead>\n",
       "  <tbody>\n",
       "    <tr>\n",
       "      <th>0</th>\n",
       "      <td>bNYesZ944s6IJVowOnB0iA</td>\n",
       "      <td>Unlike Next, which we'd eaten at the previous ...</td>\n",
       "      <td>5</td>\n",
       "      <td>0</td>\n",
       "      <td>N</td>\n",
       "      <td>pbEiXam9YJL3neCYHGwLUA</td>\n",
       "      <td>0</td>\n",
       "      <td>0</td>\n",
       "      <td>871</td>\n",
       "      <td>841</td>\n",
       "      <td>136</td>\n",
       "      <td>4.5</td>\n",
       "    </tr>\n",
       "    <tr>\n",
       "      <th>1</th>\n",
       "      <td>TRKxLC3y-ZvP45e5iilMtw</td>\n",
       "      <td>Probably one of the best meals I've had ever. ...</td>\n",
       "      <td>5</td>\n",
       "      <td>0</td>\n",
       "      <td>N</td>\n",
       "      <td>pbEiXam9YJL3neCYHGwLUA</td>\n",
       "      <td>0</td>\n",
       "      <td>1</td>\n",
       "      <td>66</td>\n",
       "      <td>841</td>\n",
       "      <td>136</td>\n",
       "      <td>4.5</td>\n",
       "    </tr>\n",
       "    <tr>\n",
       "      <th>2</th>\n",
       "      <td>0EMm8umAqXZzyhxNpL4M9g</td>\n",
       "      <td>Service was impeccable. Experience and present...</td>\n",
       "      <td>3</td>\n",
       "      <td>2</td>\n",
       "      <td>N</td>\n",
       "      <td>pbEiXam9YJL3neCYHGwLUA</td>\n",
       "      <td>0</td>\n",
       "      <td>2</td>\n",
       "      <td>45</td>\n",
       "      <td>841</td>\n",
       "      <td>136</td>\n",
       "      <td>4.5</td>\n",
       "    </tr>\n",
       "    <tr>\n",
       "      <th>3</th>\n",
       "      <td>DlwexC7z88ymAzu45skODw</td>\n",
       "      <td>The problem with places like this, given the e...</td>\n",
       "      <td>3</td>\n",
       "      <td>8</td>\n",
       "      <td>N</td>\n",
       "      <td>pbEiXam9YJL3neCYHGwLUA</td>\n",
       "      <td>0</td>\n",
       "      <td>3</td>\n",
       "      <td>358</td>\n",
       "      <td>841</td>\n",
       "      <td>136</td>\n",
       "      <td>4.5</td>\n",
       "    </tr>\n",
       "    <tr>\n",
       "      <th>4</th>\n",
       "      <td>kW2dk1CWihmh3g7k9N2G8A</td>\n",
       "      <td>I have no idea how to write my review - dining...</td>\n",
       "      <td>5</td>\n",
       "      <td>1</td>\n",
       "      <td>N</td>\n",
       "      <td>pbEiXam9YJL3neCYHGwLUA</td>\n",
       "      <td>0</td>\n",
       "      <td>4</td>\n",
       "      <td>172</td>\n",
       "      <td>841</td>\n",
       "      <td>136</td>\n",
       "      <td>4.5</td>\n",
       "    </tr>\n",
       "  </tbody>\n",
       "</table>\n",
       "</div>"
      ],
      "text/plain": [
       "               reviewerID                                      reviewContent  \\\n",
       "0  bNYesZ944s6IJVowOnB0iA  Unlike Next, which we'd eaten at the previous ...   \n",
       "1  TRKxLC3y-ZvP45e5iilMtw  Probably one of the best meals I've had ever. ...   \n",
       "2  0EMm8umAqXZzyhxNpL4M9g  Service was impeccable. Experience and present...   \n",
       "3  DlwexC7z88ymAzu45skODw  The problem with places like this, given the e...   \n",
       "4  kW2dk1CWihmh3g7k9N2G8A  I have no idea how to write my review - dining...   \n",
       "\n",
       "   ReviewRating  UsefulCount_Review flagged            restaurantID  \\\n",
       "0             5                   0       N  pbEiXam9YJL3neCYHGwLUA   \n",
       "1             5                   0       N  pbEiXam9YJL3neCYHGwLUA   \n",
       "2             3                   2       N  pbEiXam9YJL3neCYHGwLUA   \n",
       "3             3                   8       N  pbEiXam9YJL3neCYHGwLUA   \n",
       "4             5                   1       N  pbEiXam9YJL3neCYHGwLUA   \n",
       "\n",
       "   flagged_code  ReviewID  WordCount_Review  TotalReviewCountofRestaurant  \\\n",
       "0             0         0               871                           841   \n",
       "1             0         1                66                           841   \n",
       "2             0         2                45                           841   \n",
       "3             0         3               358                           841   \n",
       "4             0         4               172                           841   \n",
       "\n",
       "   FakeReviewCountRestaurant  AggRestaurantRating  \n",
       "0                        136                  4.5  \n",
       "1                        136                  4.5  \n",
       "2                        136                  4.5  \n",
       "3                        136                  4.5  \n",
       "4                        136                  4.5  "
      ]
     },
     "execution_count": 10,
     "metadata": {},
     "output_type": "execute_result"
    }
   ],
   "source": [
    "combined_df.head()"
   ]
  },
  {
   "cell_type": "code",
   "execution_count": 11,
   "metadata": {},
   "outputs": [
    {
     "name": "stdout",
     "output_type": "stream",
     "text": [
      "<class 'pandas.core.frame.DataFrame'>\n",
      "Int64Index: 67016 entries, 0 to 67015\n",
      "Data columns (total 12 columns):\n",
      "reviewerID                      67016 non-null object\n",
      "reviewContent                   67016 non-null object\n",
      "ReviewRating                    67016 non-null int64\n",
      "UsefulCount_Review              67016 non-null int64\n",
      "flagged                         67016 non-null object\n",
      "restaurantID                    67016 non-null object\n",
      "flagged_code                    67016 non-null int32\n",
      "ReviewID                        67016 non-null int64\n",
      "WordCount_Review                67016 non-null int64\n",
      "TotalReviewCountofRestaurant    67016 non-null int64\n",
      "FakeReviewCountRestaurant       67016 non-null int64\n",
      "AggRestaurantRating             67016 non-null float64\n",
      "dtypes: float64(1), int32(1), int64(6), object(4)\n",
      "memory usage: 6.4+ MB\n"
     ]
    }
   ],
   "source": [
    "combined_df.info()"
   ]
  },
  {
   "cell_type": "code",
   "execution_count": 12,
   "metadata": {},
   "outputs": [
    {
     "data": {
      "text/html": [
       "<div>\n",
       "<style scoped>\n",
       "    .dataframe tbody tr th:only-of-type {\n",
       "        vertical-align: middle;\n",
       "    }\n",
       "\n",
       "    .dataframe tbody tr th {\n",
       "        vertical-align: top;\n",
       "    }\n",
       "\n",
       "    .dataframe thead th {\n",
       "        text-align: right;\n",
       "    }\n",
       "</style>\n",
       "<table border=\"1\" class=\"dataframe\">\n",
       "  <thead>\n",
       "    <tr style=\"text-align: right;\">\n",
       "      <th></th>\n",
       "      <th>ReviewRating</th>\n",
       "      <th>UsefulCount_Review</th>\n",
       "      <th>flagged_code</th>\n",
       "      <th>ReviewID</th>\n",
       "      <th>WordCount_Review</th>\n",
       "      <th>TotalReviewCountofRestaurant</th>\n",
       "      <th>FakeReviewCountRestaurant</th>\n",
       "      <th>AggRestaurantRating</th>\n",
       "    </tr>\n",
       "  </thead>\n",
       "  <tbody>\n",
       "    <tr>\n",
       "      <th>count</th>\n",
       "      <td>67016.000000</td>\n",
       "      <td>67016.000000</td>\n",
       "      <td>67016.000000</td>\n",
       "      <td>67016.000000</td>\n",
       "      <td>67016.000000</td>\n",
       "      <td>67016.000000</td>\n",
       "      <td>67016.000000</td>\n",
       "      <td>67016.000000</td>\n",
       "    </tr>\n",
       "    <tr>\n",
       "      <th>mean</th>\n",
       "      <td>3.977170</td>\n",
       "      <td>0.894204</td>\n",
       "      <td>0.123866</td>\n",
       "      <td>34158.234228</td>\n",
       "      <td>138.513474</td>\n",
       "      <td>764.700639</td>\n",
       "      <td>98.118285</td>\n",
       "      <td>3.979550</td>\n",
       "    </tr>\n",
       "    <tr>\n",
       "      <th>std</th>\n",
       "      <td>1.097181</td>\n",
       "      <td>2.038062</td>\n",
       "      <td>0.329431</td>\n",
       "      <td>25414.508686</td>\n",
       "      <td>119.616426</td>\n",
       "      <td>411.712029</td>\n",
       "      <td>43.649294</td>\n",
       "      <td>0.242817</td>\n",
       "    </tr>\n",
       "    <tr>\n",
       "      <th>min</th>\n",
       "      <td>1.000000</td>\n",
       "      <td>0.000000</td>\n",
       "      <td>0.000000</td>\n",
       "      <td>0.000000</td>\n",
       "      <td>1.000000</td>\n",
       "      <td>6.000000</td>\n",
       "      <td>0.000000</td>\n",
       "      <td>3.500000</td>\n",
       "    </tr>\n",
       "    <tr>\n",
       "      <th>25%</th>\n",
       "      <td>4.000000</td>\n",
       "      <td>0.000000</td>\n",
       "      <td>0.000000</td>\n",
       "      <td>16754.750000</td>\n",
       "      <td>58.000000</td>\n",
       "      <td>480.000000</td>\n",
       "      <td>65.000000</td>\n",
       "      <td>4.000000</td>\n",
       "    </tr>\n",
       "    <tr>\n",
       "      <th>50%</th>\n",
       "      <td>4.000000</td>\n",
       "      <td>0.000000</td>\n",
       "      <td>0.000000</td>\n",
       "      <td>33508.500000</td>\n",
       "      <td>106.000000</td>\n",
       "      <td>658.000000</td>\n",
       "      <td>89.000000</td>\n",
       "      <td>4.000000</td>\n",
       "    </tr>\n",
       "    <tr>\n",
       "      <th>75%</th>\n",
       "      <td>5.000000</td>\n",
       "      <td>1.000000</td>\n",
       "      <td>0.000000</td>\n",
       "      <td>50262.250000</td>\n",
       "      <td>183.000000</td>\n",
       "      <td>956.000000</td>\n",
       "      <td>118.000000</td>\n",
       "      <td>4.000000</td>\n",
       "    </tr>\n",
       "    <tr>\n",
       "      <th>max</th>\n",
       "      <td>5.000000</td>\n",
       "      <td>84.000000</td>\n",
       "      <td>1.000000</td>\n",
       "      <td>506191.000000</td>\n",
       "      <td>1021.000000</td>\n",
       "      <td>2122.000000</td>\n",
       "      <td>241.000000</td>\n",
       "      <td>5.000000</td>\n",
       "    </tr>\n",
       "  </tbody>\n",
       "</table>\n",
       "</div>"
      ],
      "text/plain": [
       "       ReviewRating  UsefulCount_Review  flagged_code       ReviewID  \\\n",
       "count  67016.000000        67016.000000  67016.000000   67016.000000   \n",
       "mean       3.977170            0.894204      0.123866   34158.234228   \n",
       "std        1.097181            2.038062      0.329431   25414.508686   \n",
       "min        1.000000            0.000000      0.000000       0.000000   \n",
       "25%        4.000000            0.000000      0.000000   16754.750000   \n",
       "50%        4.000000            0.000000      0.000000   33508.500000   \n",
       "75%        5.000000            1.000000      0.000000   50262.250000   \n",
       "max        5.000000           84.000000      1.000000  506191.000000   \n",
       "\n",
       "       WordCount_Review  TotalReviewCountofRestaurant  \\\n",
       "count      67016.000000                  67016.000000   \n",
       "mean         138.513474                    764.700639   \n",
       "std          119.616426                    411.712029   \n",
       "min            1.000000                      6.000000   \n",
       "25%           58.000000                    480.000000   \n",
       "50%          106.000000                    658.000000   \n",
       "75%          183.000000                    956.000000   \n",
       "max         1021.000000                   2122.000000   \n",
       "\n",
       "       FakeReviewCountRestaurant  AggRestaurantRating  \n",
       "count               67016.000000         67016.000000  \n",
       "mean                   98.118285             3.979550  \n",
       "std                    43.649294             0.242817  \n",
       "min                     0.000000             3.500000  \n",
       "25%                    65.000000             4.000000  \n",
       "50%                    89.000000             4.000000  \n",
       "75%                   118.000000             4.000000  \n",
       "max                   241.000000             5.000000  "
      ]
     },
     "execution_count": 12,
     "metadata": {},
     "output_type": "execute_result"
    }
   ],
   "source": [
    "combined_df.describe()"
   ]
  },
  {
   "cell_type": "code",
   "execution_count": 13,
   "metadata": {},
   "outputs": [],
   "source": [
    "#Text preprocessing and new feature addition\n",
    "#Remove numbers\n",
    "combined_df['reviewContentNew'] = combined_df['reviewContent'].apply(lambda x: ''.join([i for i in x if not i.isdigit()])) \n",
    "#Remove punctuations\n",
    "combined_df['reviewContentNew'] = combined_df['reviewContentNew'].str.replace('[^\\w\\s]', '')\n",
    "#Lowercasing\n",
    "combined_df['reviewContentNew'] = combined_df['reviewContentNew'].apply(lambda x: \" \".join(x.lower() for x in x.split()))\n",
    "#stopword count\n",
    "combined_df['stopwordsCount'] = combined_df['reviewContentNew'].apply(lambda x: len([x for x in x.split() if x in stop]))\n",
    "#removing stopwords\n",
    "combined_df['reviewContentNew'] = combined_df['reviewContentNew'].apply(lambda x: \" \".join(x for x in x.split() if x not in stop))\n",
    "#lemmatizing\n",
    "combined_df['reviewContentNew'] = combined_df['reviewContentNew'].apply(lambda x: \" \".join([Word(word).lemmatize() for word in x.split()]))\n"
   ]
  },
  {
   "cell_type": "code",
   "execution_count": 14,
   "metadata": {},
   "outputs": [
    {
     "data": {
      "text/plain": [
       "0    unlike next wed eaten previous night dish comp...\n",
       "1    probably one best meal ive ever performance fo...\n",
       "2    service impeccable experience presentation coo...\n",
       "3    problem place like given exhorbitant cost medi...\n",
       "4    idea write review dining alinea brings whole d...\n",
       "Name: reviewContentNew, dtype: object"
      ]
     },
     "execution_count": 14,
     "metadata": {},
     "output_type": "execute_result"
    }
   ],
   "source": [
    "combined_df['reviewContentNew'].head()"
   ]
  },
  {
   "cell_type": "code",
   "execution_count": 15,
   "metadata": {},
   "outputs": [],
   "source": [
    "#Adding new numeric features - Feature Engineering\n",
    "#Rating features and Text based statistics\n",
    "#AggRating Deviation\n",
    "combined_df['DeviationfromAggRating'] = abs(combined_df['AggRestaurantRating'] - combined_df['ReviewRating'])\n",
    "#Character count\n",
    "combined_df['charCount'] = combined_df['reviewContent'].apply(len)\n",
    "#uppercase count\n",
    "combined_df['uppercaseCount'] = combined_df['reviewContent'].apply(lambda comment: sum(1 for c in comment if c.isupper()))\n",
    "#special char count\n",
    "combined_df['specialCharCount'] = combined_df['reviewContent'].apply(lambda comment: sum (comment.count(w) for w in '[\\w]+'))\n",
    "#sentence count\n",
    "combined_df['sentenceCount'] = combined_df['reviewContent'].apply(ts.sentence_count)"
   ]
  },
  {
   "cell_type": "code",
   "execution_count": 16,
   "metadata": {},
   "outputs": [],
   "source": [
    "#Redability features\n",
    "combined_df['fleschReadingEase'] = combined_df['reviewContent'].apply(ts.flesch_reading_ease)\n",
    "combined_df['fleschKincaidGrade'] = combined_df['reviewContent'].apply(ts.flesch_kincaid_grade)\n",
    "combined_df['fogScale'] = combined_df['reviewContent'].apply(ts.gunning_fog)\n",
    "combined_df['smogScore'] = combined_df['reviewContent'].apply(ts.smog_index)\n",
    "combined_df['ARI'] = combined_df['reviewContent'].apply(ts.automated_readability_index)\n",
    "combined_df['CLI'] = combined_df['reviewContent'].apply(ts.coleman_liau_index)\n",
    "combined_df['linsearWrite'] = combined_df['reviewContent'].apply(ts.linsear_write_formula)\n",
    "combined_df['daleChallScore'] = combined_df['reviewContent'].apply(ts.dale_chall_readability_score)\n"
   ]
  },
  {
   "cell_type": "code",
   "execution_count": 17,
   "metadata": {},
   "outputs": [],
   "source": [
    "#Sentiment Score\n",
    "combined_df['sentimentScore'] = combined_df['reviewContent'].apply(lambda x: TextBlob(x).sentiment[0])#SentimentScore-polarity"
   ]
  },
  {
   "cell_type": "code",
   "execution_count": 18,
   "metadata": {},
   "outputs": [],
   "source": [
    "#POS Tagging and adding its counts as features\n",
    "from nltk import word_tokenize, pos_tag\n",
    "def count_noun(text):\n",
    "    nouns = sum(1 for word, pos in pos_tag(word_tokenize(text)) if pos.startswith('NN'))\n",
    "    return nouns\n",
    "def count_verb(text):\n",
    "    verbs = sum(1 for word, pos in pos_tag(word_tokenize(text)) if pos.startswith('VB'))\n",
    "    return verbs\n",
    "def count_adjective(text):\n",
    "    adj = sum(1 for word, pos in pos_tag(word_tokenize(text)) if pos.startswith('JJ'))\n",
    "    return adj\n",
    "def count_adverb(text):\n",
    "    adv = sum(1 for word, pos in pos_tag(word_tokenize(text)) if pos.startswith('RB'))\n",
    "    return adv\n",
    "\n",
    "combined_df['nounCount'] = combined_df['reviewContent'].apply(count_noun)\n",
    "combined_df['verbCount'] = combined_df['reviewContent'].apply(count_verb)\n",
    "combined_df['adjectiveCount'] = combined_df['reviewContent'].apply(count_adjective)\n",
    "combined_df['adverbCount'] = combined_df['reviewContent'].apply(count_adverb)\n"
   ]
  },
  {
   "cell_type": "code",
   "execution_count": 19,
   "metadata": {},
   "outputs": [
    {
     "name": "stdout",
     "output_type": "stream",
     "text": [
      "<class 'pandas.core.frame.DataFrame'>\n",
      "Int64Index: 67016 entries, 0 to 67015\n",
      "Data columns (total 32 columns):\n",
      "reviewerID                      67016 non-null object\n",
      "reviewContent                   67016 non-null object\n",
      "ReviewRating                    67016 non-null int64\n",
      "UsefulCount_Review              67016 non-null int64\n",
      "flagged                         67016 non-null object\n",
      "restaurantID                    67016 non-null object\n",
      "flagged_code                    67016 non-null int32\n",
      "ReviewID                        67016 non-null int64\n",
      "WordCount_Review                67016 non-null int64\n",
      "TotalReviewCountofRestaurant    67016 non-null int64\n",
      "FakeReviewCountRestaurant       67016 non-null int64\n",
      "AggRestaurantRating             67016 non-null float64\n",
      "reviewContentNew                67016 non-null object\n",
      "stopwordsCount                  67016 non-null int64\n",
      "DeviationfromAggRating          67016 non-null float64\n",
      "charCount                       67016 non-null int64\n",
      "uppercaseCount                  67016 non-null int64\n",
      "specialCharCount                67016 non-null int64\n",
      "sentenceCount                   67016 non-null int64\n",
      "fleschReadingEase               67016 non-null float64\n",
      "fleschKincaidGrade              67016 non-null float64\n",
      "fogScale                        67016 non-null float64\n",
      "smogScore                       67016 non-null float64\n",
      "ARI                             67016 non-null float64\n",
      "CLI                             67016 non-null float64\n",
      "linsearWrite                    67016 non-null float64\n",
      "daleChallScore                  67016 non-null float64\n",
      "sentimentScore                  67016 non-null float64\n",
      "nounCount                       67016 non-null int64\n",
      "verbCount                       67016 non-null int64\n",
      "adjectiveCount                  67016 non-null int64\n",
      "adverbCount                     67016 non-null int64\n",
      "dtypes: float64(11), int32(1), int64(15), object(5)\n",
      "memory usage: 16.6+ MB\n"
     ]
    }
   ],
   "source": [
    "combined_df.info()"
   ]
  },
  {
   "cell_type": "code",
   "execution_count": 20,
   "metadata": {},
   "outputs": [],
   "source": [
    "#Exporting the PreProcessed Data\n",
    "combined_df.to_csv(r'D:\\\\NCI Notes\\\\Thesis\\\\Data\\\\CombinedPreProcessedDataset.csv')\n",
    "#combined_df = pd.read_csv('D:\\\\NCI Notes\\\\Thesis\\\\Data\\\\CombinedPreProcessedDataset.csv')\n",
    "#combined_df = combined_df.drop(columns=['Unnamed: 0'])"
   ]
  },
  {
   "cell_type": "code",
   "execution_count": 21,
   "metadata": {},
   "outputs": [],
   "source": [
    "#Defining functions for Report, Cross Validation\n",
    "\n",
    "def model_report(y_act, y_pred):\n",
    "    from sklearn.metrics import confusion_matrix \n",
    "    from sklearn.metrics import accuracy_score, cohen_kappa_score\n",
    "    from sklearn.metrics import precision_score, recall_score\n",
    "    from sklearn.metrics import f1_score, roc_curve,auc\n",
    "    import matplotlib.pyplot as plt\n",
    "    print(\"Confusion Matrix: \")\n",
    "    print(confusion_matrix(y_act, y_pred))\n",
    "    print(\"Accuracy = \", accuracy_score(y_act, y_pred))\n",
    "    print(\"Precision = \" ,precision_score(y_act, y_pred))\n",
    "    print(\"Recall = \" ,recall_score(y_act, y_pred))\n",
    "    print(\"F1 Score = \" ,f1_score(y_act, y_pred))\n",
    "    false_positive_rate, true_positive_rate, thresholds = roc_curve(y_act, y_pred)\n",
    "    print(\"AUC Score =\", auc(false_positive_rate, true_positive_rate))\n",
    "    print(\"Kappa score = \",cohen_kappa_score(y_act,y_pred))\n",
    "    print(\"Error rate = \" ,1 - accuracy_score(y_act, y_pred))\n",
    "    print(\"AUC-ROC Curve: \")\n",
    "    plt.plot([0, 1], [0, 1], linestyle='--')\n",
    "    plt.plot(false_positive_rate, true_positive_rate,marker='.')\n",
    "    plt.show()\n",
    "    pass\n",
    "\n",
    "def cross_validation_report(result):\n",
    "    print(\"Mean accuracy: \", result.mean())\n",
    "    print(\"Variance: \", result.std())\n",
    "    pass\n",
    "\n",
    "def KFold_Cross_Validation(classifier,n):\n",
    "    from sklearn.model_selection import cross_val_score\n",
    "    acc = cross_val_score(estimator = classifier, X = X_train, y = y_train, cv = n, scoring = 'accuracy')\n",
    "    cross_validation_report(acc)\n",
    "    pass\n"
   ]
  },
  {
   "cell_type": "code",
   "execution_count": 22,
   "metadata": {},
   "outputs": [
    {
     "data": {
      "text/plain": [
       "N    58715\n",
       "Y     8301\n",
       "Name: flagged, dtype: int64"
      ]
     },
     "execution_count": 22,
     "metadata": {},
     "output_type": "execute_result"
    }
   ],
   "source": [
    "#Checking class balance in the dataset\n",
    "combined_df['flagged'].value_counts()"
   ]
  },
  {
   "cell_type": "code",
   "execution_count": 23,
   "metadata": {},
   "outputs": [
    {
     "data": {
      "text/plain": [
       "0    58715\n",
       "1     8301\n",
       "Name: flagged_code, dtype: int64"
      ]
     },
     "execution_count": 23,
     "metadata": {},
     "output_type": "execute_result"
    }
   ],
   "source": [
    "combined_df['flagged_code'].value_counts()"
   ]
  },
  {
   "cell_type": "code",
   "execution_count": 24,
   "metadata": {
    "scrolled": true
   },
   "outputs": [
    {
     "data": {
      "text/plain": [
       "<matplotlib.axes._subplots.AxesSubplot at 0x20dd02a20b8>"
      ]
     },
     "execution_count": 24,
     "metadata": {},
     "output_type": "execute_result"
    },
    {
     "data": {
      "image/png": "[encoded data removed]",
      "text/plain": [
       "<Figure size 432x288 with 1 Axes>"
      ]
     },
     "metadata": {
      "needs_background": "light"
     },
     "output_type": "display_data"
    }
   ],
   "source": [
    "import seaborn as sns\n",
    "sns.countplot(x = 'flagged', data = combined_df)"
   ]
  },
  {
   "cell_type": "code",
   "execution_count": 25,
   "metadata": {},
   "outputs": [],
   "source": [
    "#Handling Class Imbalance\n",
    "#Random Undersampling for ngrams model\n",
    "min_class_length = len(combined_df[combined_df['flagged_code'] == 1])\n",
    "maj_class_indices = combined_df[combined_df['flagged_code'] == 0].index\n",
    "random_maj_class_indices = np.random.choice(maj_class_indices,min_class_length,replace = False)\n",
    "min_class_indices = combined_df[combined_df['flagged_code'] == 1].index\n",
    "random_usamp_indices = np.concatenate([min_class_indices,random_maj_class_indices])\n",
    "text_df = combined_df.loc[random_usamp_indices]"
   ]
  },
  {
   "cell_type": "code",
   "execution_count": 26,
   "metadata": {},
   "outputs": [
    {
     "name": "stdout",
     "output_type": "stream",
     "text": [
      "<class 'pandas.core.frame.DataFrame'>\n",
      "Int64Index: 16602 entries, 826 to 34948\n",
      "Data columns (total 32 columns):\n",
      "reviewerID                      16602 non-null object\n",
      "reviewContent                   16602 non-null object\n",
      "ReviewRating                    16602 non-null int64\n",
      "UsefulCount_Review              16602 non-null int64\n",
      "flagged                         16602 non-null object\n",
      "restaurantID                    16602 non-null object\n",
      "flagged_code                    16602 non-null int32\n",
      "ReviewID                        16602 non-null int64\n",
      "WordCount_Review                16602 non-null int64\n",
      "TotalReviewCountofRestaurant    16602 non-null int64\n",
      "FakeReviewCountRestaurant       16602 non-null int64\n",
      "AggRestaurantRating             16602 non-null float64\n",
      "reviewContentNew                16602 non-null object\n",
      "stopwordsCount                  16602 non-null int64\n",
      "DeviationfromAggRating          16602 non-null float64\n",
      "charCount                       16602 non-null int64\n",
      "uppercaseCount                  16602 non-null int64\n",
      "specialCharCount                16602 non-null int64\n",
      "sentenceCount                   16602 non-null int64\n",
      "fleschReadingEase               16602 non-null float64\n",
      "fleschKincaidGrade              16602 non-null float64\n",
      "fogScale                        16602 non-null float64\n",
      "smogScore                       16602 non-null float64\n",
      "ARI                             16602 non-null float64\n",
      "CLI                             16602 non-null float64\n",
      "linsearWrite                    16602 non-null float64\n",
      "daleChallScore                  16602 non-null float64\n",
      "sentimentScore                  16602 non-null float64\n",
      "nounCount                       16602 non-null int64\n",
      "verbCount                       16602 non-null int64\n",
      "adjectiveCount                  16602 non-null int64\n",
      "adverbCount                     16602 non-null int64\n",
      "dtypes: float64(11), int32(1), int64(15), object(5)\n",
      "memory usage: 4.1+ MB\n"
     ]
    }
   ],
   "source": [
    "text_df.info()"
   ]
  },
  {
   "cell_type": "code",
   "execution_count": 27,
   "metadata": {},
   "outputs": [
    {
     "data": {
      "text/plain": [
       "<matplotlib.axes._subplots.AxesSubplot at 0x20dae784940>"
      ]
     },
     "execution_count": 27,
     "metadata": {},
     "output_type": "execute_result"
    },
    {
     "data": {
      "image/png": "[encoded data removed]",
      "text/plain": [
       "<Figure size 432x288 with 1 Axes>"
      ]
     },
     "metadata": {
      "needs_background": "light"
     },
     "output_type": "display_data"
    }
   ],
   "source": [
    "import seaborn as sns\n",
    "sns.countplot(x = 'flagged', data = text_df)"
   ]
  },
  {
   "cell_type": "code",
   "execution_count": 28,
   "metadata": {},
   "outputs": [],
   "source": [
    "#Export Random Undersampled Dataset to csv\n",
    "text_df.to_csv(r'D:\\\\NCI Notes\\\\Thesis\\\\Data\\\\UndersampledDataset.csv')"
   ]
  },
  {
   "cell_type": "code",
   "execution_count": 29,
   "metadata": {},
   "outputs": [],
   "source": [
    "#Handling Class Imbalance\n",
    "#Up-sampling using SMOTE for only numeric features model(Rating Features and Text Based Features)\n",
    "numeric_df = combined_df.drop(columns=['reviewerID','reviewContent','flagged','ReviewID','restaurantID','reviewContentNew'])\n",
    "X = numeric_df.drop(columns=['flagged_code','fleschReadingEase',\n",
    "       'fleschKincaidGrade', 'fogScale', 'smogScore', 'ARI', 'CLI',\n",
    "       'linsearWrite', 'daleChallScore'])\n",
    "X = X.iloc[:,:].values\n",
    "y = numeric_df.iloc[:,numeric_df.columns.get_loc('flagged_code')].values"
   ]
  },
  {
   "cell_type": "code",
   "execution_count": 30,
   "metadata": {},
   "outputs": [],
   "source": [
    "from imblearn.over_sampling import SMOTE\n",
    "sm = SMOTE()\n",
    "X, y = sm.fit_sample(X, y)"
   ]
  },
  {
   "cell_type": "code",
   "execution_count": 31,
   "metadata": {},
   "outputs": [
    {
     "name": "stdout",
     "output_type": "stream",
     "text": [
      "Classes after SMOTE : \n",
      "Count of label '1' = 58715\n",
      "Count of label '0' = 58715\n"
     ]
    }
   ],
   "source": [
    "#Class instances after upsampling using SMOTE\n",
    "print(\"Classes after SMOTE : \")\n",
    "print(\"Count of label '1' = {}\".format(sum(y==1)))\n",
    "print(\"Count of label '0' = {}\".format(sum(y==0)))"
   ]
  },
  {
   "cell_type": "code",
   "execution_count": 32,
   "metadata": {},
   "outputs": [
    {
     "name": "stdout",
     "output_type": "stream",
     "text": [
      "Iteration: \t1 / 100\n",
      "Confirmed: \t0\n",
      "Tentative: \t17\n",
      "Rejected: \t0\n",
      "Iteration: \t2 / 100\n",
      "Confirmed: \t0\n",
      "Tentative: \t17\n",
      "Rejected: \t0\n",
      "Iteration: \t3 / 100\n",
      "Confirmed: \t0\n",
      "Tentative: \t17\n",
      "Rejected: \t0\n",
      "Iteration: \t4 / 100\n",
      "Confirmed: \t0\n",
      "Tentative: \t17\n",
      "Rejected: \t0\n",
      "Iteration: \t5 / 100\n",
      "Confirmed: \t0\n",
      "Tentative: \t17\n",
      "Rejected: \t0\n",
      "Iteration: \t6 / 100\n",
      "Confirmed: \t0\n",
      "Tentative: \t17\n",
      "Rejected: \t0\n",
      "Iteration: \t7 / 100\n",
      "Confirmed: \t0\n",
      "Tentative: \t17\n",
      "Rejected: \t0\n",
      "Iteration: \t8 / 100\n",
      "Confirmed: \t17\n",
      "Tentative: \t0\n",
      "Rejected: \t0\n",
      "\n",
      "\n",
      "BorutaPy finished running.\n",
      "\n",
      "Iteration: \t9 / 100\n",
      "Confirmed: \t17\n",
      "Tentative: \t0\n",
      "Rejected: \t0\n"
     ]
    },
    {
     "data": {
      "text/plain": [
       "BorutaPy(alpha=0.05,\n",
       "         estimator=RandomForestClassifier(bootstrap=True, class_weight=None,\n",
       "                                          criterion='gini', max_depth=7,\n",
       "                                          max_features='auto',\n",
       "                                          max_leaf_nodes=None,\n",
       "                                          min_impurity_decrease=0.0,\n",
       "                                          min_impurity_split=None,\n",
       "                                          min_samples_leaf=1,\n",
       "                                          min_samples_split=2,\n",
       "                                          min_weight_fraction_leaf=0.0,\n",
       "                                          n_estimators=83, n_jobs=-1,\n",
       "                                          oob_score=False,\n",
       "                                          random_state=<mtrand.RandomState object at 0x0000020DDC1CA1F8>,\n",
       "                                          verbose=0, warm_start=False),\n",
       "         max_iter=100, n_estimators='auto', perc=100,\n",
       "         random_state=<mtrand.RandomState object at 0x0000020DDC1CA1F8>,\n",
       "         two_step=True, verbose=2)"
      ]
     },
     "execution_count": 32,
     "metadata": {},
     "output_type": "execute_result"
    }
   ],
   "source": [
    "#Performing feature selection on numeric features using BorutaPy\n",
    "from sklearn.ensemble import RandomForestClassifier\n",
    "from boruta import BorutaPy\n",
    "rfc = RandomForestClassifier(n_jobs=-1, class_weight=None, max_depth=7, random_state=0)\n",
    "feat_selector = BorutaPy(rfc, n_estimators='auto',verbose=2, random_state=0)\n",
    "feat_selector.fit(X,y)"
   ]
  },
  {
   "cell_type": "code",
   "execution_count": 33,
   "metadata": {},
   "outputs": [],
   "source": [
    "#Updating feature set for training with selected features\n",
    "X = X[:,feat_selector.support_]"
   ]
  },
  {
   "cell_type": "code",
   "execution_count": 34,
   "metadata": {},
   "outputs": [],
   "source": [
    "#Split Dataset for train and test\n",
    "from sklearn.model_selection import train_test_split\n",
    "X_train,X_test,y_train,y_test = train_test_split(X,y,test_size = 0.20,random_state = 123)"
   ]
  },
  {
   "cell_type": "code",
   "execution_count": 35,
   "metadata": {},
   "outputs": [
    {
     "name": "stdout",
     "output_type": "stream",
     "text": [
      "Confusion Matrix: \n",
      "[[ 5973  5829]\n",
      " [  910 10774]]\n",
      "Accuracy =  0.7130631014221238\n",
      "Precision =  0.6489188700837198\n",
      "Recall =  0.922115713796645\n",
      "F1 Score =  0.7617633541909712\n",
      "AUC Score = 0.7141081873507883\n",
      "Kappa score =  0.42731701822839563\n",
      "Error rate =  0.2869368985778762\n",
      "AUC-ROC Curve: \n"
     ]
    },
    {
     "data": {
      "image/png": "[encoded data removed]",
      "text/plain": [
       "<Figure size 432x288 with 1 Axes>"
      ]
     },
     "metadata": {
      "needs_background": "light"
     },
     "output_type": "display_data"
    },
    {
     "name": "stdout",
     "output_type": "stream",
     "text": [
      "Mean accuracy:  0.7114558457645039\n",
      "Variance:  0.003897413789036252\n"
     ]
    }
   ],
   "source": [
    "#Gaussian Naive Bayes\n",
    "from sklearn.naive_bayes import GaussianNB\n",
    "gnb = GaussianNB()\n",
    "gnb.fit(X_train,y_train)\n",
    "pred_y = gnb.predict(X_test)\n",
    "model_report(y_test,pred_y)\n",
    "KFold_Cross_Validation(gnb,10)"
   ]
  },
  {
   "cell_type": "code",
   "execution_count": 36,
   "metadata": {},
   "outputs": [
    {
     "name": "stdout",
     "output_type": "stream",
     "text": [
      "Confusion Matrix: \n",
      "[[10917   885]\n",
      " [ 1612 10072]]\n",
      "Accuracy =  0.8936813420761305\n",
      "Precision =  0.9192297161631834\n",
      "Recall =  0.8620335501540568\n",
      "F1 Score =  0.8897133518837507\n",
      "AUC Score = 0.8935231299321377\n",
      "Kappa score =  0.7872911518848067\n",
      "Error rate =  0.10631865792386952\n",
      "AUC-ROC Curve: \n"
     ]
    },
    {
     "data": {
      "image/png": "[encoded data removed]",
      "text/plain": [
       "<Figure size 432x288 with 1 Axes>"
      ]
     },
     "metadata": {
      "needs_background": "light"
     },
     "output_type": "display_data"
    },
    {
     "name": "stdout",
     "output_type": "stream",
     "text": [
      "Mean accuracy:  0.8948735395635943\n",
      "Variance:  0.0038297148537875265\n"
     ]
    }
   ],
   "source": [
    "#XGBoost without parameter Tuning\n",
    "import xgboost as xgb\n",
    "xgbc = xgb.XGBClassifier()\n",
    "xgbc.fit(X_train,y_train)\n",
    "pred_y = xgbc.predict(X_test)\n",
    "model_report(y_test,pred_y)\n",
    "KFold_Cross_Validation(xgbc,10)"
   ]
  },
  {
   "cell_type": "code",
   "execution_count": 37,
   "metadata": {},
   "outputs": [
    {
     "name": "stderr",
     "output_type": "stream",
     "text": [
      "C:\\Users\\Siddhanth\\Anaconda3\\lib\\site-packages\\sklearn\\model_selection\\_split.py:1978: FutureWarning: The default value of cv will change from 3 to 5 in version 0.22. Specify it explicitly to silence this warning.\n",
      "  warnings.warn(CV_WARNING, FutureWarning)\n",
      "[Parallel(n_jobs=4)]: Using backend LokyBackend with 4 concurrent workers.\n"
     ]
    },
    {
     "name": "stdout",
     "output_type": "stream",
     "text": [
      "Fitting 3 folds for each of 20 candidates, totalling 60 fits\n"
     ]
    },
    {
     "name": "stderr",
     "output_type": "stream",
     "text": [
      "[Parallel(n_jobs=4)]: Done   5 tasks      | elapsed:   25.9s\n",
      "[Parallel(n_jobs=4)]: Done  10 tasks      | elapsed:   35.1s\n",
      "[Parallel(n_jobs=4)]: Done  17 tasks      | elapsed:   57.5s\n",
      "[Parallel(n_jobs=4)]: Done  24 tasks      | elapsed:  1.1min\n",
      "[Parallel(n_jobs=4)]: Done  33 tasks      | elapsed:  1.6min\n",
      "[Parallel(n_jobs=4)]: Done  42 tasks      | elapsed:  2.0min\n",
      "[Parallel(n_jobs=4)]: Done  53 tasks      | elapsed:  2.4min\n",
      "[Parallel(n_jobs=4)]: Done  60 out of  60 | elapsed:  2.6min remaining:    0.0s\n",
      "[Parallel(n_jobs=4)]: Done  60 out of  60 | elapsed:  2.6min finished\n"
     ]
    },
    {
     "data": {
      "text/plain": [
       "RandomizedSearchCV(cv='warn', error_score='raise-deprecating',\n",
       "                   estimator=XGBClassifier(base_score=0.5, booster='gbtree',\n",
       "                                           colsample_bylevel=1,\n",
       "                                           colsample_bynode=1,\n",
       "                                           colsample_bytree=1, gamma=0,\n",
       "                                           learning_rate=0.1, max_delta_step=0,\n",
       "                                           max_depth=3, min_child_weight=1,\n",
       "                                           missing=None, n_estimators=100,\n",
       "                                           n_jobs=1, nthread=None,\n",
       "                                           objective='binary:logistic',\n",
       "                                           random_state=0, reg_al...\n",
       "                                        'subsample': array([0.5 , 0.51, 0.52, 0.53, 0.54, 0.55, 0.56, 0.57, 0.58, 0.59, 0.6 ,\n",
       "       0.61, 0.62, 0.63, 0.64, 0.65, 0.66, 0.67, 0.68, 0.69, 0.7 , 0.71,\n",
       "       0.72, 0.73, 0.74, 0.75, 0.76, 0.77, 0.78, 0.79, 0.8 , 0.81, 0.82,\n",
       "       0.83, 0.84, 0.85, 0.86, 0.87, 0.88, 0.89, 0.9 , 0.91, 0.92, 0.93,\n",
       "       0.94, 0.95, 0.96, 0.97, 0.98, 0.99])},\n",
       "                   pre_dispatch='2*n_jobs', random_state=10, refit=True,\n",
       "                   return_train_score=False, scoring='accuracy', verbose=10)"
      ]
     },
     "execution_count": 37,
     "metadata": {},
     "output_type": "execute_result"
    }
   ],
   "source": [
    "#Hyperparameter Tuning for XGBoost\n",
    "from sklearn.model_selection import RandomizedSearchCV\n",
    "\n",
    "parameter = {   \n",
    "        'max_depth' : np.arange(3,10,1),\n",
    "        'n_estimators' : range(1,100,1),\n",
    "        'learning_rate' : [0.05, 0.10, 0.15, 0.20, 0.25, 0.30,0.50,0.60],\n",
    "        'eta' : range(1,100,1),\n",
    "        'subsample' : np.arange(0.5,1,0.01),\n",
    "        'min_child_weight': range(1,6,1),\n",
    "        'gamma' : [i/10.0 for i in range(0,5)]\n",
    "        }\n",
    "\n",
    "rs = RandomizedSearchCV(\n",
    "        estimator = xgbc,\n",
    "        param_distributions = parameter,\n",
    "        n_iter = 20,\n",
    "        scoring ='accuracy',\n",
    "        n_jobs=4,\n",
    "        verbose=10,\n",
    "        random_state=10\n",
    "        )\n",
    "\n",
    "rs.fit(X_train,y_train)"
   ]
  },
  {
   "cell_type": "code",
   "execution_count": 38,
   "metadata": {},
   "outputs": [
    {
     "data": {
      "text/plain": [
       "{'mean_fit_time': array([ 6.09137456, 18.13948337, 16.04774443,  6.94774922,  1.30949672,\n",
       "        20.03142262,  7.38624382,  1.79120819,  7.85233084,  8.62858868,\n",
       "        21.02543036, 10.42611361,  3.60003694, 20.21493204, 17.09793615,\n",
       "         9.57838043,  8.7751952 ,  4.92914852, 10.32172664,  1.45577168]),\n",
       " 'std_fit_time': array([0.02740116, 0.43505762, 0.44521441, 0.03907315, 0.1164987 ,\n",
       "        0.093092  , 1.20597475, 0.02544003, 0.11041178, 0.0892052 ,\n",
       "        0.21128789, 0.29378901, 0.06608679, 0.15112952, 1.02799061,\n",
       "        0.11649966, 0.17444393, 0.05305795, 0.17492914, 0.01298693]),\n",
       " 'mean_score_time': array([0.04388221, 0.12134298, 0.16156729, 0.07912199, 0.02460082,\n",
       "        0.16455897, 0.0721403 , 0.02991994, 0.06815068, 0.10039806,\n",
       "        0.25232522, 0.11702005, 0.05585035, 0.1997989 , 0.17752449,\n",
       "        0.12134147, 0.07579772, 0.04853702, 0.10771179, 0.03324453]),\n",
       " 'std_score_time': array([0.00215461, 0.0108123 , 0.00666603, 0.00600238, 0.00124409,\n",
       "        0.00244357, 0.00815722, 0.00162908, 0.00409801, 0.00477108,\n",
       "        0.00407158, 0.00653172, 0.00354961, 0.02023336, 0.00508498,\n",
       "        0.00417903, 0.0043087 , 0.00367217, 0.0028208 , 0.00329088]),\n",
       " 'param_subsample': masked_array(data=[0.6500000000000001, 0.8100000000000003,\n",
       "                    0.8200000000000003, 0.8400000000000003,\n",
       "                    0.7000000000000002, 0.5700000000000001,\n",
       "                    0.7300000000000002, 0.6400000000000001,\n",
       "                    0.5900000000000001, 0.8600000000000003,\n",
       "                    0.6600000000000001, 0.7200000000000002,\n",
       "                    0.5800000000000001, 0.7900000000000003,\n",
       "                    0.8500000000000003, 0.6600000000000001,\n",
       "                    0.9200000000000004, 0.8700000000000003, 0.56, 0.55],\n",
       "              mask=[False, False, False, False, False, False, False, False,\n",
       "                    False, False, False, False, False, False, False, False,\n",
       "                    False, False, False, False],\n",
       "        fill_value='?',\n",
       "             dtype=object),\n",
       " 'param_n_estimators': masked_array(data=[29, 60, 84, 58, 5, 79, 76, 19, 27, 78, 82, 39, 43, 79,\n",
       "                    74, 86, 30, 34, 52, 16],\n",
       "              mask=[False, False, False, False, False, False, False, False,\n",
       "                    False, False, False, False, False, False, False, False,\n",
       "                    False, False, False, False],\n",
       "        fill_value='?',\n",
       "             dtype=object),\n",
       " 'param_min_child_weight': masked_array(data=[5, 4, 1, 3, 3, 1, 1, 3, 2, 3, 5, 4, 4, 1, 2, 4, 3, 5,\n",
       "                    1, 1],\n",
       "              mask=[False, False, False, False, False, False, False, False,\n",
       "                    False, False, False, False, False, False, False, False,\n",
       "                    False, False, False, False],\n",
       "        fill_value='?',\n",
       "             dtype=object),\n",
       " 'param_max_depth': masked_array(data=[6, 8, 6, 4, 7, 7, 3, 3, 9, 4, 9, 9, 3, 9, 8, 4, 9, 5,\n",
       "                    7, 3],\n",
       "              mask=[False, False, False, False, False, False, False, False,\n",
       "                    False, False, False, False, False, False, False, False,\n",
       "                    False, False, False, False],\n",
       "        fill_value='?',\n",
       "             dtype=object),\n",
       " 'param_learning_rate': masked_array(data=[0.05, 0.05, 0.15, 0.1, 0.5, 0.1, 0.05, 0.3, 0.1, 0.1,\n",
       "                    0.3, 0.6, 0.2, 0.1, 0.3, 0.5, 0.15, 0.05, 0.3, 0.6],\n",
       "              mask=[False, False, False, False, False, False, False, False,\n",
       "                    False, False, False, False, False, False, False, False,\n",
       "                    False, False, False, False],\n",
       "        fill_value='?',\n",
       "             dtype=object),\n",
       " 'param_gamma': masked_array(data=[0.1, 0.1, 0.4, 0.4, 0.3, 0.3, 0.3, 0.2, 0.3, 0.2, 0.3,\n",
       "                    0.0, 0.1, 0.2, 0.1, 0.2, 0.1, 0.4, 0.3, 0.4],\n",
       "              mask=[False, False, False, False, False, False, False, False,\n",
       "                    False, False, False, False, False, False, False, False,\n",
       "                    False, False, False, False],\n",
       "        fill_value='?',\n",
       "             dtype=object),\n",
       " 'param_eta': masked_array(data=[14, 31, 13, 83, 51, 52, 16, 7, 10, 9, 55, 94, 42, 3,\n",
       "                    54, 8, 88, 39, 70, 19],\n",
       "              mask=[False, False, False, False, False, False, False, False,\n",
       "                    False, False, False, False, False, False, False, False,\n",
       "                    False, False, False, False],\n",
       "        fill_value='?',\n",
       "             dtype=object),\n",
       " 'params': [{'subsample': 0.6500000000000001,\n",
       "   'n_estimators': 29,\n",
       "   'min_child_weight': 5,\n",
       "   'max_depth': 6,\n",
       "   'learning_rate': 0.05,\n",
       "   'gamma': 0.1,\n",
       "   'eta': 14},\n",
       "  {'subsample': 0.8100000000000003,\n",
       "   'n_estimators': 60,\n",
       "   'min_child_weight': 4,\n",
       "   'max_depth': 8,\n",
       "   'learning_rate': 0.05,\n",
       "   'gamma': 0.1,\n",
       "   'eta': 31},\n",
       "  {'subsample': 0.8200000000000003,\n",
       "   'n_estimators': 84,\n",
       "   'min_child_weight': 1,\n",
       "   'max_depth': 6,\n",
       "   'learning_rate': 0.15,\n",
       "   'gamma': 0.4,\n",
       "   'eta': 13},\n",
       "  {'subsample': 0.8400000000000003,\n",
       "   'n_estimators': 58,\n",
       "   'min_child_weight': 3,\n",
       "   'max_depth': 4,\n",
       "   'learning_rate': 0.1,\n",
       "   'gamma': 0.4,\n",
       "   'eta': 83},\n",
       "  {'subsample': 0.7000000000000002,\n",
       "   'n_estimators': 5,\n",
       "   'min_child_weight': 3,\n",
       "   'max_depth': 7,\n",
       "   'learning_rate': 0.5,\n",
       "   'gamma': 0.3,\n",
       "   'eta': 51},\n",
       "  {'subsample': 0.5700000000000001,\n",
       "   'n_estimators': 79,\n",
       "   'min_child_weight': 1,\n",
       "   'max_depth': 7,\n",
       "   'learning_rate': 0.1,\n",
       "   'gamma': 0.3,\n",
       "   'eta': 52},\n",
       "  {'subsample': 0.7300000000000002,\n",
       "   'n_estimators': 76,\n",
       "   'min_child_weight': 1,\n",
       "   'max_depth': 3,\n",
       "   'learning_rate': 0.05,\n",
       "   'gamma': 0.3,\n",
       "   'eta': 16},\n",
       "  {'subsample': 0.6400000000000001,\n",
       "   'n_estimators': 19,\n",
       "   'min_child_weight': 3,\n",
       "   'max_depth': 3,\n",
       "   'learning_rate': 0.3,\n",
       "   'gamma': 0.2,\n",
       "   'eta': 7},\n",
       "  {'subsample': 0.5900000000000001,\n",
       "   'n_estimators': 27,\n",
       "   'min_child_weight': 2,\n",
       "   'max_depth': 9,\n",
       "   'learning_rate': 0.1,\n",
       "   'gamma': 0.3,\n",
       "   'eta': 10},\n",
       "  {'subsample': 0.8600000000000003,\n",
       "   'n_estimators': 78,\n",
       "   'min_child_weight': 3,\n",
       "   'max_depth': 4,\n",
       "   'learning_rate': 0.1,\n",
       "   'gamma': 0.2,\n",
       "   'eta': 9},\n",
       "  {'subsample': 0.6600000000000001,\n",
       "   'n_estimators': 82,\n",
       "   'min_child_weight': 5,\n",
       "   'max_depth': 9,\n",
       "   'learning_rate': 0.3,\n",
       "   'gamma': 0.3,\n",
       "   'eta': 55},\n",
       "  {'subsample': 0.7200000000000002,\n",
       "   'n_estimators': 39,\n",
       "   'min_child_weight': 4,\n",
       "   'max_depth': 9,\n",
       "   'learning_rate': 0.6,\n",
       "   'gamma': 0.0,\n",
       "   'eta': 94},\n",
       "  {'subsample': 0.5800000000000001,\n",
       "   'n_estimators': 43,\n",
       "   'min_child_weight': 4,\n",
       "   'max_depth': 3,\n",
       "   'learning_rate': 0.2,\n",
       "   'gamma': 0.1,\n",
       "   'eta': 42},\n",
       "  {'subsample': 0.7900000000000003,\n",
       "   'n_estimators': 79,\n",
       "   'min_child_weight': 1,\n",
       "   'max_depth': 9,\n",
       "   'learning_rate': 0.1,\n",
       "   'gamma': 0.2,\n",
       "   'eta': 3},\n",
       "  {'subsample': 0.8500000000000003,\n",
       "   'n_estimators': 74,\n",
       "   'min_child_weight': 2,\n",
       "   'max_depth': 8,\n",
       "   'learning_rate': 0.3,\n",
       "   'gamma': 0.1,\n",
       "   'eta': 54},\n",
       "  {'subsample': 0.6600000000000001,\n",
       "   'n_estimators': 86,\n",
       "   'min_child_weight': 4,\n",
       "   'max_depth': 4,\n",
       "   'learning_rate': 0.5,\n",
       "   'gamma': 0.2,\n",
       "   'eta': 8},\n",
       "  {'subsample': 0.9200000000000004,\n",
       "   'n_estimators': 30,\n",
       "   'min_child_weight': 3,\n",
       "   'max_depth': 9,\n",
       "   'learning_rate': 0.15,\n",
       "   'gamma': 0.1,\n",
       "   'eta': 88},\n",
       "  {'subsample': 0.8700000000000003,\n",
       "   'n_estimators': 34,\n",
       "   'min_child_weight': 5,\n",
       "   'max_depth': 5,\n",
       "   'learning_rate': 0.05,\n",
       "   'gamma': 0.4,\n",
       "   'eta': 39},\n",
       "  {'subsample': 0.56,\n",
       "   'n_estimators': 52,\n",
       "   'min_child_weight': 1,\n",
       "   'max_depth': 7,\n",
       "   'learning_rate': 0.3,\n",
       "   'gamma': 0.3,\n",
       "   'eta': 70},\n",
       "  {'subsample': 0.55,\n",
       "   'n_estimators': 16,\n",
       "   'min_child_weight': 1,\n",
       "   'max_depth': 3,\n",
       "   'learning_rate': 0.6,\n",
       "   'gamma': 0.4,\n",
       "   'eta': 19}],\n",
       " 'split0_test_score': array([0.85744851, 0.90764809, 0.92565863, 0.88842408, 0.8829315 ,\n",
       "        0.92259301, 0.83729842, 0.85087019, 0.90940444, 0.90311352,\n",
       "        0.92585023, 0.91748363, 0.8868274 , 0.92671244, 0.92786205,\n",
       "        0.92588217, 0.91761137, 0.85157273, 0.9265847 , 0.88510299]),\n",
       " 'split1_test_score': array([0.85543669, 0.90892544, 0.9262973 , 0.89011656, 0.87849274,\n",
       "        0.92275267, 0.83803289, 0.85473415, 0.90828676, 0.90410346,\n",
       "        0.92489222, 0.91821811, 0.88408111, 0.92744691, 0.92735111,\n",
       "        0.92738304, 0.91860131, 0.84761297, 0.92770238, 0.88475172]),\n",
       " 'split2_test_score': array([0.86641758, 0.90911413, 0.92696557, 0.89499904, 0.89225267,\n",
       "        0.9232931 , 0.8317366 , 0.86351153, 0.90905027, 0.90502651,\n",
       "        0.92524111, 0.92009964, 0.89075174, 0.92581593, 0.9268059 ,\n",
       "        0.92559239, 0.91786421, 0.85131251, 0.92473015, 0.88283196]),\n",
       " 'mean_test_score': array([0.85976752, 0.90856255, 0.92630716, 0.89117985, 0.88455889,\n",
       "        0.92287959, 0.83568935, 0.85637188, 0.90891382, 0.90408115,\n",
       "        0.92532785, 0.91860044, 0.88722005, 0.92665843, 0.92733969,\n",
       "        0.92628587, 0.91802563, 0.85016606, 0.9263391 , 0.8842289 ]),\n",
       " 'std_test_score': array([0.00477341, 0.0006512 , 0.0005336 , 0.00278752, 0.00573411,\n",
       "        0.00029957, 0.00281101, 0.00528913, 0.00046638, 0.00078113,\n",
       "        0.00039589, 0.00110166, 0.00273738, 0.00066694, 0.00043124,\n",
       "        0.00078479, 0.00041995, 0.00180845, 0.00122577, 0.00099813]),\n",
       " 'rank_test_score': array([17, 11,  4, 13, 15,  7, 20, 18, 10, 12,  6,  8, 14,  2,  1,  5,  9,\n",
       "        19,  3, 16])}"
      ]
     },
     "execution_count": 38,
     "metadata": {},
     "output_type": "execute_result"
    }
   ],
   "source": [
    "rs.cv_results_"
   ]
  },
  {
   "cell_type": "code",
   "execution_count": 39,
   "metadata": {},
   "outputs": [
    {
     "name": "stdout",
     "output_type": "stream",
     "text": [
      "Best accuracy Obtained: 0.9273396917312442\n",
      "Best Parameters: \n",
      "\tsubsample:0.8500000000000003\n",
      "\tn_estimators:74\n",
      "\tmin_child_weight:2\n",
      "\tmax_depth:8\n",
      "\tlearning_rate:0.3\n",
      "\tgamma:0.1\n",
      "\teta:54\n"
     ]
    }
   ],
   "source": [
    "print(\"Best accuracy Obtained: {0}\".format(rs.best_score_))\n",
    "print(\"Best Parameters: \")\n",
    "for key, value in rs.best_params_.items():\n",
    "    print(\"\\t{}:{}\".format(key, value))\n"
   ]
  },
  {
   "cell_type": "code",
   "execution_count": 40,
   "metadata": {},
   "outputs": [
    {
     "name": "stdout",
     "output_type": "stream",
     "text": [
      "Confusion Matrix: \n",
      "[[11521   281]\n",
      " [ 1380 10304]]\n",
      "Accuracy =  0.9292770160946947\n",
      "Precision =  0.9734529995276334\n",
      "Recall =  0.8818897637795275\n",
      "F1 Score =  0.9254120077237415\n",
      "AUC Score = 0.9290401199850018\n",
      "Kappa score =  0.8584839176239535\n",
      "Error rate =  0.07072298390530529\n",
      "AUC-ROC Curve: \n"
     ]
    },
    {
     "data": {
      "image/png": "[encoded data removed]",
      "text/plain": [
       "<Figure size 432x288 with 1 Axes>"
      ]
     },
     "metadata": {
      "needs_background": "light"
     },
     "output_type": "display_data"
    },
    {
     "name": "stdout",
     "output_type": "stream",
     "text": [
      "Mean accuracy:  0.9293089571361774\n",
      "Variance:  0.0015745839604320226\n"
     ]
    }
   ],
   "source": [
    "#XGBoost after Parameter tuning\n",
    "import xgboost as xgb\n",
    "xgbc = xgb.XGBClassifier(subsample = 0.8500000000000003,\n",
    "        n_estimators = 74,\n",
    "        min_child_weight = 2,\n",
    "        max_depth = 8,\n",
    "        learning_rate = 0.3,\n",
    "        gamma = 0.1,\n",
    "        eta = 54)\n",
    "xgbc.fit(X_train,y_train)\n",
    "pred_y = xgbc.predict(X_test)\n",
    "model_report(y_test,pred_y)\n",
    "KFold_Cross_Validation(xgbc,10)"
   ]
  },
  {
   "cell_type": "code",
   "execution_count": 41,
   "metadata": {},
   "outputs": [
    {
     "name": "stdout",
     "output_type": "stream",
     "text": [
      "Confusion Matrix: \n",
      "[[ 9947  1855]\n",
      " [ 1683 10001]]\n",
      "Accuracy =  0.8493570637826791\n",
      "Precision =  0.8435391363022942\n",
      "Recall =  0.8559568640876413\n",
      "F1 Score =  0.8497026338147833\n",
      "AUC Score = 0.8493900571921006\n",
      "Kappa score =  0.6987286932232253\n",
      "Error rate =  0.15064293621732094\n",
      "AUC-ROC Curve: \n"
     ]
    },
    {
     "data": {
      "image/png": "[encoded data removed]",
      "text/plain": [
       "<Figure size 432x288 with 1 Axes>"
      ]
     },
     "metadata": {
      "needs_background": "light"
     },
     "output_type": "display_data"
    },
    {
     "name": "stdout",
     "output_type": "stream",
     "text": [
      "Mean accuracy:  0.8503897086083466\n",
      "Variance:  0.006031268408444062\n"
     ]
    }
   ],
   "source": [
    "#AdaBoost without Parameter tuning\n",
    "from sklearn.ensemble import AdaBoostClassifier \n",
    "abc = AdaBoostClassifier()\n",
    "abc.fit(X_train,y_train)\n",
    "pred_y = abc.predict(X_test)\n",
    "model_report(y_test,pred_y)\n",
    "KFold_Cross_Validation(abc,10)"
   ]
  },
  {
   "cell_type": "code",
   "execution_count": 42,
   "metadata": {},
   "outputs": [
    {
     "name": "stderr",
     "output_type": "stream",
     "text": [
      "C:\\Users\\Siddhanth\\Anaconda3\\lib\\site-packages\\sklearn\\model_selection\\_split.py:1978: FutureWarning: The default value of cv will change from 3 to 5 in version 0.22. Specify it explicitly to silence this warning.\n",
      "  warnings.warn(CV_WARNING, FutureWarning)\n",
      "[Parallel(n_jobs=4)]: Using backend LokyBackend with 4 concurrent workers.\n"
     ]
    },
    {
     "name": "stdout",
     "output_type": "stream",
     "text": [
      "Fitting 3 folds for each of 20 candidates, totalling 60 fits\n"
     ]
    },
    {
     "name": "stderr",
     "output_type": "stream",
     "text": [
      "[Parallel(n_jobs=4)]: Done   5 tasks      | elapsed:   11.0s\n",
      "[Parallel(n_jobs=4)]: Done  10 tasks      | elapsed:   21.3s\n",
      "[Parallel(n_jobs=4)]: Done  17 tasks      | elapsed:   34.5s\n",
      "[Parallel(n_jobs=4)]: Done  24 tasks      | elapsed:   46.0s\n",
      "[Parallel(n_jobs=4)]: Done  33 tasks      | elapsed:  1.1min\n",
      "[Parallel(n_jobs=4)]: Done  42 tasks      | elapsed:  1.4min\n",
      "[Parallel(n_jobs=4)]: Done  53 tasks      | elapsed:  1.6min\n",
      "[Parallel(n_jobs=4)]: Done  60 out of  60 | elapsed:  1.7min remaining:    0.0s\n",
      "[Parallel(n_jobs=4)]: Done  60 out of  60 | elapsed:  1.7min finished\n"
     ]
    },
    {
     "data": {
      "text/plain": [
       "RandomizedSearchCV(cv='warn', error_score='raise-deprecating',\n",
       "                   estimator=AdaBoostClassifier(algorithm='SAMME.R',\n",
       "                                                base_estimator=None,\n",
       "                                                learning_rate=1.0,\n",
       "                                                n_estimators=50,\n",
       "                                                random_state=None),\n",
       "                   iid='warn', n_iter=20, n_jobs=4,\n",
       "                   param_distributions={'learning_rate': [0.05, 0.1, 0.15, 0.2,\n",
       "                                                          0.25, 0.3, 0.5, 0.6,\n",
       "                                                          0.7, 0.8, 0.9, 1.0],\n",
       "                                        'n_estimators': range(1, 100)},\n",
       "                   pre_dispatch='2*n_jobs', random_state=10, refit=True,\n",
       "                   return_train_score=False, scoring='accuracy', verbose=10)"
      ]
     },
     "execution_count": 42,
     "metadata": {},
     "output_type": "execute_result"
    }
   ],
   "source": [
    "#Hyperparameter Tuning for AdaBoost\n",
    "parameter = {\n",
    "        'n_estimators' : range(1,100,1),\n",
    "        'learning_rate' : [0.05, 0.10, 0.15, 0.20, 0.25, 0.30,0.50,0.60,0.70,0.80,0.90,1.0]\n",
    "        }\n",
    "\n",
    "rs = RandomizedSearchCV(\n",
    "        estimator = abc,\n",
    "        param_distributions = parameter,\n",
    "        n_iter = 20,\n",
    "        scoring ='accuracy',\n",
    "        n_jobs=4,\n",
    "        verbose=10,\n",
    "        random_state=10\n",
    "        )\n",
    "\n",
    "rs.fit(X_train,y_train)"
   ]
  },
  {
   "cell_type": "code",
   "execution_count": 43,
   "metadata": {},
   "outputs": [
    {
     "data": {
      "text/plain": [
       "{'mean_fit_time': array([ 0.97738608, 10.56208364,  4.04850451,  8.51156791,  5.75128357,\n",
       "        11.3895363 ,  4.21306396,  6.75393454,  7.93377884, 10.15982318,\n",
       "         7.40884852,  2.34572601,  8.97798705,  8.14222105, 11.50057276,\n",
       "         1.53323118,  7.75691994,  0.73071154,  3.64923779,  3.104702  ]),\n",
       " 'std_fit_time': array([0.00987208, 0.04248094, 0.00897108, 0.05855267, 0.04886878,\n",
       "        0.02862838, 0.01365896, 0.03208088, 0.04238326, 0.05581985,\n",
       "        0.0315863 , 0.03788083, 0.07491296, 0.03527042, 0.07305852,\n",
       "        0.02217318, 0.04078465, 0.00823791, 0.03939993, 0.12836804]),\n",
       " 'mean_score_time': array([0.05917581, 0.63629937, 0.23935882, 0.45012808, 0.30584836,\n",
       "        0.59407767, 0.22174184, 0.34441257, 0.40824167, 0.51495608,\n",
       "        0.40591447, 0.12200514, 0.46309463, 0.42087619, 0.5714709 ,\n",
       "        0.08709995, 0.39427829, 0.05186057, 0.18119136, 0.15324879]),\n",
       " 'std_score_time': array([0.00169402, 0.00407168, 0.00861777, 0.0189638 , 0.01695323,\n",
       "        0.02418796, 0.00756583, 0.01606874, 0.0114103 , 0.00790952,\n",
       "        0.02240461, 0.00542301, 0.02374536, 0.01938927, 0.00695776,\n",
       "        0.00497605, 0.00308152, 0.01626573, 0.00249893, 0.0132506 ]),\n",
       " 'param_n_estimators': masked_array(data=[8, 90, 34, 72, 48, 97, 36, 58, 68, 88, 64, 20, 77, 70,\n",
       "                    98, 13, 67, 6, 31, 28],\n",
       "              mask=[False, False, False, False, False, False, False, False,\n",
       "                    False, False, False, False, False, False, False, False,\n",
       "                    False, False, False, False],\n",
       "        fill_value='?',\n",
       "             dtype=object),\n",
       " 'param_learning_rate': masked_array(data=[0.9, 0.1, 0.8, 0.9, 0.8, 0.25, 1.0, 0.2, 0.05, 0.05,\n",
       "                    0.15, 0.6, 0.3, 0.05, 0.6, 0.9, 0.8, 0.15, 0.15, 1.0],\n",
       "              mask=[False, False, False, False, False, False, False, False,\n",
       "                    False, False, False, False, False, False, False, False,\n",
       "                    False, False, False, False],\n",
       "        fill_value='?',\n",
       "             dtype=object),\n",
       " 'params': [{'n_estimators': 8, 'learning_rate': 0.9},\n",
       "  {'n_estimators': 90, 'learning_rate': 0.1},\n",
       "  {'n_estimators': 34, 'learning_rate': 0.8},\n",
       "  {'n_estimators': 72, 'learning_rate': 0.9},\n",
       "  {'n_estimators': 48, 'learning_rate': 0.8},\n",
       "  {'n_estimators': 97, 'learning_rate': 0.25},\n",
       "  {'n_estimators': 36, 'learning_rate': 1.0},\n",
       "  {'n_estimators': 58, 'learning_rate': 0.2},\n",
       "  {'n_estimators': 68, 'learning_rate': 0.05},\n",
       "  {'n_estimators': 88, 'learning_rate': 0.05},\n",
       "  {'n_estimators': 64, 'learning_rate': 0.15},\n",
       "  {'n_estimators': 20, 'learning_rate': 0.6},\n",
       "  {'n_estimators': 77, 'learning_rate': 0.3},\n",
       "  {'n_estimators': 70, 'learning_rate': 0.05},\n",
       "  {'n_estimators': 98, 'learning_rate': 0.6},\n",
       "  {'n_estimators': 13, 'learning_rate': 0.9},\n",
       "  {'n_estimators': 67, 'learning_rate': 0.8},\n",
       "  {'n_estimators': 6, 'learning_rate': 0.15},\n",
       "  {'n_estimators': 31, 'learning_rate': 0.15},\n",
       "  {'n_estimators': 28, 'learning_rate': 1.0}],\n",
       " 'split0_test_score': array([0.79786045, 0.78412901, 0.83183778, 0.85486189, 0.84697429,\n",
       "        0.82212997, 0.84620789, 0.79319815, 0.76870509, 0.76870509,\n",
       "        0.78237266, 0.80734472, 0.82043749, 0.76870509, 0.85055085,\n",
       "        0.80325722, 0.84965671, 0.76870509, 0.76870509, 0.82889989]),\n",
       " 'split1_test_score': array([0.79613604, 0.77838097, 0.83119911, 0.8609612 , 0.84077918,\n",
       "        0.82126776, 0.84234392, 0.79977646, 0.76963117, 0.76963117,\n",
       "        0.78007345, 0.80354463, 0.8215871 , 0.76963117, 0.84665496,\n",
       "        0.80159668, 0.84681463, 0.76963117, 0.76963117, 0.83285965]),\n",
       " 'split2_test_score': array([0.79060484, 0.7844734 , 0.82720189, 0.85421856, 0.84102957,\n",
       "        0.82662707, 0.83892189, 0.80258032, 0.77115667, 0.77115667,\n",
       "        0.78102446, 0.81340614, 0.82624385, 0.77115667, 0.85319665,\n",
       "        0.81334228, 0.85156799, 0.77115667, 0.77115667, 0.8392093 ]),\n",
       " 'mean_test_score': array([0.79486715, 0.78232777, 0.83007962, 0.85668058, 0.8429277 ,\n",
       "        0.82334157, 0.84249127, 0.79851827, 0.76983096, 0.76983096,\n",
       "        0.78115686, 0.80809844, 0.82275611, 0.76983096, 0.85013412,\n",
       "        0.80606532, 0.84934642, 0.76983096, 0.76983096, 0.83365622]),\n",
       " 'std_test_score': array([0.00309499, 0.00279437, 0.00205147, 0.00303826, 0.00286322,\n",
       "        0.00234968, 0.00297631, 0.00393221, 0.00101077, 0.00101077,\n",
       "        0.00094331, 0.00406106, 0.00251043, 0.00101077, 0.00268684,\n",
       "        0.00518997, 0.00195291, 0.00101077, 0.00101077, 0.00424631]),\n",
       " 'rank_test_score': array([13, 14,  7,  1,  4,  8,  5, 12, 16, 16, 15, 10,  9, 16,  2, 11,  3,\n",
       "        16, 16,  6])}"
      ]
     },
     "execution_count": 43,
     "metadata": {},
     "output_type": "execute_result"
    }
   ],
   "source": [
    "rs.cv_results_"
   ]
  },
  {
   "cell_type": "code",
   "execution_count": 44,
   "metadata": {},
   "outputs": [
    {
     "name": "stdout",
     "output_type": "stream",
     "text": [
      "Best accuracy Obtained: 0.8566805756620965\n",
      "Best Parameters:\n",
      "\tn_estimators:72\n",
      "\tlearning_rate:0.9\n"
     ]
    }
   ],
   "source": [
    "print(\"Best accuracy Obtained: {0}\".format(rs.best_score_))\n",
    "print(\"Best Parameters:\")\n",
    "for key, value in rs.best_params_.items():\n",
    "    print(\"\\t{}:{}\".format(key, value))\n"
   ]
  },
  {
   "cell_type": "code",
   "execution_count": 45,
   "metadata": {},
   "outputs": [
    {
     "name": "stdout",
     "output_type": "stream",
     "text": [
      "Confusion Matrix: \n",
      "[[10000  1802]\n",
      " [ 1673 10011]]\n",
      "Accuracy =  0.8520395129013029\n",
      "Precision =  0.8474561923304834\n",
      "Recall =  0.8568127353646011\n",
      "F1 Score =  0.8521087798442354\n",
      "AUC Score = 0.852063374969201\n",
      "Kappa score =  0.704087888270424\n",
      "Error rate =  0.14796048709869714\n",
      "AUC-ROC Curve: \n"
     ]
    },
    {
     "data": {
      "image/png": "[encoded data removed]",
      "text/plain": [
       "<Figure size 432x288 with 1 Axes>"
      ]
     },
     "metadata": {
      "needs_background": "light"
     },
     "output_type": "display_data"
    },
    {
     "name": "stdout",
     "output_type": "stream",
     "text": [
      "Mean accuracy:  0.855019956805658\n",
      "Variance:  0.005951948773819657\n"
     ]
    }
   ],
   "source": [
    "#After parameter Tuning - AdaBoost\n",
    "from sklearn.ensemble import AdaBoostClassifier \n",
    "abc = AdaBoostClassifier(n_estimators = 72,\n",
    "                         learning_rate = 0.9)\n",
    "abc.fit(X_train,y_train)\n",
    "pred_y = abc.predict(X_test)\n",
    "model_report(y_test,pred_y)\n",
    "KFold_Cross_Validation(abc,10)"
   ]
  },
  {
   "cell_type": "code",
   "execution_count": 46,
   "metadata": {},
   "outputs": [
    {
     "name": "stdout",
     "output_type": "stream",
     "text": [
      "Confusion Matrix: \n",
      "[[11131   671]\n",
      " [ 1770  9914]]\n",
      "Accuracy =  0.896065741292685\n",
      "Precision =  0.9366084081247048\n",
      "Recall =  0.8485107839780897\n",
      "F1 Score =  0.8903857380214648\n",
      "AUC Score = 0.8958280068000938\n",
      "Kappa score =  0.792028442456394\n",
      "Error rate =  0.10393425870731499\n",
      "AUC-ROC Curve: \n"
     ]
    },
    {
     "data": {
      "image/png": "[encoded data removed]",
      "text/plain": [
       "<Figure size 432x288 with 1 Axes>"
      ]
     },
     "metadata": {
      "needs_background": "light"
     },
     "output_type": "display_data"
    },
    {
     "name": "stdout",
     "output_type": "stream",
     "text": [
      "Mean accuracy:  0.8980030800934931\n",
      "Variance:  0.003449267624302614\n"
     ]
    }
   ],
   "source": [
    "#Gradient Boosting Machine\n",
    "from sklearn.ensemble import GradientBoostingClassifier\n",
    "gbc = GradientBoostingClassifier()\n",
    "gbc.fit(X_train,y_train)\n",
    "pred_y = gbc.predict(X_test)\n",
    "model_report(y_test,pred_y)\n",
    "KFold_Cross_Validation(gbc,10)"
   ]
  },
  {
   "cell_type": "code",
   "execution_count": 47,
   "metadata": {},
   "outputs": [
    {
     "name": "stderr",
     "output_type": "stream",
     "text": [
      "C:\\Users\\Siddhanth\\Anaconda3\\lib\\site-packages\\sklearn\\model_selection\\_split.py:1978: FutureWarning: The default value of cv will change from 3 to 5 in version 0.22. Specify it explicitly to silence this warning.\n",
      "  warnings.warn(CV_WARNING, FutureWarning)\n",
      "[Parallel(n_jobs=4)]: Using backend LokyBackend with 4 concurrent workers.\n"
     ]
    },
    {
     "name": "stdout",
     "output_type": "stream",
     "text": [
      "Fitting 3 folds for each of 20 candidates, totalling 60 fits\n"
     ]
    },
    {
     "name": "stderr",
     "output_type": "stream",
     "text": [
      "[Parallel(n_jobs=4)]: Done   5 tasks      | elapsed:   48.8s\n",
      "[Parallel(n_jobs=4)]: Done  10 tasks      | elapsed:   51.3s\n",
      "[Parallel(n_jobs=4)]: Done  17 tasks      | elapsed:  1.2min\n",
      "[Parallel(n_jobs=4)]: Done  24 tasks      | elapsed:  2.2min\n",
      "[Parallel(n_jobs=4)]: Done  33 tasks      | elapsed:  3.1min\n",
      "[Parallel(n_jobs=4)]: Done  42 tasks      | elapsed:  4.0min\n",
      "[Parallel(n_jobs=4)]: Done  53 tasks      | elapsed:  5.1min\n",
      "[Parallel(n_jobs=4)]: Done  60 out of  60 | elapsed:  5.4min remaining:    0.0s\n",
      "[Parallel(n_jobs=4)]: Done  60 out of  60 | elapsed:  5.4min finished\n"
     ]
    },
    {
     "data": {
      "text/plain": [
       "RandomizedSearchCV(cv='warn', error_score='raise-deprecating',\n",
       "                   estimator=GradientBoostingClassifier(criterion='friedman_mse',\n",
       "                                                        init=None,\n",
       "                                                        learning_rate=0.1,\n",
       "                                                        loss='deviance',\n",
       "                                                        max_depth=3,\n",
       "                                                        max_features=None,\n",
       "                                                        max_leaf_nodes=None,\n",
       "                                                        min_impurity_decrease=0.0,\n",
       "                                                        min_impurity_split=None,\n",
       "                                                        min_samples_leaf=1,\n",
       "                                                        min_samples_split=2,\n",
       "                                                        min_weight_fraction_leaf=0.0,\n",
       "                                                        n_estimators=10...\n",
       "                                        'subsample': array([0.5 , 0.51, 0.52, 0.53, 0.54, 0.55, 0.56, 0.57, 0.58, 0.59, 0.6 ,\n",
       "       0.61, 0.62, 0.63, 0.64, 0.65, 0.66, 0.67, 0.68, 0.69, 0.7 , 0.71,\n",
       "       0.72, 0.73, 0.74, 0.75, 0.76, 0.77, 0.78, 0.79, 0.8 , 0.81, 0.82,\n",
       "       0.83, 0.84, 0.85, 0.86, 0.87, 0.88, 0.89, 0.9 , 0.91, 0.92, 0.93,\n",
       "       0.94, 0.95, 0.96, 0.97, 0.98, 0.99])},\n",
       "                   pre_dispatch='2*n_jobs', random_state=10, refit=True,\n",
       "                   return_train_score=False, scoring='accuracy', verbose=10)"
      ]
     },
     "execution_count": 47,
     "metadata": {},
     "output_type": "execute_result"
    }
   ],
   "source": [
    "#HyperParameter Tuning for Gradient Boosting Machine\n",
    "parameter = {\n",
    "        'n_estimators' : range(1,100,1),\n",
    "        'learning_rate' : [0.05, 0.10, 0.15, 0.20, 0.25, 0.30,0.50,0.60,0.70,0.80,0.90,1.0],\n",
    "        'subsample' : np.arange(0.5,1,0.01),\n",
    "        'min_samples_split' : range(50,500,50),\n",
    "        'min_samples_leaf' : range(10,400,20),\n",
    "        'max_depth' : np.arange(3,10,1)\n",
    "        \n",
    "        }\n",
    "\n",
    "rs = RandomizedSearchCV(\n",
    "        estimator = gbc,\n",
    "        param_distributions = parameter,\n",
    "        n_iter = 20,\n",
    "        scoring ='accuracy',\n",
    "        n_jobs=4,\n",
    "        verbose=10,\n",
    "        random_state=10\n",
    "        )\n",
    "\n",
    "rs.fit(X_train,y_train)"
   ]
  },
  {
   "cell_type": "code",
   "execution_count": 48,
   "metadata": {},
   "outputs": [
    {
     "data": {
      "text/plain": [
       "{'mean_fit_time': array([46.92253256,  7.74675806, 12.08128222,  2.26268514,  5.03479608,\n",
       "        14.08413053, 46.27529565, 29.58424107, 13.81946619,  2.46226104,\n",
       "        47.83344905, 26.10028712, 36.14150771, 18.48519866,  9.21705182,\n",
       "        11.90974069, 48.16912484, 27.29884402,  9.57626891,  8.02206914]),\n",
       " 'std_fit_time': array([0.11783453, 0.16214595, 0.33416488, 0.02717845, 0.02333031,\n",
       "        0.07178918, 0.62623474, 1.43968491, 0.13489534, 0.07470151,\n",
       "        0.62743396, 0.15273792, 0.55951619, 0.00709255, 0.09514619,\n",
       "        0.06831246, 0.37319294, 0.24489637, 0.04982589, 1.55839577]),\n",
       " 'mean_score_time': array([0.19621174, 0.05455438, 0.06913185, 0.02137327, 0.04027001,\n",
       "        0.06954328, 0.23568869, 0.12201492, 0.0555745 , 0.02426076,\n",
       "        0.17456285, 0.11878419, 0.13949188, 0.1022052 , 0.04202819,\n",
       "        0.06644869, 0.21239018, 0.11656356, 0.05149913, 0.03714927]),\n",
       " 'std_score_time': array([0.01253863, 0.00132616, 0.0015376 , 0.00226304, 0.00277795,\n",
       "        0.0028359 , 0.02669703, 0.01061343, 0.00502545, 0.0033314 ,\n",
       "        0.01126013, 0.00243092, 0.00329944, 0.00859572, 0.0039192 ,\n",
       "        0.00181756, 0.0070681 , 0.01708403, 0.00080835, 0.00578356]),\n",
       " 'param_subsample': masked_array(data=[0.7200000000000002, 0.6300000000000001,\n",
       "                    0.6000000000000001, 0.53, 0.6400000000000001,\n",
       "                    0.5900000000000001, 0.6400000000000001,\n",
       "                    0.8600000000000003, 0.9200000000000004, 0.52,\n",
       "                    0.7900000000000003, 0.6600000000000001,\n",
       "                    0.8000000000000003, 0.8100000000000003,\n",
       "                    0.9600000000000004, 0.7000000000000002,\n",
       "                    0.7600000000000002, 0.56, 0.8500000000000003,\n",
       "                    0.8100000000000003],\n",
       "              mask=[False, False, False, False, False, False, False, False,\n",
       "                    False, False, False, False, False, False, False, False,\n",
       "                    False, False, False, False],\n",
       "        fill_value='?',\n",
       "             dtype=object),\n",
       " 'param_n_estimators': masked_array(data=[81, 16, 50, 9, 19, 27, 96, 78, 18, 5, 79, 86, 53, 95,\n",
       "                    23, 62, 90, 92, 16, 14],\n",
       "              mask=[False, False, False, False, False, False, False, False,\n",
       "                    False, False, False, False, False, False, False, False,\n",
       "                    False, False, False, False],\n",
       "        fill_value='?',\n",
       "             dtype=object),\n",
       " 'param_min_samples_split': masked_array(data=[350, 350, 450, 200, 150, 350, 400, 200, 150, 250, 300,\n",
       "                    200, 400, 300, 50, 350, 50, 200, 200, 50],\n",
       "              mask=[False, False, False, False, False, False, False, False,\n",
       "                    False, False, False, False, False, False, False, False,\n",
       "                    False, False, False, False],\n",
       "        fill_value='?',\n",
       "             dtype=object),\n",
       " 'param_min_samples_leaf': masked_array(data=[270, 230, 50, 370, 310, 10, 390, 230, 250, 310, 10,\n",
       "                    310, 90, 230, 90, 190, 250, 90, 350, 230],\n",
       "              mask=[False, False, False, False, False, False, False, False,\n",
       "                    False, False, False, False, False, False, False, False,\n",
       "                    False, False, False, False],\n",
       "        fill_value='?',\n",
       "             dtype=object),\n",
       " 'param_max_depth': masked_array(data=[9, 8, 4, 4, 4, 8, 8, 5, 9, 8, 8, 5, 9, 3, 5, 3, 8, 5,\n",
       "                    9, 9],\n",
       "              mask=[False, False, False, False, False, False, False, False,\n",
       "                    False, False, False, False, False, False, False, False,\n",
       "                    False, False, False, False],\n",
       "        fill_value='?',\n",
       "             dtype=object),\n",
       " 'param_learning_rate': masked_array(data=[0.3, 0.2, 0.25, 0.6, 0.6, 0.9, 0.7, 0.8, 0.9, 0.15,\n",
       "                    0.15, 0.7, 0.9, 0.05, 0.6, 0.15, 0.1, 0.6, 0.3, 0.6],\n",
       "              mask=[False, False, False, False, False, False, False, False,\n",
       "                    False, False, False, False, False, False, False, False,\n",
       "                    False, False, False, False],\n",
       "        fill_value='?',\n",
       "             dtype=object),\n",
       " 'params': [{'subsample': 0.7200000000000002,\n",
       "   'n_estimators': 81,\n",
       "   'min_samples_split': 350,\n",
       "   'min_samples_leaf': 270,\n",
       "   'max_depth': 9,\n",
       "   'learning_rate': 0.3},\n",
       "  {'subsample': 0.6300000000000001,\n",
       "   'n_estimators': 16,\n",
       "   'min_samples_split': 350,\n",
       "   'min_samples_leaf': 230,\n",
       "   'max_depth': 8,\n",
       "   'learning_rate': 0.2},\n",
       "  {'subsample': 0.6000000000000001,\n",
       "   'n_estimators': 50,\n",
       "   'min_samples_split': 450,\n",
       "   'min_samples_leaf': 50,\n",
       "   'max_depth': 4,\n",
       "   'learning_rate': 0.25},\n",
       "  {'subsample': 0.53,\n",
       "   'n_estimators': 9,\n",
       "   'min_samples_split': 200,\n",
       "   'min_samples_leaf': 370,\n",
       "   'max_depth': 4,\n",
       "   'learning_rate': 0.6},\n",
       "  {'subsample': 0.6400000000000001,\n",
       "   'n_estimators': 19,\n",
       "   'min_samples_split': 150,\n",
       "   'min_samples_leaf': 310,\n",
       "   'max_depth': 4,\n",
       "   'learning_rate': 0.6},\n",
       "  {'subsample': 0.5900000000000001,\n",
       "   'n_estimators': 27,\n",
       "   'min_samples_split': 350,\n",
       "   'min_samples_leaf': 10,\n",
       "   'max_depth': 8,\n",
       "   'learning_rate': 0.9},\n",
       "  {'subsample': 0.6400000000000001,\n",
       "   'n_estimators': 96,\n",
       "   'min_samples_split': 400,\n",
       "   'min_samples_leaf': 390,\n",
       "   'max_depth': 8,\n",
       "   'learning_rate': 0.7},\n",
       "  {'subsample': 0.8600000000000003,\n",
       "   'n_estimators': 78,\n",
       "   'min_samples_split': 200,\n",
       "   'min_samples_leaf': 230,\n",
       "   'max_depth': 5,\n",
       "   'learning_rate': 0.8},\n",
       "  {'subsample': 0.9200000000000004,\n",
       "   'n_estimators': 18,\n",
       "   'min_samples_split': 150,\n",
       "   'min_samples_leaf': 250,\n",
       "   'max_depth': 9,\n",
       "   'learning_rate': 0.9},\n",
       "  {'subsample': 0.52,\n",
       "   'n_estimators': 5,\n",
       "   'min_samples_split': 250,\n",
       "   'min_samples_leaf': 310,\n",
       "   'max_depth': 8,\n",
       "   'learning_rate': 0.15},\n",
       "  {'subsample': 0.7900000000000003,\n",
       "   'n_estimators': 79,\n",
       "   'min_samples_split': 300,\n",
       "   'min_samples_leaf': 10,\n",
       "   'max_depth': 8,\n",
       "   'learning_rate': 0.15},\n",
       "  {'subsample': 0.6600000000000001,\n",
       "   'n_estimators': 86,\n",
       "   'min_samples_split': 200,\n",
       "   'min_samples_leaf': 310,\n",
       "   'max_depth': 5,\n",
       "   'learning_rate': 0.7},\n",
       "  {'subsample': 0.8000000000000003,\n",
       "   'n_estimators': 53,\n",
       "   'min_samples_split': 400,\n",
       "   'min_samples_leaf': 90,\n",
       "   'max_depth': 9,\n",
       "   'learning_rate': 0.9},\n",
       "  {'subsample': 0.8100000000000003,\n",
       "   'n_estimators': 95,\n",
       "   'min_samples_split': 300,\n",
       "   'min_samples_leaf': 230,\n",
       "   'max_depth': 3,\n",
       "   'learning_rate': 0.05},\n",
       "  {'subsample': 0.9600000000000004,\n",
       "   'n_estimators': 23,\n",
       "   'min_samples_split': 50,\n",
       "   'min_samples_leaf': 90,\n",
       "   'max_depth': 5,\n",
       "   'learning_rate': 0.6},\n",
       "  {'subsample': 0.7000000000000002,\n",
       "   'n_estimators': 62,\n",
       "   'min_samples_split': 350,\n",
       "   'min_samples_leaf': 190,\n",
       "   'max_depth': 3,\n",
       "   'learning_rate': 0.15},\n",
       "  {'subsample': 0.7600000000000002,\n",
       "   'n_estimators': 90,\n",
       "   'min_samples_split': 50,\n",
       "   'min_samples_leaf': 250,\n",
       "   'max_depth': 8,\n",
       "   'learning_rate': 0.1},\n",
       "  {'subsample': 0.56,\n",
       "   'n_estimators': 92,\n",
       "   'min_samples_split': 200,\n",
       "   'min_samples_leaf': 90,\n",
       "   'max_depth': 5,\n",
       "   'learning_rate': 0.6},\n",
       "  {'subsample': 0.8500000000000003,\n",
       "   'n_estimators': 16,\n",
       "   'min_samples_split': 200,\n",
       "   'min_samples_leaf': 350,\n",
       "   'max_depth': 9,\n",
       "   'learning_rate': 0.3},\n",
       "  {'subsample': 0.8100000000000003,\n",
       "   'n_estimators': 14,\n",
       "   'min_samples_split': 50,\n",
       "   'min_samples_leaf': 230,\n",
       "   'max_depth': 9,\n",
       "   'learning_rate': 0.6}],\n",
       " 'split0_test_score': array([0.9260099 , 0.89679068, 0.91796264, 0.88024908, 0.90764809,\n",
       "        0.91390707, 0.91646176, 0.92195433, 0.92077279, 0.84560115,\n",
       "        0.92757464, 0.9223056 , 0.91080952, 0.86370749, 0.91978285,\n",
       "        0.89621587, 0.92428549, 0.92102826, 0.91320453, 0.92179467]),\n",
       " 'split1_test_score': array([0.92684017, 0.9039438 , 0.91614242, 0.89522593, 0.9126936 ,\n",
       "        0.91361967, 0.91528022, 0.92380648, 0.91914418, 0.86594284,\n",
       "        0.92741498, 0.9217308 , 0.91205493, 0.86555964, 0.92083666,\n",
       "        0.89477886, 0.92492416, 0.92297621, 0.91029858, 0.92112406]),\n",
       " 'split2_test_score': array([0.92473015, 0.89790509, 0.91559686, 0.88848438, 0.91077473,\n",
       "        0.91288242, 0.91457495, 0.92041898, 0.92029124, 0.84387175,\n",
       "        0.92661429, 0.91898193, 0.91090247, 0.8661621 , 0.92016351,\n",
       "        0.89541419, 0.92409146, 0.92128122, 0.91524558, 0.92166443]),\n",
       " 'mean_test_score': array([0.92586009, 0.89954654, 0.91656732, 0.88798646, 0.91037214,\n",
       "        0.91346973, 0.91543898, 0.92205995, 0.9200694 , 0.85180533,\n",
       "        0.92720131, 0.92100613, 0.91125564, 0.86514306, 0.92026101,\n",
       "        0.89546964, 0.92443371, 0.9217619 , 0.91291621, 0.92152772]),\n",
       " 'std_test_score': array([0.0008679 , 0.00314246, 0.00101148, 0.00612443, 0.00207941,\n",
       "        0.00043154, 0.00077842, 0.00138495, 0.00068314, 0.01002171,\n",
       "        0.00042016, 0.00145042, 0.00056646, 0.00104448, 0.00043571,\n",
       "        0.00058797, 0.00035574, 0.00086484, 0.00202986, 0.00029034]),\n",
       " 'rank_test_score': array([ 2, 16, 10, 18, 15, 12, 11,  4,  9, 20,  1,  7, 14, 19,  8, 17,  3,\n",
       "         5, 13,  6])}"
      ]
     },
     "execution_count": 48,
     "metadata": {},
     "output_type": "execute_result"
    }
   ],
   "source": [
    "rs.cv_results_"
   ]
  },
  {
   "cell_type": "code",
   "execution_count": 49,
   "metadata": {},
   "outputs": [
    {
     "name": "stdout",
     "output_type": "stream",
     "text": [
      "Best accuracy Obtained: 0.9272013114195691\n",
      "Parameters\n",
      "\tsubsample:0.7900000000000003\n",
      "\tn_estimators:79\n",
      "\tmin_samples_split:300\n",
      "\tmin_samples_leaf:10\n",
      "\tmax_depth:8\n",
      "\tlearning_rate:0.15\n"
     ]
    }
   ],
   "source": [
    "print(\"Best accuracy Obtained: {0}\".format(rs.best_score_))\n",
    "print(\"Parameters\")\n",
    "for key, value in rs.best_params_.items():\n",
    "    print(\"\\t{}:{}\".format(key, value))\n"
   ]
  },
  {
   "cell_type": "code",
   "execution_count": 50,
   "metadata": {},
   "outputs": [
    {
     "name": "stdout",
     "output_type": "stream",
     "text": [
      "Confusion Matrix: \n",
      "[[11571   231]\n",
      " [ 1460 10224]]\n",
      "Accuracy =  0.9279996593715405\n",
      "Precision =  0.9779053084648494\n",
      "Recall =  0.875042793563848\n",
      "F1 Score =  0.923618952978906\n",
      "AUC Score = 0.9277349199135967\n",
      "Kappa score =  0.8559199199878434\n",
      "Error rate =  0.0720003406284595\n",
      "AUC-ROC Curve: \n"
     ]
    },
    {
     "data": {
      "image/png": "[encoded data removed]",
      "text/plain": [
       "<Figure size 432x288 with 1 Axes>"
      ]
     },
     "metadata": {
      "needs_background": "light"
     },
     "output_type": "display_data"
    },
    {
     "name": "stdout",
     "output_type": "stream",
     "text": [
      "Mean accuracy:  0.9284999550213302\n",
      "Variance:  0.001942578402890679\n"
     ]
    }
   ],
   "source": [
    "#After parameter Tuning Gradient Boosting Machine\n",
    "from sklearn.ensemble import GradientBoostingClassifier\n",
    "gbc = GradientBoostingClassifier(subsample = 0.7900000000000003,\n",
    "        n_estimators = 79,\n",
    "        min_samples_split = 300,\n",
    "        min_samples_leaf = 10,\n",
    "        max_depth = 8,\n",
    "        learning_rate = 0.15)\n",
    "gbc.fit(X_train,y_train)\n",
    "pred_y = gbc.predict(X_test)\n",
    "model_report(y_test,pred_y)\n",
    "KFold_Cross_Validation(gbc,10)"
   ]
  },
  {
   "cell_type": "code",
   "execution_count": 51,
   "metadata": {},
   "outputs": [],
   "source": [
    "#Adding Readability features in the feature set\n",
    "X = combined_df.drop(columns=['reviewerID','reviewContent','flagged','flagged_code','ReviewID','restaurantID',\n",
    "                              'reviewContentNew'])\n",
    "X = X.iloc[:,:].values\n",
    "y = combined_df.iloc[:,combined_df.columns.get_loc('flagged_code')].values"
   ]
  },
  {
   "cell_type": "code",
   "execution_count": 52,
   "metadata": {},
   "outputs": [
    {
     "name": "stdout",
     "output_type": "stream",
     "text": [
      "Classes before SMOTE : \n",
      "Count of label '1' = 8301\n",
      "Count of label '0' = 58715\n"
     ]
    }
   ],
   "source": [
    "#Class instances after upsampling using SMOTE\n",
    "print(\"Classes before SMOTE : \")\n",
    "print(\"Count of label '1' = {}\".format(sum(y==1)))\n",
    "print(\"Count of label '0' = {}\".format(sum(y==0)))"
   ]
  },
  {
   "cell_type": "code",
   "execution_count": 53,
   "metadata": {},
   "outputs": [],
   "source": [
    "#Handling Class imbalance using SMOTE\n",
    "from imblearn.over_sampling import SMOTE\n",
    "sm = SMOTE()\n",
    "X, y = sm.fit_sample(X, y)"
   ]
  },
  {
   "cell_type": "code",
   "execution_count": 54,
   "metadata": {},
   "outputs": [
    {
     "name": "stdout",
     "output_type": "stream",
     "text": [
      "Classes after SMOTE : \n",
      "Count of label '1' = 58715\n",
      "Count of label '0' = 58715\n"
     ]
    }
   ],
   "source": [
    "#Class instances after upsampling using SMOTE\n",
    "print(\"Classes after SMOTE : \")\n",
    "print(\"Count of label '1' = {}\".format(sum(y==1)))\n",
    "print(\"Count of label '0' = {}\".format(sum(y==0)))"
   ]
  },
  {
   "cell_type": "code",
   "execution_count": 55,
   "metadata": {},
   "outputs": [
    {
     "name": "stdout",
     "output_type": "stream",
     "text": [
      "Iteration: \t1 / 100\n",
      "Confirmed: \t0\n",
      "Tentative: \t25\n",
      "Rejected: \t0\n",
      "Iteration: \t2 / 100\n",
      "Confirmed: \t0\n",
      "Tentative: \t25\n",
      "Rejected: \t0\n",
      "Iteration: \t3 / 100\n",
      "Confirmed: \t0\n",
      "Tentative: \t25\n",
      "Rejected: \t0\n",
      "Iteration: \t4 / 100\n",
      "Confirmed: \t0\n",
      "Tentative: \t25\n",
      "Rejected: \t0\n",
      "Iteration: \t5 / 100\n",
      "Confirmed: \t0\n",
      "Tentative: \t25\n",
      "Rejected: \t0\n",
      "Iteration: \t6 / 100\n",
      "Confirmed: \t0\n",
      "Tentative: \t25\n",
      "Rejected: \t0\n",
      "Iteration: \t7 / 100\n",
      "Confirmed: \t0\n",
      "Tentative: \t25\n",
      "Rejected: \t0\n",
      "Iteration: \t8 / 100\n",
      "Confirmed: \t25\n",
      "Tentative: \t0\n",
      "Rejected: \t0\n",
      "\n",
      "\n",
      "BorutaPy finished running.\n",
      "\n",
      "Iteration: \t9 / 100\n",
      "Confirmed: \t25\n",
      "Tentative: \t0\n",
      "Rejected: \t0\n"
     ]
    },
    {
     "data": {
      "text/plain": [
       "BorutaPy(alpha=0.05,\n",
       "         estimator=RandomForestClassifier(bootstrap=True, class_weight=None,\n",
       "                                          criterion='gini', max_depth=7,\n",
       "                                          max_features='auto',\n",
       "                                          max_leaf_nodes=None,\n",
       "                                          min_impurity_decrease=0.0,\n",
       "                                          min_impurity_split=None,\n",
       "                                          min_samples_leaf=1,\n",
       "                                          min_samples_split=2,\n",
       "                                          min_weight_fraction_leaf=0.0,\n",
       "                                          n_estimators=101, n_jobs=-1,\n",
       "                                          oob_score=False,\n",
       "                                          random_state=<mtrand.RandomState object at 0x0000020DDD20F558>,\n",
       "                                          verbose=0, warm_start=False),\n",
       "         max_iter=100, n_estimators='auto', perc=100,\n",
       "         random_state=<mtrand.RandomState object at 0x0000020DDD20F558>,\n",
       "         two_step=True, verbose=2)"
      ]
     },
     "execution_count": 55,
     "metadata": {},
     "output_type": "execute_result"
    }
   ],
   "source": [
    "#Feature Selection using Boruta Py\n",
    "from sklearn.ensemble import RandomForestClassifier\n",
    "from boruta import BorutaPy\n",
    "rfc = RandomForestClassifier(n_jobs=-1, class_weight=None, max_depth=7, random_state=0)\n",
    "feat_selector = BorutaPy(rfc, n_estimators='auto',verbose=2, random_state=0)\n",
    "feat_selector.fit(X,y)"
   ]
  },
  {
   "cell_type": "code",
   "execution_count": 56,
   "metadata": {},
   "outputs": [],
   "source": [
    "X = X[:,feat_selector.support_]"
   ]
  },
  {
   "cell_type": "code",
   "execution_count": 57,
   "metadata": {},
   "outputs": [],
   "source": [
    "#Split Dataset for train and test\n",
    "from sklearn.model_selection import train_test_split\n",
    "X_train,X_test,y_train,y_test = train_test_split(X,y,test_size = 0.20,random_state = 123)"
   ]
  },
  {
   "cell_type": "code",
   "execution_count": 58,
   "metadata": {},
   "outputs": [
    {
     "name": "stdout",
     "output_type": "stream",
     "text": [
      "Confusion Matrix: \n",
      "[[ 6038  5764]\n",
      " [  798 10886]]\n",
      "Accuracy =  0.7205995060887337\n",
      "Precision =  0.6538138138138138\n",
      "Recall =  0.9317014720985963\n",
      "F1 Score =  0.7684054492835461\n",
      "AUC Score = 0.7216548370491287\n",
      "Kappa score =  0.4423697409177825\n",
      "Error rate =  0.2794004939112663\n",
      "AUC-ROC Curve: \n"
     ]
    },
    {
     "data": {
      "image/png": "[encoded data removed]",
      "text/plain": [
       "<Figure size 432x288 with 1 Axes>"
      ]
     },
     "metadata": {
      "needs_background": "light"
     },
     "output_type": "display_data"
    },
    {
     "name": "stdout",
     "output_type": "stream",
     "text": [
      "Mean accuracy:  0.7167356168202696\n",
      "Variance:  0.005020028154938128\n"
     ]
    }
   ],
   "source": [
    "from sklearn.naive_bayes import GaussianNB\n",
    "gnb = GaussianNB()\n",
    "gnb.fit(X_train,y_train)\n",
    "pred_y = gnb.predict(X_test)\n",
    "model_report(y_test,pred_y)\n",
    "KFold_Cross_Validation(gnb,10)"
   ]
  },
  {
   "cell_type": "code",
   "execution_count": 59,
   "metadata": {},
   "outputs": [
    {
     "name": "stdout",
     "output_type": "stream",
     "text": [
      "Confusion Matrix: \n",
      "[[10419  1383]\n",
      " [ 1565 10119]]\n",
      "Accuracy =  0.8744784126713787\n",
      "Precision =  0.8797600417318727\n",
      "Recall =  0.8660561451557686\n",
      "F1 Score =  0.8728543086345207\n",
      "AUC Score = 0.874436308470106\n",
      "Kappa score =  0.7489309370068993\n",
      "Error rate =  0.1255215873286213\n",
      "AUC-ROC Curve: \n"
     ]
    },
    {
     "data": {
      "image/png": "[encoded data removed]",
      "text/plain": [
       "<Figure size 432x288 with 1 Axes>"
      ]
     },
     "metadata": {
      "needs_background": "light"
     },
     "output_type": "display_data"
    },
    {
     "name": "stdout",
     "output_type": "stream",
     "text": [
      "Mean accuracy:  0.8783530684884159\n",
      "Variance:  0.0036518722660628796\n"
     ]
    }
   ],
   "source": [
    "#XGBoost before Hyperparameter Tuning\n",
    "import xgboost as xgb\n",
    "xgbc = xgb.XGBClassifier()\n",
    "xgbc.fit(X_train,y_train)\n",
    "pred_y = xgbc.predict(X_test)\n",
    "model_report(y_test,pred_y)\n",
    "KFold_Cross_Validation(xgbc,10)"
   ]
  },
  {
   "cell_type": "code",
   "execution_count": 60,
   "metadata": {},
   "outputs": [
    {
     "name": "stderr",
     "output_type": "stream",
     "text": [
      "C:\\Users\\Siddhanth\\Anaconda3\\lib\\site-packages\\sklearn\\model_selection\\_split.py:1978: FutureWarning: The default value of cv will change from 3 to 5 in version 0.22. Specify it explicitly to silence this warning.\n",
      "  warnings.warn(CV_WARNING, FutureWarning)\n",
      "[Parallel(n_jobs=4)]: Using backend LokyBackend with 4 concurrent workers.\n"
     ]
    },
    {
     "name": "stdout",
     "output_type": "stream",
     "text": [
      "Fitting 3 folds for each of 20 candidates, totalling 60 fits\n"
     ]
    },
    {
     "name": "stderr",
     "output_type": "stream",
     "text": [
      "[Parallel(n_jobs=4)]: Done   5 tasks      | elapsed:   44.9s\n",
      "[Parallel(n_jobs=4)]: Done  10 tasks      | elapsed:  1.1min\n",
      "[Parallel(n_jobs=4)]: Done  17 tasks      | elapsed:  1.7min\n",
      "[Parallel(n_jobs=4)]: Done  24 tasks      | elapsed:  1.9min\n",
      "[Parallel(n_jobs=4)]: Done  33 tasks      | elapsed:  3.1min\n",
      "[Parallel(n_jobs=4)]: Done  42 tasks      | elapsed:  4.2min\n",
      "[Parallel(n_jobs=4)]: Done  53 tasks      | elapsed:  5.1min\n",
      "[Parallel(n_jobs=4)]: Done  60 out of  60 | elapsed:  5.4min remaining:    0.0s\n",
      "[Parallel(n_jobs=4)]: Done  60 out of  60 | elapsed:  5.4min finished\n"
     ]
    },
    {
     "data": {
      "text/plain": [
       "RandomizedSearchCV(cv='warn', error_score='raise-deprecating',\n",
       "                   estimator=XGBClassifier(base_score=0.5, booster='gbtree',\n",
       "                                           colsample_bylevel=1,\n",
       "                                           colsample_bynode=1,\n",
       "                                           colsample_bytree=1, gamma=0,\n",
       "                                           learning_rate=0.1, max_delta_step=0,\n",
       "                                           max_depth=3, min_child_weight=1,\n",
       "                                           missing=None, n_estimators=100,\n",
       "                                           n_jobs=1, nthread=None,\n",
       "                                           objective='binary:logistic',\n",
       "                                           random_state=0, reg_al...\n",
       "                                        'subsample': array([0.5 , 0.51, 0.52, 0.53, 0.54, 0.55, 0.56, 0.57, 0.58, 0.59, 0.6 ,\n",
       "       0.61, 0.62, 0.63, 0.64, 0.65, 0.66, 0.67, 0.68, 0.69, 0.7 , 0.71,\n",
       "       0.72, 0.73, 0.74, 0.75, 0.76, 0.77, 0.78, 0.79, 0.8 , 0.81, 0.82,\n",
       "       0.83, 0.84, 0.85, 0.86, 0.87, 0.88, 0.89, 0.9 , 0.91, 0.92, 0.93,\n",
       "       0.94, 0.95, 0.96, 0.97, 0.98, 0.99])},\n",
       "                   pre_dispatch='2*n_jobs', random_state=10, refit=True,\n",
       "                   return_train_score=False, scoring='accuracy', verbose=10)"
      ]
     },
     "execution_count": 60,
     "metadata": {},
     "output_type": "execute_result"
    }
   ],
   "source": [
    "#Parameter Tuning\n",
    "from sklearn.model_selection import RandomizedSearchCV\n",
    "\n",
    "parameter = {   \n",
    "        'max_depth' : np.arange(3,10,1),\n",
    "        'n_estimators' : range(1,100,1),\n",
    "        'learning_rate' : [0.05, 0.10, 0.15, 0.20, 0.25, 0.30,0.50,0.60],\n",
    "        'eta' : range(1,100,1),\n",
    "        'subsample' : np.arange(0.5,1,0.01),\n",
    "        'min_child_weight': range(1,6,1),\n",
    "        'gamma' : [i/10.0 for i in range(0,5)]\n",
    "        }\n",
    "\n",
    "rs = RandomizedSearchCV(\n",
    "        estimator = xgbc,\n",
    "        param_distributions = parameter,\n",
    "        n_iter = 20,\n",
    "        scoring ='accuracy',\n",
    "        n_jobs=4,\n",
    "        verbose=10,\n",
    "        random_state=10\n",
    "        )\n",
    "\n",
    "rs.fit(X_train,y_train)"
   ]
  },
  {
   "cell_type": "code",
   "execution_count": 61,
   "metadata": {},
   "outputs": [
    {
     "data": {
      "text/plain": [
       "{'mean_fit_time': array([11.10012499, 32.95479862, 31.33921011, 13.3043948 ,  2.6370608 ,\n",
       "        35.34633255, 13.0548861 ,  3.48634052, 17.27972356, 18.01147238,\n",
       "        49.00903479, 24.28566472,  7.899647  , 49.86283946, 39.87835606,\n",
       "        19.87055922, 19.98433153, 10.26574866, 22.13259832,  3.06337857]),\n",
       " 'std_fit_time': array([0.13157415, 0.18251486, 0.56152948, 0.13016267, 0.01939231,\n",
       "        0.07166925, 0.22901613, 0.08475681, 0.17696051, 0.23035621,\n",
       "        0.71822645, 0.41866103, 0.10721848, 0.31176391, 0.69774084,\n",
       "        0.04146214, 0.308002  , 0.11397523, 0.48417906, 0.14463589]),\n",
       " 'mean_score_time': array([0.08679692, 0.21755846, 0.23457122, 0.12651833, 0.04278922,\n",
       "        0.27380713, 0.10838985, 0.06299067, 0.12189905, 0.17570432,\n",
       "        0.41187342, 0.18460298, 0.09580533, 0.32745425, 0.30513223,\n",
       "        0.19892685, 0.12265627, 0.08666778, 0.16527788, 0.0499924 ]),\n",
       " 'std_score_time': array([0.00786713, 0.00200635, 0.01230843, 0.00954778, 0.00527288,\n",
       "        0.01588873, 0.00741594, 0.00800233, 0.00969195, 0.0159865 ,\n",
       "        0.0142671 , 0.01057043, 0.00940464, 0.00544832, 0.0168404 ,\n",
       "        0.01508643, 0.01093708, 0.0048086 , 0.01524989, 0.00471325]),\n",
       " 'param_subsample': masked_array(data=[0.6500000000000001, 0.8100000000000003,\n",
       "                    0.8200000000000003, 0.8400000000000003,\n",
       "                    0.7000000000000002, 0.5700000000000001,\n",
       "                    0.7300000000000002, 0.6400000000000001,\n",
       "                    0.5900000000000001, 0.8600000000000003,\n",
       "                    0.6600000000000001, 0.7200000000000002,\n",
       "                    0.5800000000000001, 0.7900000000000003,\n",
       "                    0.8500000000000003, 0.6600000000000001,\n",
       "                    0.9200000000000004, 0.8700000000000003, 0.56, 0.55],\n",
       "              mask=[False, False, False, False, False, False, False, False,\n",
       "                    False, False, False, False, False, False, False, False,\n",
       "                    False, False, False, False],\n",
       "        fill_value='?',\n",
       "             dtype=object),\n",
       " 'param_n_estimators': masked_array(data=[29, 60, 84, 58, 5, 79, 76, 19, 27, 78, 82, 39, 43, 79,\n",
       "                    74, 86, 30, 34, 52, 16],\n",
       "              mask=[False, False, False, False, False, False, False, False,\n",
       "                    False, False, False, False, False, False, False, False,\n",
       "                    False, False, False, False],\n",
       "        fill_value='?',\n",
       "             dtype=object),\n",
       " 'param_min_child_weight': masked_array(data=[5, 4, 1, 3, 3, 1, 1, 3, 2, 3, 5, 4, 4, 1, 2, 4, 3, 5,\n",
       "                    1, 1],\n",
       "              mask=[False, False, False, False, False, False, False, False,\n",
       "                    False, False, False, False, False, False, False, False,\n",
       "                    False, False, False, False],\n",
       "        fill_value='?',\n",
       "             dtype=object),\n",
       " 'param_max_depth': masked_array(data=[6, 8, 6, 4, 7, 7, 3, 3, 9, 4, 9, 9, 3, 9, 8, 4, 9, 5,\n",
       "                    7, 3],\n",
       "              mask=[False, False, False, False, False, False, False, False,\n",
       "                    False, False, False, False, False, False, False, False,\n",
       "                    False, False, False, False],\n",
       "        fill_value='?',\n",
       "             dtype=object),\n",
       " 'param_learning_rate': masked_array(data=[0.05, 0.05, 0.15, 0.1, 0.5, 0.1, 0.05, 0.3, 0.1, 0.1,\n",
       "                    0.3, 0.6, 0.2, 0.1, 0.3, 0.5, 0.15, 0.05, 0.3, 0.6],\n",
       "              mask=[False, False, False, False, False, False, False, False,\n",
       "                    False, False, False, False, False, False, False, False,\n",
       "                    False, False, False, False],\n",
       "        fill_value='?',\n",
       "             dtype=object),\n",
       " 'param_gamma': masked_array(data=[0.1, 0.1, 0.4, 0.4, 0.3, 0.3, 0.3, 0.2, 0.3, 0.2, 0.3,\n",
       "                    0.0, 0.1, 0.2, 0.1, 0.2, 0.1, 0.4, 0.3, 0.4],\n",
       "              mask=[False, False, False, False, False, False, False, False,\n",
       "                    False, False, False, False, False, False, False, False,\n",
       "                    False, False, False, False],\n",
       "        fill_value='?',\n",
       "             dtype=object),\n",
       " 'param_eta': masked_array(data=[14, 31, 13, 83, 51, 52, 16, 7, 10, 9, 55, 94, 42, 3,\n",
       "                    54, 8, 88, 39, 70, 19],\n",
       "              mask=[False, False, False, False, False, False, False, False,\n",
       "                    False, False, False, False, False, False, False, False,\n",
       "                    False, False, False, False],\n",
       "        fill_value='?',\n",
       "             dtype=object),\n",
       " 'params': [{'subsample': 0.6500000000000001,\n",
       "   'n_estimators': 29,\n",
       "   'min_child_weight': 5,\n",
       "   'max_depth': 6,\n",
       "   'learning_rate': 0.05,\n",
       "   'gamma': 0.1,\n",
       "   'eta': 14},\n",
       "  {'subsample': 0.8100000000000003,\n",
       "   'n_estimators': 60,\n",
       "   'min_child_weight': 4,\n",
       "   'max_depth': 8,\n",
       "   'learning_rate': 0.05,\n",
       "   'gamma': 0.1,\n",
       "   'eta': 31},\n",
       "  {'subsample': 0.8200000000000003,\n",
       "   'n_estimators': 84,\n",
       "   'min_child_weight': 1,\n",
       "   'max_depth': 6,\n",
       "   'learning_rate': 0.15,\n",
       "   'gamma': 0.4,\n",
       "   'eta': 13},\n",
       "  {'subsample': 0.8400000000000003,\n",
       "   'n_estimators': 58,\n",
       "   'min_child_weight': 3,\n",
       "   'max_depth': 4,\n",
       "   'learning_rate': 0.1,\n",
       "   'gamma': 0.4,\n",
       "   'eta': 83},\n",
       "  {'subsample': 0.7000000000000002,\n",
       "   'n_estimators': 5,\n",
       "   'min_child_weight': 3,\n",
       "   'max_depth': 7,\n",
       "   'learning_rate': 0.5,\n",
       "   'gamma': 0.3,\n",
       "   'eta': 51},\n",
       "  {'subsample': 0.5700000000000001,\n",
       "   'n_estimators': 79,\n",
       "   'min_child_weight': 1,\n",
       "   'max_depth': 7,\n",
       "   'learning_rate': 0.1,\n",
       "   'gamma': 0.3,\n",
       "   'eta': 52},\n",
       "  {'subsample': 0.7300000000000002,\n",
       "   'n_estimators': 76,\n",
       "   'min_child_weight': 1,\n",
       "   'max_depth': 3,\n",
       "   'learning_rate': 0.05,\n",
       "   'gamma': 0.3,\n",
       "   'eta': 16},\n",
       "  {'subsample': 0.6400000000000001,\n",
       "   'n_estimators': 19,\n",
       "   'min_child_weight': 3,\n",
       "   'max_depth': 3,\n",
       "   'learning_rate': 0.3,\n",
       "   'gamma': 0.2,\n",
       "   'eta': 7},\n",
       "  {'subsample': 0.5900000000000001,\n",
       "   'n_estimators': 27,\n",
       "   'min_child_weight': 2,\n",
       "   'max_depth': 9,\n",
       "   'learning_rate': 0.1,\n",
       "   'gamma': 0.3,\n",
       "   'eta': 10},\n",
       "  {'subsample': 0.8600000000000003,\n",
       "   'n_estimators': 78,\n",
       "   'min_child_weight': 3,\n",
       "   'max_depth': 4,\n",
       "   'learning_rate': 0.1,\n",
       "   'gamma': 0.2,\n",
       "   'eta': 9},\n",
       "  {'subsample': 0.6600000000000001,\n",
       "   'n_estimators': 82,\n",
       "   'min_child_weight': 5,\n",
       "   'max_depth': 9,\n",
       "   'learning_rate': 0.3,\n",
       "   'gamma': 0.3,\n",
       "   'eta': 55},\n",
       "  {'subsample': 0.7200000000000002,\n",
       "   'n_estimators': 39,\n",
       "   'min_child_weight': 4,\n",
       "   'max_depth': 9,\n",
       "   'learning_rate': 0.6,\n",
       "   'gamma': 0.0,\n",
       "   'eta': 94},\n",
       "  {'subsample': 0.5800000000000001,\n",
       "   'n_estimators': 43,\n",
       "   'min_child_weight': 4,\n",
       "   'max_depth': 3,\n",
       "   'learning_rate': 0.2,\n",
       "   'gamma': 0.1,\n",
       "   'eta': 42},\n",
       "  {'subsample': 0.7900000000000003,\n",
       "   'n_estimators': 79,\n",
       "   'min_child_weight': 1,\n",
       "   'max_depth': 9,\n",
       "   'learning_rate': 0.1,\n",
       "   'gamma': 0.2,\n",
       "   'eta': 3},\n",
       "  {'subsample': 0.8500000000000003,\n",
       "   'n_estimators': 74,\n",
       "   'min_child_weight': 2,\n",
       "   'max_depth': 8,\n",
       "   'learning_rate': 0.3,\n",
       "   'gamma': 0.1,\n",
       "   'eta': 54},\n",
       "  {'subsample': 0.6600000000000001,\n",
       "   'n_estimators': 86,\n",
       "   'min_child_weight': 4,\n",
       "   'max_depth': 4,\n",
       "   'learning_rate': 0.5,\n",
       "   'gamma': 0.2,\n",
       "   'eta': 8},\n",
       "  {'subsample': 0.9200000000000004,\n",
       "   'n_estimators': 30,\n",
       "   'min_child_weight': 3,\n",
       "   'max_depth': 9,\n",
       "   'learning_rate': 0.15,\n",
       "   'gamma': 0.1,\n",
       "   'eta': 88},\n",
       "  {'subsample': 0.8700000000000003,\n",
       "   'n_estimators': 34,\n",
       "   'min_child_weight': 5,\n",
       "   'max_depth': 5,\n",
       "   'learning_rate': 0.05,\n",
       "   'gamma': 0.4,\n",
       "   'eta': 39},\n",
       "  {'subsample': 0.56,\n",
       "   'n_estimators': 52,\n",
       "   'min_child_weight': 1,\n",
       "   'max_depth': 7,\n",
       "   'learning_rate': 0.3,\n",
       "   'gamma': 0.3,\n",
       "   'eta': 70},\n",
       "  {'subsample': 0.55,\n",
       "   'n_estimators': 16,\n",
       "   'min_child_weight': 1,\n",
       "   'max_depth': 3,\n",
       "   'learning_rate': 0.6,\n",
       "   'gamma': 0.4,\n",
       "   'eta': 19}],\n",
       " 'split0_test_score': array([0.85272234, 0.89704614, 0.92332748, 0.87392623, 0.87600192,\n",
       "        0.91885678, 0.82612167, 0.85361648, 0.90320932, 0.88973335,\n",
       "        0.92636117, 0.91815424, 0.87421364, 0.92492416, 0.92821332,\n",
       "        0.92533929, 0.91157592, 0.84036404, 0.92355101, 0.86741178]),\n",
       " 'split1_test_score': array([0.85374421, 0.90372026, 0.92476449, 0.87280856, 0.8739901 ,\n",
       "        0.91959125, 0.82621747, 0.85495769, 0.90611528, 0.88864761,\n",
       "        0.92358295, 0.91671723, 0.8741817 , 0.92514769, 0.92709564,\n",
       "        0.9257225 , 0.91371547, 0.84100271, 0.92272074, 0.87003034]),\n",
       " 'split2_test_score': array([0.85546401, 0.89953375, 0.92211152, 0.87232548, 0.87625343,\n",
       "        0.91990803, 0.83029955, 0.84671393, 0.90320623, 0.89180558,\n",
       "        0.92342083, 0.91601201, 0.86916395, 0.92488983, 0.92559239,\n",
       "        0.92476209, 0.91071086, 0.84320112, 0.92345277, 0.8660663 ]),\n",
       " 'mean_test_score': array([0.85397684, 0.90010006, 0.92340118, 0.8730201 , 0.87541514,\n",
       "        0.91945201, 0.8275462 , 0.85176275, 0.90417696, 0.89006216,\n",
       "        0.92445499, 0.91696117, 0.8725198 , 0.92498723, 0.92696713,\n",
       "        0.92527463, 0.91200077, 0.84152261, 0.92324151, 0.86783616]),\n",
       " 'std_test_score': array([0.0011313 , 0.00275398, 0.00108432, 0.0006704 , 0.00101288,\n",
       "        0.00044032, 0.00194727, 0.00361175, 0.00137061, 0.00131003,\n",
       "        0.0013495 , 0.00089141, 0.00237294, 0.00011433, 0.00107384,\n",
       "        0.00039474, 0.00126287, 0.00121517, 0.00037042, 0.0016459 ]),\n",
       " 'rank_test_score': array([17, 11,  5, 14, 13,  7, 20, 18, 10, 12,  4,  8, 15,  3,  1,  2,  9,\n",
       "        19,  6, 16])}"
      ]
     },
     "execution_count": 61,
     "metadata": {},
     "output_type": "execute_result"
    }
   ],
   "source": [
    "rs.cv_results_"
   ]
  },
  {
   "cell_type": "code",
   "execution_count": 62,
   "metadata": {},
   "outputs": [
    {
     "name": "stdout",
     "output_type": "stream",
     "text": [
      "Best accuracy Obtained: 0.9269671293536575\n",
      "Parameters\n",
      "\tsubsample:0.8500000000000003\n",
      "\tn_estimators:74\n",
      "\tmin_child_weight:2\n",
      "\tmax_depth:8\n",
      "\tlearning_rate:0.3\n",
      "\tgamma:0.1\n",
      "\teta:54\n"
     ]
    }
   ],
   "source": [
    "print(\"Best accuracy Obtained: {0}\".format(rs.best_score_))\n",
    "print(\"Parameters\")\n",
    "for key, value in rs.best_params_.items():\n",
    "    print(\"\\t{}:{}\".format(key, value))"
   ]
  },
  {
   "cell_type": "code",
   "execution_count": 63,
   "metadata": {},
   "outputs": [
    {
     "name": "stdout",
     "output_type": "stream",
     "text": [
      "Confusion Matrix: \n",
      "[[11442   360]\n",
      " [ 1339 10345]]\n",
      "Accuracy =  0.9276590309120327\n",
      "Precision =  0.9663708547407753\n",
      "Recall =  0.8853988360150633\n",
      "F1 Score =  0.9241145205234713\n",
      "AUC Score = 0.9274477657452032\n",
      "Kappa score =  0.8552537784773264\n",
      "Error rate =  0.07234096908796728\n",
      "AUC-ROC Curve: \n"
     ]
    },
    {
     "data": {
      "image/png": "[encoded data removed]",
      "text/plain": [
       "<Figure size 432x288 with 1 Axes>"
      ]
     },
     "metadata": {
      "needs_background": "light"
     },
     "output_type": "display_data"
    },
    {
     "name": "stdout",
     "output_type": "stream",
     "text": [
      "Mean accuracy:  0.9283722252364761\n",
      "Variance:  0.002178359092400166\n"
     ]
    }
   ],
   "source": [
    "#XGBoost after Hyperparameter Tuning\n",
    "import xgboost as xgb\n",
    "xgbc = xgb.XGBClassifier(subsample = 0.8500000000000003,\n",
    "        n_estimators = 74,\n",
    "        min_child_weight = 2,\n",
    "        max_depth = 8,\n",
    "        learning_rate = 0.3,\n",
    "        gamma = 0.1,\n",
    "        eta = 54)\n",
    "xgbc.fit(X_train,y_train)\n",
    "pred_y = xgbc.predict(X_test)\n",
    "model_report(y_test,pred_y)\n",
    "KFold_Cross_Validation(xgbc,10)"
   ]
  },
  {
   "cell_type": "code",
   "execution_count": 64,
   "metadata": {},
   "outputs": [
    {
     "name": "stdout",
     "output_type": "stream",
     "text": [
      "Confusion Matrix: \n",
      "[[9881 1921]\n",
      " [1698 9986]]\n",
      "Accuracy =  0.8459082006301627\n",
      "Precision =  0.8386663307298228\n",
      "Recall =  0.8546730571722013\n",
      "F1 Score =  0.8465940401000381\n",
      "AUC Score = 0.8459520174862871\n",
      "Kappa score =  0.6918380243021194\n",
      "Error rate =  0.1540917993698373\n",
      "AUC-ROC Curve: \n"
     ]
    },
    {
     "data": {
      "image/png": "[encoded data removed]",
      "text/plain": [
       "<Figure size 432x288 with 1 Axes>"
      ]
     },
     "metadata": {
      "needs_background": "light"
     },
     "output_type": "display_data"
    },
    {
     "name": "stdout",
     "output_type": "stream",
     "text": [
      "Mean accuracy:  0.8442902733564666\n",
      "Variance:  0.0032583694933920253\n"
     ]
    }
   ],
   "source": [
    "#AdaBoost without parameter Tuning\n",
    "from sklearn.ensemble import AdaBoostClassifier \n",
    "abc = AdaBoostClassifier()\n",
    "abc.fit(X_train,y_train)\n",
    "pred_y = abc.predict(X_test)\n",
    "model_report(y_test,pred_y)\n",
    "KFold_Cross_Validation(abc,10)"
   ]
  },
  {
   "cell_type": "code",
   "execution_count": 65,
   "metadata": {},
   "outputs": [
    {
     "name": "stderr",
     "output_type": "stream",
     "text": [
      "C:\\Users\\Siddhanth\\Anaconda3\\lib\\site-packages\\sklearn\\model_selection\\_split.py:1978: FutureWarning: The default value of cv will change from 3 to 5 in version 0.22. Specify it explicitly to silence this warning.\n",
      "  warnings.warn(CV_WARNING, FutureWarning)\n",
      "[Parallel(n_jobs=4)]: Using backend LokyBackend with 4 concurrent workers.\n"
     ]
    },
    {
     "name": "stdout",
     "output_type": "stream",
     "text": [
      "Fitting 3 folds for each of 20 candidates, totalling 60 fits\n"
     ]
    },
    {
     "name": "stderr",
     "output_type": "stream",
     "text": [
      "[Parallel(n_jobs=4)]: Done   5 tasks      | elapsed:   34.6s\n",
      "[Parallel(n_jobs=4)]: Done  10 tasks      | elapsed:  1.1min\n",
      "[Parallel(n_jobs=4)]: Done  17 tasks      | elapsed:  1.8min\n",
      "[Parallel(n_jobs=4)]: Done  24 tasks      | elapsed:  2.4min\n",
      "[Parallel(n_jobs=4)]: Done  33 tasks      | elapsed:  3.3min\n",
      "[Parallel(n_jobs=4)]: Done  42 tasks      | elapsed:  4.4min\n",
      "[Parallel(n_jobs=4)]: Done  53 tasks      | elapsed:  5.1min\n",
      "[Parallel(n_jobs=4)]: Done  60 out of  60 | elapsed:  5.4min remaining:    0.0s\n",
      "[Parallel(n_jobs=4)]: Done  60 out of  60 | elapsed:  5.4min finished\n"
     ]
    },
    {
     "data": {
      "text/plain": [
       "RandomizedSearchCV(cv='warn', error_score='raise-deprecating',\n",
       "                   estimator=AdaBoostClassifier(algorithm='SAMME.R',\n",
       "                                                base_estimator=None,\n",
       "                                                learning_rate=1.0,\n",
       "                                                n_estimators=50,\n",
       "                                                random_state=None),\n",
       "                   iid='warn', n_iter=20, n_jobs=4,\n",
       "                   param_distributions={'learning_rate': [0.05, 0.1, 0.15, 0.2,\n",
       "                                                          0.25, 0.3, 0.5, 0.6,\n",
       "                                                          0.7, 0.8, 0.9, 1.0],\n",
       "                                        'n_estimators': range(1, 100)},\n",
       "                   pre_dispatch='2*n_jobs', random_state=10, refit=True,\n",
       "                   return_train_score=False, scoring='accuracy', verbose=10)"
      ]
     },
     "execution_count": 65,
     "metadata": {},
     "output_type": "execute_result"
    }
   ],
   "source": [
    "#Parameter Tuning - AdaBoost\n",
    "parameter = {\n",
    "        'n_estimators' : range(1,100,1),\n",
    "        'learning_rate' : [0.05, 0.10, 0.15, 0.20, 0.25, 0.30,0.50,0.60,0.70,0.80,0.90,1.0]\n",
    "        }\n",
    "\n",
    "rs = RandomizedSearchCV(\n",
    "        estimator = abc,\n",
    "        param_distributions = parameter,\n",
    "        n_iter = 20,\n",
    "        scoring ='accuracy',\n",
    "        n_jobs=4,\n",
    "        verbose=10,\n",
    "        random_state=10\n",
    "        )\n",
    "\n",
    "rs.fit(X_train,y_train)"
   ]
  },
  {
   "cell_type": "code",
   "execution_count": 66,
   "metadata": {},
   "outputs": [
    {
     "data": {
      "text/plain": [
       "{'mean_fit_time': array([ 2.98218513, 35.20790346, 13.45642463, 27.19899066, 18.26023889,\n",
       "        36.68973136, 13.61207422, 21.97850418, 25.73343913, 33.84497992,\n",
       "        24.33937971,  7.65004063, 29.43889165, 26.63979284, 37.34880845,\n",
       "         5.1118501 , 25.45800916,  2.35287913, 11.69715047,  9.18513044]),\n",
       " 'std_fit_time': array([0.04282406, 0.17318756, 0.44876326, 0.07239344, 0.01143949,\n",
       "        0.2177364 , 0.09422117, 0.18273377, 0.42055333, 0.54713611,\n",
       "        0.11132879, 0.0341631 , 0.26648395, 0.37519137, 0.24113254,\n",
       "        0.14374343, 0.1745291 , 0.0535818 , 0.08947619, 0.96326114]),\n",
       " 'mean_score_time': array([0.1499118 , 1.4563636 , 0.62588962, 1.15833187, 0.7996219 ,\n",
       "        1.43819435, 0.59713467, 0.85226711, 1.12556338, 1.31455604,\n",
       "        0.97071425, 0.30980357, 1.16470814, 1.04203041, 1.45792063,\n",
       "        0.19315314, 1.04904906, 0.10525473, 0.4742562 , 0.34223644]),\n",
       " 'std_score_time': array([0.01402691, 0.04662462, 0.04158221, 0.0277936 , 0.03875926,\n",
       "        0.02975008, 0.02407407, 0.02087266, 0.10607395, 0.02183827,\n",
       "        0.046412  , 0.01952744, 0.02733687, 0.01283999, 0.03594463,\n",
       "        0.00549957, 0.05053862, 0.00128138, 0.01631249, 0.02606101]),\n",
       " 'param_n_estimators': masked_array(data=[8, 90, 34, 72, 48, 97, 36, 58, 68, 88, 64, 20, 77, 70,\n",
       "                    98, 13, 67, 6, 31, 28],\n",
       "              mask=[False, False, False, False, False, False, False, False,\n",
       "                    False, False, False, False, False, False, False, False,\n",
       "                    False, False, False, False],\n",
       "        fill_value='?',\n",
       "             dtype=object),\n",
       " 'param_learning_rate': masked_array(data=[0.9, 0.1, 0.8, 0.9, 0.8, 0.25, 1.0, 0.2, 0.05, 0.05,\n",
       "                    0.15, 0.6, 0.3, 0.05, 0.6, 0.9, 0.8, 0.15, 0.15, 1.0],\n",
       "              mask=[False, False, False, False, False, False, False, False,\n",
       "                    False, False, False, False, False, False, False, False,\n",
       "                    False, False, False, False],\n",
       "        fill_value='?',\n",
       "             dtype=object),\n",
       " 'params': [{'n_estimators': 8, 'learning_rate': 0.9},\n",
       "  {'n_estimators': 90, 'learning_rate': 0.1},\n",
       "  {'n_estimators': 34, 'learning_rate': 0.8},\n",
       "  {'n_estimators': 72, 'learning_rate': 0.9},\n",
       "  {'n_estimators': 48, 'learning_rate': 0.8},\n",
       "  {'n_estimators': 97, 'learning_rate': 0.25},\n",
       "  {'n_estimators': 36, 'learning_rate': 1.0},\n",
       "  {'n_estimators': 58, 'learning_rate': 0.2},\n",
       "  {'n_estimators': 68, 'learning_rate': 0.05},\n",
       "  {'n_estimators': 88, 'learning_rate': 0.05},\n",
       "  {'n_estimators': 64, 'learning_rate': 0.15},\n",
       "  {'n_estimators': 20, 'learning_rate': 0.6},\n",
       "  {'n_estimators': 77, 'learning_rate': 0.3},\n",
       "  {'n_estimators': 70, 'learning_rate': 0.05},\n",
       "  {'n_estimators': 98, 'learning_rate': 0.6},\n",
       "  {'n_estimators': 13, 'learning_rate': 0.9},\n",
       "  {'n_estimators': 67, 'learning_rate': 0.8},\n",
       "  {'n_estimators': 6, 'learning_rate': 0.15},\n",
       "  {'n_estimators': 31, 'learning_rate': 0.15},\n",
       "  {'n_estimators': 28, 'learning_rate': 1.0}],\n",
       " 'split0_test_score': array([0.78946192, 0.77901964, 0.83378573, 0.84662302, 0.83630848,\n",
       "        0.82532333, 0.83426473, 0.78604503, 0.7692799 , 0.7692799 ,\n",
       "        0.77866837, 0.81478525, 0.8261536 , 0.7692799 , 0.84368513,\n",
       "        0.81178349, 0.84499441, 0.7692799 , 0.7692799 , 0.82286444]),\n",
       " 'split1_test_score': array([0.77742296, 0.77924317, 0.82973016, 0.85061472, 0.83704295,\n",
       "        0.82487626, 0.83844803, 0.79837139, 0.76864123, 0.76864123,\n",
       "        0.77582628, 0.81836181, 0.825962  , 0.76864123, 0.84464314,\n",
       "        0.81200703, 0.84116238, 0.76864123, 0.76864123, 0.83643621]),\n",
       " 'split2_test_score': array([0.77684103, 0.7769049 , 0.83077857, 0.85182347, 0.83684614,\n",
       "        0.83103404, 0.83904963, 0.78971067, 0.77090119, 0.77090119,\n",
       "        0.78179089, 0.82113432, 0.82624385, 0.77090119, 0.84821486,\n",
       "        0.81091525, 0.84690554, 0.77090119, 0.77090119, 0.83055502]),\n",
       " 'mean_test_score': array([0.78124202, 0.77838925, 0.83143149, 0.84968705, 0.83673252,\n",
       "        0.82707783, 0.83725411, 0.79137571, 0.76960743, 0.76960743,\n",
       "        0.77876182, 0.81809376, 0.82611982, 0.76960743, 0.84551435,\n",
       "        0.81156859, 0.84435408, 0.76960743, 0.76960743, 0.82995189]),\n",
       " 'std_test_score': array([0.00581725, 0.00105354, 0.00171885, 0.00222209, 0.00031042,\n",
       "        0.00280337, 0.00212805, 0.00516813, 0.00095125, 0.00095125,\n",
       "        0.00243593, 0.00259891, 0.00011752, 0.00095125, 0.00194916,\n",
       "        0.00047091, 0.00238795, 0.00095125, 0.00095125, 0.00555707]),\n",
       " 'rank_test_score': array([13, 15,  6,  1,  5,  8,  4, 12, 16, 16, 14, 10,  9, 16,  2, 11,  3,\n",
       "        16, 16,  7])}"
      ]
     },
     "execution_count": 66,
     "metadata": {},
     "output_type": "execute_result"
    }
   ],
   "source": [
    "rs.cv_results_"
   ]
  },
  {
   "cell_type": "code",
   "execution_count": 67,
   "metadata": {},
   "outputs": [
    {
     "name": "stdout",
     "output_type": "stream",
     "text": [
      "Best accuracy Obtained: 0.8496870476028272\n",
      "Parameters\n",
      "\tn_estimators:72\n",
      "\tlearning_rate:0.9\n"
     ]
    }
   ],
   "source": [
    "print(\"Best accuracy Obtained: {0}\".format(rs.best_score_))\n",
    "print(\"Parameters\")\n",
    "for key, value in rs.best_params_.items():\n",
    "    print(\"\\t{}:{}\".format(key, value))"
   ]
  },
  {
   "cell_type": "code",
   "execution_count": 68,
   "metadata": {},
   "outputs": [
    {
     "name": "stdout",
     "output_type": "stream",
     "text": [
      "Confusion Matrix: \n",
      "[[10090  1712]\n",
      " [ 1824  9860]]\n",
      "Accuracy =  0.8494422208975559\n",
      "Precision =  0.8520566885585897\n",
      "Recall =  0.843889079082506\n",
      "F1 Score =  0.847953216374269\n",
      "AUC Score = 0.8494144598937358\n",
      "Kappa score =  0.6988624097419383\n",
      "Error rate =  0.15055777910244406\n",
      "AUC-ROC Curve: \n"
     ]
    },
    {
     "data": {
      "image/png": "[encoded data removed]",
      "text/plain": [
       "<Figure size 432x288 with 1 Axes>"
      ]
     },
     "metadata": {
      "needs_background": "light"
     },
     "output_type": "display_data"
    },
    {
     "name": "stdout",
     "output_type": "stream",
     "text": [
      "Mean accuracy:  0.8500596223695887\n",
      "Variance:  0.0034057164352472805\n"
     ]
    }
   ],
   "source": [
    "#AdaBoost after tuning\n",
    "from sklearn.ensemble import AdaBoostClassifier \n",
    "abc = AdaBoostClassifier(n_estimators = 72,\n",
    "                         learning_rate = 0.9)\n",
    "abc.fit(X_train,y_train)\n",
    "pred_y = abc.predict(X_test)\n",
    "model_report(y_test,pred_y)\n",
    "KFold_Cross_Validation(abc,10)"
   ]
  },
  {
   "cell_type": "code",
   "execution_count": 69,
   "metadata": {},
   "outputs": [
    {
     "name": "stdout",
     "output_type": "stream",
     "text": [
      "Confusion Matrix: \n",
      "[[10820   982]\n",
      " [ 1663 10021]]\n",
      "Accuracy =  0.8873797155752363\n",
      "Precision =  0.910751613196401\n",
      "Recall =  0.8576686066415611\n",
      "F1 Score =  0.8834134085599683\n",
      "AUC Score = 0.8872311852052069\n",
      "Kappa score =  0.7746880949869503\n",
      "Error rate =  0.11262028442476368\n",
      "AUC-ROC Curve: \n"
     ]
    },
    {
     "data": {
      "image/png": "[encoded data removed]",
      "text/plain": [
       "<Figure size 432x288 with 1 Axes>"
      ]
     },
     "metadata": {
      "needs_background": "light"
     },
     "output_type": "display_data"
    },
    {
     "name": "stdout",
     "output_type": "stream",
     "text": [
      "Mean accuracy:  0.8879759999375967\n",
      "Variance:  0.004587386455268353\n"
     ]
    }
   ],
   "source": [
    "#Gradient Boosting Machine without parameter tuning\n",
    "from sklearn.ensemble import GradientBoostingClassifier\n",
    "gbc = GradientBoostingClassifier()\n",
    "gbc.fit(X_train,y_train)\n",
    "pred_y = gbc.predict(X_test)\n",
    "model_report(y_test,pred_y)\n",
    "KFold_Cross_Validation(gbc,10)"
   ]
  },
  {
   "cell_type": "code",
   "execution_count": 70,
   "metadata": {},
   "outputs": [
    {
     "name": "stderr",
     "output_type": "stream",
     "text": [
      "C:\\Users\\Siddhanth\\Anaconda3\\lib\\site-packages\\sklearn\\model_selection\\_split.py:1978: FutureWarning: The default value of cv will change from 3 to 5 in version 0.22. Specify it explicitly to silence this warning.\n",
      "  warnings.warn(CV_WARNING, FutureWarning)\n",
      "[Parallel(n_jobs=4)]: Using backend LokyBackend with 4 concurrent workers.\n"
     ]
    },
    {
     "name": "stdout",
     "output_type": "stream",
     "text": [
      "Fitting 3 folds for each of 20 candidates, totalling 60 fits\n"
     ]
    },
    {
     "name": "stderr",
     "output_type": "stream",
     "text": [
      "[Parallel(n_jobs=4)]: Done   5 tasks      | elapsed:  1.2min\n",
      "[Parallel(n_jobs=4)]: Done  10 tasks      | elapsed:  1.2min\n",
      "[Parallel(n_jobs=4)]: Done  17 tasks      | elapsed:  1.7min\n",
      "[Parallel(n_jobs=4)]: Done  24 tasks      | elapsed:  3.1min\n",
      "[Parallel(n_jobs=4)]: Done  33 tasks      | elapsed:  4.3min\n",
      "[Parallel(n_jobs=4)]: Done  42 tasks      | elapsed:  5.6min\n",
      "[Parallel(n_jobs=4)]: Done  53 tasks      | elapsed:  7.2min\n",
      "[Parallel(n_jobs=4)]: Done  60 out of  60 | elapsed:  7.7min remaining:    0.0s\n",
      "[Parallel(n_jobs=4)]: Done  60 out of  60 | elapsed:  7.7min finished\n"
     ]
    },
    {
     "data": {
      "text/plain": [
       "RandomizedSearchCV(cv='warn', error_score='raise-deprecating',\n",
       "                   estimator=GradientBoostingClassifier(criterion='friedman_mse',\n",
       "                                                        init=None,\n",
       "                                                        learning_rate=0.1,\n",
       "                                                        loss='deviance',\n",
       "                                                        max_depth=3,\n",
       "                                                        max_features=None,\n",
       "                                                        max_leaf_nodes=None,\n",
       "                                                        min_impurity_decrease=0.0,\n",
       "                                                        min_impurity_split=None,\n",
       "                                                        min_samples_leaf=1,\n",
       "                                                        min_samples_split=2,\n",
       "                                                        min_weight_fraction_leaf=0.0,\n",
       "                                                        n_estimators=10...\n",
       "                                        'subsample': array([0.5 , 0.51, 0.52, 0.53, 0.54, 0.55, 0.56, 0.57, 0.58, 0.59, 0.6 ,\n",
       "       0.61, 0.62, 0.63, 0.64, 0.65, 0.66, 0.67, 0.68, 0.69, 0.7 , 0.71,\n",
       "       0.72, 0.73, 0.74, 0.75, 0.76, 0.77, 0.78, 0.79, 0.8 , 0.81, 0.82,\n",
       "       0.83, 0.84, 0.85, 0.86, 0.87, 0.88, 0.89, 0.9 , 0.91, 0.92, 0.93,\n",
       "       0.94, 0.95, 0.96, 0.97, 0.98, 0.99])},\n",
       "                   pre_dispatch='2*n_jobs', random_state=10, refit=True,\n",
       "                   return_train_score=False, scoring='accuracy', verbose=10)"
      ]
     },
     "execution_count": 70,
     "metadata": {},
     "output_type": "execute_result"
    }
   ],
   "source": [
    "#Parameter Tuning for Gradient Boosting Machine\n",
    "parameter = {\n",
    "        'n_estimators' : range(1,100,1),\n",
    "        'learning_rate' : [0.05, 0.10, 0.15, 0.20, 0.25, 0.30,0.50,0.60,0.70,0.80,0.90,1.0],\n",
    "        'subsample' : np.arange(0.5,1,0.01),\n",
    "        'min_samples_split' : range(50,500,50),\n",
    "        'min_samples_leaf' : range(10,400,20),\n",
    "        'max_depth' : np.arange(3,10,1)\n",
    "        }\n",
    "\n",
    "rs = RandomizedSearchCV(\n",
    "        estimator = gbc,\n",
    "        param_distributions = parameter,\n",
    "        n_iter = 20,\n",
    "        scoring ='accuracy',\n",
    "        n_jobs=4,\n",
    "        verbose=10,\n",
    "        random_state=10\n",
    "        )\n",
    "\n",
    "rs.fit(X_train,y_train)\n"
   ]
  },
  {
   "cell_type": "code",
   "execution_count": 71,
   "metadata": {},
   "outputs": [
    {
     "data": {
      "text/plain": [
       "{'mean_fit_time': array([69.03166723, 10.95887446, 17.71575435,  3.08033419,  7.1024344 ,\n",
       "        20.08260679, 65.18472616, 38.28134155, 17.19503808,  2.83956599,\n",
       "        68.6562206 , 35.84970729, 51.45099449, 28.08678842, 14.39181447,\n",
       "        17.31505577, 70.49934713, 38.17410493, 14.19608665, 13.10404706]),\n",
       " 'std_fit_time': array([0.61109146, 1.53028716, 0.27326009, 0.03523127, 0.05944947,\n",
       "        0.2319551 , 0.04927733, 1.25478905, 0.4573551 , 0.22267354,\n",
       "        0.62799328, 0.93251913, 0.62041104, 0.45219446, 0.13131151,\n",
       "        0.7222508 , 0.32612746, 0.57227186, 0.1675724 , 0.44760977]),\n",
       " 'mean_score_time': array([0.20842179, 0.0575273 , 0.07456311, 0.02614633, 0.04283428,\n",
       "        0.07394616, 0.18712886, 0.10920461, 0.04718661, 0.03672798,\n",
       "        0.19413273, 0.13542747, 0.14468376, 0.11731291, 0.04983481,\n",
       "        0.0575761 , 0.21804388, 0.13019816, 0.06065726, 0.05187639]),\n",
       " 'std_score_time': array([0.00401149, 0.00350533, 0.00305856, 0.00317357, 0.0025985 ,\n",
       "        0.00038484, 0.03337068, 0.01866046, 0.00351625, 0.00935455,\n",
       "        0.00426813, 0.00771412, 0.00411026, 0.00825848, 0.00020237,\n",
       "        0.00376101, 0.003633  , 0.00235698, 0.00060313, 0.00438297]),\n",
       " 'param_subsample': masked_array(data=[0.7200000000000002, 0.6300000000000001,\n",
       "                    0.6000000000000001, 0.53, 0.6400000000000001,\n",
       "                    0.5900000000000001, 0.6400000000000001,\n",
       "                    0.8600000000000003, 0.9200000000000004, 0.52,\n",
       "                    0.7900000000000003, 0.6600000000000001,\n",
       "                    0.8000000000000003, 0.8100000000000003,\n",
       "                    0.9600000000000004, 0.7000000000000002,\n",
       "                    0.7600000000000002, 0.56, 0.8500000000000003,\n",
       "                    0.8100000000000003],\n",
       "              mask=[False, False, False, False, False, False, False, False,\n",
       "                    False, False, False, False, False, False, False, False,\n",
       "                    False, False, False, False],\n",
       "        fill_value='?',\n",
       "             dtype=object),\n",
       " 'param_n_estimators': masked_array(data=[81, 16, 50, 9, 19, 27, 96, 78, 18, 5, 79, 86, 53, 95,\n",
       "                    23, 62, 90, 92, 16, 14],\n",
       "              mask=[False, False, False, False, False, False, False, False,\n",
       "                    False, False, False, False, False, False, False, False,\n",
       "                    False, False, False, False],\n",
       "        fill_value='?',\n",
       "             dtype=object),\n",
       " 'param_min_samples_split': masked_array(data=[350, 350, 450, 200, 150, 350, 400, 200, 150, 250, 300,\n",
       "                    200, 400, 300, 50, 350, 50, 200, 200, 50],\n",
       "              mask=[False, False, False, False, False, False, False, False,\n",
       "                    False, False, False, False, False, False, False, False,\n",
       "                    False, False, False, False],\n",
       "        fill_value='?',\n",
       "             dtype=object),\n",
       " 'param_min_samples_leaf': masked_array(data=[270, 230, 50, 370, 310, 10, 390, 230, 250, 310, 10,\n",
       "                    310, 90, 230, 90, 190, 250, 90, 350, 230],\n",
       "              mask=[False, False, False, False, False, False, False, False,\n",
       "                    False, False, False, False, False, False, False, False,\n",
       "                    False, False, False, False],\n",
       "        fill_value='?',\n",
       "             dtype=object),\n",
       " 'param_max_depth': masked_array(data=[9, 8, 4, 4, 4, 8, 8, 5, 9, 8, 8, 5, 9, 3, 5, 3, 8, 5,\n",
       "                    9, 9],\n",
       "              mask=[False, False, False, False, False, False, False, False,\n",
       "                    False, False, False, False, False, False, False, False,\n",
       "                    False, False, False, False],\n",
       "        fill_value='?',\n",
       "             dtype=object),\n",
       " 'param_learning_rate': masked_array(data=[0.3, 0.2, 0.25, 0.6, 0.6, 0.9, 0.7, 0.8, 0.9, 0.15,\n",
       "                    0.15, 0.7, 0.9, 0.05, 0.6, 0.15, 0.1, 0.6, 0.3, 0.6],\n",
       "              mask=[False, False, False, False, False, False, False, False,\n",
       "                    False, False, False, False, False, False, False, False,\n",
       "                    False, False, False, False],\n",
       "        fill_value='?',\n",
       "             dtype=object),\n",
       " 'params': [{'subsample': 0.7200000000000002,\n",
       "   'n_estimators': 81,\n",
       "   'min_samples_split': 350,\n",
       "   'min_samples_leaf': 270,\n",
       "   'max_depth': 9,\n",
       "   'learning_rate': 0.3},\n",
       "  {'subsample': 0.6300000000000001,\n",
       "   'n_estimators': 16,\n",
       "   'min_samples_split': 350,\n",
       "   'min_samples_leaf': 230,\n",
       "   'max_depth': 8,\n",
       "   'learning_rate': 0.2},\n",
       "  {'subsample': 0.6000000000000001,\n",
       "   'n_estimators': 50,\n",
       "   'min_samples_split': 450,\n",
       "   'min_samples_leaf': 50,\n",
       "   'max_depth': 4,\n",
       "   'learning_rate': 0.25},\n",
       "  {'subsample': 0.53,\n",
       "   'n_estimators': 9,\n",
       "   'min_samples_split': 200,\n",
       "   'min_samples_leaf': 370,\n",
       "   'max_depth': 4,\n",
       "   'learning_rate': 0.6},\n",
       "  {'subsample': 0.6400000000000001,\n",
       "   'n_estimators': 19,\n",
       "   'min_samples_split': 150,\n",
       "   'min_samples_leaf': 310,\n",
       "   'max_depth': 4,\n",
       "   'learning_rate': 0.6},\n",
       "  {'subsample': 0.5900000000000001,\n",
       "   'n_estimators': 27,\n",
       "   'min_samples_split': 350,\n",
       "   'min_samples_leaf': 10,\n",
       "   'max_depth': 8,\n",
       "   'learning_rate': 0.9},\n",
       "  {'subsample': 0.6400000000000001,\n",
       "   'n_estimators': 96,\n",
       "   'min_samples_split': 400,\n",
       "   'min_samples_leaf': 390,\n",
       "   'max_depth': 8,\n",
       "   'learning_rate': 0.7},\n",
       "  {'subsample': 0.8600000000000003,\n",
       "   'n_estimators': 78,\n",
       "   'min_samples_split': 200,\n",
       "   'min_samples_leaf': 230,\n",
       "   'max_depth': 5,\n",
       "   'learning_rate': 0.8},\n",
       "  {'subsample': 0.9200000000000004,\n",
       "   'n_estimators': 18,\n",
       "   'min_samples_split': 150,\n",
       "   'min_samples_leaf': 250,\n",
       "   'max_depth': 9,\n",
       "   'learning_rate': 0.9},\n",
       "  {'subsample': 0.52,\n",
       "   'n_estimators': 5,\n",
       "   'min_samples_split': 250,\n",
       "   'min_samples_leaf': 310,\n",
       "   'max_depth': 8,\n",
       "   'learning_rate': 0.15},\n",
       "  {'subsample': 0.7900000000000003,\n",
       "   'n_estimators': 79,\n",
       "   'min_samples_split': 300,\n",
       "   'min_samples_leaf': 10,\n",
       "   'max_depth': 8,\n",
       "   'learning_rate': 0.15},\n",
       "  {'subsample': 0.6600000000000001,\n",
       "   'n_estimators': 86,\n",
       "   'min_samples_split': 200,\n",
       "   'min_samples_leaf': 310,\n",
       "   'max_depth': 5,\n",
       "   'learning_rate': 0.7},\n",
       "  {'subsample': 0.8000000000000003,\n",
       "   'n_estimators': 53,\n",
       "   'min_samples_split': 400,\n",
       "   'min_samples_leaf': 90,\n",
       "   'max_depth': 9,\n",
       "   'learning_rate': 0.9},\n",
       "  {'subsample': 0.8100000000000003,\n",
       "   'n_estimators': 95,\n",
       "   'min_samples_split': 300,\n",
       "   'min_samples_leaf': 230,\n",
       "   'max_depth': 3,\n",
       "   'learning_rate': 0.05},\n",
       "  {'subsample': 0.9600000000000004,\n",
       "   'n_estimators': 23,\n",
       "   'min_samples_split': 50,\n",
       "   'min_samples_leaf': 90,\n",
       "   'max_depth': 5,\n",
       "   'learning_rate': 0.6},\n",
       "  {'subsample': 0.7000000000000002,\n",
       "   'n_estimators': 62,\n",
       "   'min_samples_split': 350,\n",
       "   'min_samples_leaf': 190,\n",
       "   'max_depth': 3,\n",
       "   'learning_rate': 0.15},\n",
       "  {'subsample': 0.7600000000000002,\n",
       "   'n_estimators': 90,\n",
       "   'min_samples_split': 50,\n",
       "   'min_samples_leaf': 250,\n",
       "   'max_depth': 8,\n",
       "   'learning_rate': 0.1},\n",
       "  {'subsample': 0.56,\n",
       "   'n_estimators': 92,\n",
       "   'min_samples_split': 200,\n",
       "   'min_samples_leaf': 90,\n",
       "   'max_depth': 5,\n",
       "   'learning_rate': 0.6},\n",
       "  {'subsample': 0.8500000000000003,\n",
       "   'n_estimators': 16,\n",
       "   'min_samples_split': 200,\n",
       "   'min_samples_leaf': 350,\n",
       "   'max_depth': 9,\n",
       "   'learning_rate': 0.3},\n",
       "  {'subsample': 0.8100000000000003,\n",
       "   'n_estimators': 14,\n",
       "   'min_samples_split': 50,\n",
       "   'min_samples_leaf': 230,\n",
       "   'max_depth': 9,\n",
       "   'learning_rate': 0.6}],\n",
       " 'split0_test_score': array([0.92489222, 0.88874341, 0.91393901, 0.86686891, 0.90304966,\n",
       "        0.91275746, 0.91496088, 0.92141146, 0.91438608, 0.84429187,\n",
       "        0.92677631, 0.91914418, 0.91058598, 0.84904998, 0.91799457,\n",
       "        0.87852467, 0.92249721, 0.91920805, 0.90866997, 0.91604662]),\n",
       " 'split1_test_score': array([0.92390228, 0.89263931, 0.91607856, 0.85885358, 0.89685454,\n",
       "        0.90857417, 0.91189526, 0.92083666, 0.91543989, 0.85048699,\n",
       "        0.92578636, 0.91853744, 0.91186332, 0.85534089, 0.91828197,\n",
       "        0.88222896, 0.92243334, 0.91684496, 0.90621108, 0.91591889]),\n",
       " 'split2_test_score': array([0.92418726, 0.88835665, 0.90873092, 0.8745609 , 0.90633582,\n",
       "        0.90889059, 0.91253114, 0.91939707, 0.91032765, 0.84735262,\n",
       "        0.92645462, 0.91990803, 0.90710225, 0.85373954, 0.91304209,\n",
       "        0.88257648, 0.92201571, 0.91802389, 0.90461136, 0.91645909]),\n",
       " 'mean_test_score': array([0.92432726, 0.88991314, 0.91291621, 0.86676105, 0.90207996,\n",
       "        0.91007409, 0.9131291 , 0.92054841, 0.91338457, 0.84737716,\n",
       "        0.9263391 , 0.91919654, 0.90985055, 0.85271013, 0.91643958,\n",
       "        0.88111002, 0.92231542, 0.91802563, 0.90649749, 0.91614153]),\n",
       " 'std_test_score': array([0.00041609, 0.00193416, 0.00308561, 0.00641292, 0.00393097,\n",
       "        0.00190184, 0.00132103, 0.00084725, 0.00220393, 0.00252922,\n",
       "        0.00041232, 0.00056076, 0.00201206, 0.00266943, 0.00240521,\n",
       "        0.00183363, 0.00021352, 0.00096473, 0.00166925, 0.00023052]),\n",
       " 'rank_test_score': array([ 2, 16, 11, 18, 15, 12, 10,  4,  9, 20,  1,  5, 13, 19,  7, 17,  3,\n",
       "         6, 14,  8])}"
      ]
     },
     "execution_count": 71,
     "metadata": {},
     "output_type": "execute_result"
    }
   ],
   "source": [
    "rs.cv_results_"
   ]
  },
  {
   "cell_type": "code",
   "execution_count": 72,
   "metadata": {},
   "outputs": [
    {
     "name": "stdout",
     "output_type": "stream",
     "text": [
      "Best accuracy Obtained: 0.92633909563144\n",
      "Parameters\n",
      "\tsubsample:0.7900000000000003\n",
      "\tn_estimators:79\n",
      "\tmin_samples_split:300\n",
      "\tmin_samples_leaf:10\n",
      "\tmax_depth:8\n",
      "\tlearning_rate:0.15\n"
     ]
    }
   ],
   "source": [
    "print(\"Best accuracy Obtained: {0}\".format(rs.best_score_))\n",
    "print(\"Parameters\")\n",
    "for key, value in rs.best_params_.items():\n",
    "    print(\"\\t{}:{}\".format(key, value))\n"
   ]
  },
  {
   "cell_type": "code",
   "execution_count": 73,
   "metadata": {},
   "outputs": [
    {
     "name": "stdout",
     "output_type": "stream",
     "text": [
      "Confusion Matrix: \n",
      "[[11499   303]\n",
      " [ 1436 10248]]\n",
      "Accuracy =  0.9259558886144937\n",
      "Precision =  0.9712823429058857\n",
      "Recall =  0.8770968846285518\n",
      "F1 Score =  0.9217899707668091\n",
      "AUC Score = 0.9257116349934829\n",
      "Kappa score =  0.8518362137033377\n",
      "Error rate =  0.07404411138550626\n",
      "AUC-ROC Curve: \n"
     ]
    },
    {
     "data": {
      "image/png": "[encoded data removed]",
      "text/plain": [
       "<Figure size 432x288 with 1 Axes>"
      ]
     },
     "metadata": {
      "needs_background": "light"
     },
     "output_type": "display_data"
    },
    {
     "name": "stdout",
     "output_type": "stream",
     "text": [
      "Mean accuracy:  0.9275419680617265\n",
      "Variance:  0.002345199096070698\n"
     ]
    }
   ],
   "source": [
    "#Gradient Boosting after Parameter Tuning\n",
    "from sklearn.ensemble import GradientBoostingClassifier\n",
    "gbc = GradientBoostingClassifier( subsample = 0.7900000000000003,\n",
    "        n_estimators = 79,\n",
    "        min_samples_split = 300,\n",
    "        min_samples_leaf = 10,\n",
    "        max_depth = 8,\n",
    "        learning_rate = 0.15)\n",
    "gbc.fit(X_train,y_train)\n",
    "pred_y = gbc.predict(X_test)\n",
    "model_report(y_test,pred_y)\n",
    "KFold_Cross_Validation(gbc,10)"
   ]
  },
  {
   "cell_type": "code",
   "execution_count": 124,
   "metadata": {},
   "outputs": [],
   "source": [
    "#Bi-Grams TFIDF and numeric features Model\n",
    "from sklearn.feature_extraction.text import TfidfVectorizer\n",
    "tv = TfidfVectorizer(ngram_range=(2,2), analyzer='word', min_df = 5)\n",
    "tv.fit(text_df['reviewContentNew'])\n",
    "tfidf_bigram_df = tv.fit_transform(text_df['reviewContentNew'])\n",
    "tfidf_bigram_df = tfidf_bigram_df.toarray()\n",
    "tfidf_bigram_df = pd.DataFrame(tfidf_bigram_df,columns=tv.get_feature_names())\n",
    "tfidf_bigram_df = tfidf_bigram_df.reset_index(drop=True)\n",
    "text_df = text_df.reset_index(drop=True)\n",
    "combined_bigram_df = pd.concat([text_df,tfidf_bigram_df], axis=1)"
   ]
  },
  {
   "cell_type": "code",
   "execution_count": 125,
   "metadata": {},
   "outputs": [
    {
     "data": {
      "text/html": [
       "<div>\n",
       "<style scoped>\n",
       "    .dataframe tbody tr th:only-of-type {\n",
       "        vertical-align: middle;\n",
       "    }\n",
       "\n",
       "    .dataframe tbody tr th {\n",
       "        vertical-align: top;\n",
       "    }\n",
       "\n",
       "    .dataframe thead th {\n",
       "        text-align: right;\n",
       "    }\n",
       "</style>\n",
       "<table border=\"1\" class=\"dataframe\">\n",
       "  <thead>\n",
       "    <tr style=\"text-align: right;\">\n",
       "      <th></th>\n",
       "      <th>reviewerID</th>\n",
       "      <th>reviewContent</th>\n",
       "      <th>ReviewRating</th>\n",
       "      <th>UsefulCount_Review</th>\n",
       "      <th>flagged</th>\n",
       "      <th>restaurantID</th>\n",
       "      <th>flagged_code</th>\n",
       "      <th>ReviewID</th>\n",
       "      <th>WordCount_Review</th>\n",
       "      <th>TotalReviewCountofRestaurant</th>\n",
       "      <th>...</th>\n",
       "      <th>yummy friend</th>\n",
       "      <th>yummy im</th>\n",
       "      <th>yummy love</th>\n",
       "      <th>yummy meat</th>\n",
       "      <th>yummy pizza</th>\n",
       "      <th>yummy well</th>\n",
       "      <th>yummy yummy</th>\n",
       "      <th>zero star</th>\n",
       "      <th>zucchini flower</th>\n",
       "      <th>zuppa di</th>\n",
       "    </tr>\n",
       "  </thead>\n",
       "  <tbody>\n",
       "    <tr>\n",
       "      <th>0</th>\n",
       "      <td>tfn2U8XfLaJnRD9EXpTxLQ</td>\n",
       "      <td>The food is amazing.  I have two tickets for t...</td>\n",
       "      <td>5</td>\n",
       "      <td>0</td>\n",
       "      <td>Y</td>\n",
       "      <td>pbEiXam9YJL3neCYHGwLUA</td>\n",
       "      <td>1</td>\n",
       "      <td>58589</td>\n",
       "      <td>38</td>\n",
       "      <td>841</td>\n",
       "      <td>...</td>\n",
       "      <td>0.0</td>\n",
       "      <td>0.0</td>\n",
       "      <td>0.0</td>\n",
       "      <td>0.0</td>\n",
       "      <td>0.0</td>\n",
       "      <td>0.0</td>\n",
       "      <td>0.0</td>\n",
       "      <td>0.0</td>\n",
       "      <td>0.0</td>\n",
       "      <td>0.0</td>\n",
       "    </tr>\n",
       "    <tr>\n",
       "      <th>1</th>\n",
       "      <td>GHoG4X4FY8D8L563zzPX5w</td>\n",
       "      <td>I did not know what to expect from this restau...</td>\n",
       "      <td>5</td>\n",
       "      <td>0</td>\n",
       "      <td>Y</td>\n",
       "      <td>pbEiXam9YJL3neCYHGwLUA</td>\n",
       "      <td>1</td>\n",
       "      <td>58590</td>\n",
       "      <td>748</td>\n",
       "      <td>841</td>\n",
       "      <td>...</td>\n",
       "      <td>0.0</td>\n",
       "      <td>0.0</td>\n",
       "      <td>0.0</td>\n",
       "      <td>0.0</td>\n",
       "      <td>0.0</td>\n",
       "      <td>0.0</td>\n",
       "      <td>0.0</td>\n",
       "      <td>0.0</td>\n",
       "      <td>0.0</td>\n",
       "      <td>0.0</td>\n",
       "    </tr>\n",
       "    <tr>\n",
       "      <th>2</th>\n",
       "      <td>0bjwIPaxbJDDwZXoVcPNqg</td>\n",
       "      <td>I liked the services offered by (Alinea) resta...</td>\n",
       "      <td>3</td>\n",
       "      <td>0</td>\n",
       "      <td>Y</td>\n",
       "      <td>pbEiXam9YJL3neCYHGwLUA</td>\n",
       "      <td>1</td>\n",
       "      <td>58591</td>\n",
       "      <td>25</td>\n",
       "      <td>841</td>\n",
       "      <td>...</td>\n",
       "      <td>0.0</td>\n",
       "      <td>0.0</td>\n",
       "      <td>0.0</td>\n",
       "      <td>0.0</td>\n",
       "      <td>0.0</td>\n",
       "      <td>0.0</td>\n",
       "      <td>0.0</td>\n",
       "      <td>0.0</td>\n",
       "      <td>0.0</td>\n",
       "      <td>0.0</td>\n",
       "    </tr>\n",
       "    <tr>\n",
       "      <th>3</th>\n",
       "      <td>D0BzL4qUp3PtGAO12eAExg</td>\n",
       "      <td>I liked the services offered by (Alinea) resta...</td>\n",
       "      <td>4</td>\n",
       "      <td>0</td>\n",
       "      <td>Y</td>\n",
       "      <td>pbEiXam9YJL3neCYHGwLUA</td>\n",
       "      <td>1</td>\n",
       "      <td>58592</td>\n",
       "      <td>25</td>\n",
       "      <td>841</td>\n",
       "      <td>...</td>\n",
       "      <td>0.0</td>\n",
       "      <td>0.0</td>\n",
       "      <td>0.0</td>\n",
       "      <td>0.0</td>\n",
       "      <td>0.0</td>\n",
       "      <td>0.0</td>\n",
       "      <td>0.0</td>\n",
       "      <td>0.0</td>\n",
       "      <td>0.0</td>\n",
       "      <td>0.0</td>\n",
       "    </tr>\n",
       "    <tr>\n",
       "      <th>4</th>\n",
       "      <td>_JFcE8DVCsCq-A6C727GnA</td>\n",
       "      <td>Presumably one of the best restaurants in Amer...</td>\n",
       "      <td>5</td>\n",
       "      <td>0</td>\n",
       "      <td>Y</td>\n",
       "      <td>pbEiXam9YJL3neCYHGwLUA</td>\n",
       "      <td>1</td>\n",
       "      <td>58593</td>\n",
       "      <td>103</td>\n",
       "      <td>841</td>\n",
       "      <td>...</td>\n",
       "      <td>0.0</td>\n",
       "      <td>0.0</td>\n",
       "      <td>0.0</td>\n",
       "      <td>0.0</td>\n",
       "      <td>0.0</td>\n",
       "      <td>0.0</td>\n",
       "      <td>0.0</td>\n",
       "      <td>0.0</td>\n",
       "      <td>0.0</td>\n",
       "      <td>0.0</td>\n",
       "    </tr>\n",
       "  </tbody>\n",
       "</table>\n",
       "<p>5 rows × 26254 columns</p>\n",
       "</div>"
      ],
      "text/plain": [
       "               reviewerID                                      reviewContent  \\\n",
       "0  tfn2U8XfLaJnRD9EXpTxLQ  The food is amazing.  I have two tickets for t...   \n",
       "1  GHoG4X4FY8D8L563zzPX5w  I did not know what to expect from this restau...   \n",
       "2  0bjwIPaxbJDDwZXoVcPNqg  I liked the services offered by (Alinea) resta...   \n",
       "3  D0BzL4qUp3PtGAO12eAExg  I liked the services offered by (Alinea) resta...   \n",
       "4  _JFcE8DVCsCq-A6C727GnA  Presumably one of the best restaurants in Amer...   \n",
       "\n",
       "   ReviewRating  UsefulCount_Review flagged            restaurantID  \\\n",
       "0             5                   0       Y  pbEiXam9YJL3neCYHGwLUA   \n",
       "1             5                   0       Y  pbEiXam9YJL3neCYHGwLUA   \n",
       "2             3                   0       Y  pbEiXam9YJL3neCYHGwLUA   \n",
       "3             4                   0       Y  pbEiXam9YJL3neCYHGwLUA   \n",
       "4             5                   0       Y  pbEiXam9YJL3neCYHGwLUA   \n",
       "\n",
       "   flagged_code  ReviewID  WordCount_Review  TotalReviewCountofRestaurant  \\\n",
       "0             1     58589                38                           841   \n",
       "1             1     58590               748                           841   \n",
       "2             1     58591                25                           841   \n",
       "3             1     58592                25                           841   \n",
       "4             1     58593               103                           841   \n",
       "\n",
       "     ...     yummy friend  yummy im yummy love  yummy meat  yummy pizza  \\\n",
       "0    ...              0.0       0.0        0.0         0.0          0.0   \n",
       "1    ...              0.0       0.0        0.0         0.0          0.0   \n",
       "2    ...              0.0       0.0        0.0         0.0          0.0   \n",
       "3    ...              0.0       0.0        0.0         0.0          0.0   \n",
       "4    ...              0.0       0.0        0.0         0.0          0.0   \n",
       "\n",
       "   yummy well  yummy yummy  zero star  zucchini flower  zuppa di  \n",
       "0         0.0          0.0        0.0              0.0       0.0  \n",
       "1         0.0          0.0        0.0              0.0       0.0  \n",
       "2         0.0          0.0        0.0              0.0       0.0  \n",
       "3         0.0          0.0        0.0              0.0       0.0  \n",
       "4         0.0          0.0        0.0              0.0       0.0  \n",
       "\n",
       "[5 rows x 26254 columns]"
      ]
     },
     "execution_count": 125,
     "metadata": {},
     "output_type": "execute_result"
    }
   ],
   "source": [
    "combined_bigram_df.head()"
   ]
  },
  {
   "cell_type": "code",
   "execution_count": 126,
   "metadata": {},
   "outputs": [],
   "source": [
    "#Dropping unwanted columns\n",
    "combined_bigram_df = combined_bigram_df.drop(columns=['reviewerID','reviewContent','flagged','restaurantID','ReviewID',\n",
    "                                                      'reviewContentNew','sentimentScore'])"
   ]
  },
  {
   "cell_type": "code",
   "execution_count": 131,
   "metadata": {},
   "outputs": [],
   "source": [
    "combined_bigram_df = combined_bigram_df.abs()"
   ]
  },
  {
   "cell_type": "code",
   "execution_count": 132,
   "metadata": {},
   "outputs": [],
   "source": [
    "#Splitting target varibles and independent variables\n",
    "X = combined_bigram_df.drop(columns=['flagged_code'])\n",
    "X = X.iloc[:,:].values\n",
    "y = combined_bigram_df.iloc[:,combined_bigram_df.columns.get_loc('flagged_code')].values"
   ]
  },
  {
   "cell_type": "code",
   "execution_count": 133,
   "metadata": {},
   "outputs": [
    {
     "data": {
      "text/plain": [
       "(16602, 26246)"
      ]
     },
     "execution_count": 133,
     "metadata": {},
     "output_type": "execute_result"
    }
   ],
   "source": [
    "X.shape"
   ]
  },
  {
   "cell_type": "code",
   "execution_count": 134,
   "metadata": {},
   "outputs": [
    {
     "data": {
      "text/plain": [
       "(16602,)"
      ]
     },
     "execution_count": 134,
     "metadata": {},
     "output_type": "execute_result"
    }
   ],
   "source": [
    "y.shape"
   ]
  },
  {
   "cell_type": "code",
   "execution_count": 135,
   "metadata": {},
   "outputs": [],
   "source": [
    "#Feature selection by using Chi-Square test\n",
    "#Chi Square feature selection\n",
    "from sklearn.feature_selection import SelectKBest\n",
    "from sklearn.feature_selection import chi2\n",
    "\n",
    "chi_feature = SelectKBest(chi2, k=4000)\n",
    "X_KBest = chi_feature.fit_transform(X, y)"
   ]
  },
  {
   "cell_type": "code",
   "execution_count": 136,
   "metadata": {},
   "outputs": [],
   "source": [
    "#Splitting dataset into train and test after feature selection\n",
    "from sklearn.model_selection import train_test_split\n",
    "X_train,X_test,y_train,y_test = train_test_split(X_KBest,y,test_size = 0.20,random_state = 123)"
   ]
  },
  {
   "cell_type": "code",
   "execution_count": 137,
   "metadata": {},
   "outputs": [
    {
     "name": "stdout",
     "output_type": "stream",
     "text": [
      "Confusion Matrix: \n",
      "[[ 740  912]\n",
      " [  23 1646]]\n",
      "Accuracy =  0.718458295694068\n",
      "Precision =  0.6434714620797498\n",
      "Recall =  0.9862192929898143\n",
      "F1 Score =  0.7788029335225929\n",
      "AUC Score = 0.7170805908048346\n",
      "Kappa score =  0.43535433748122243\n",
      "Error rate =  0.28154170430593195\n",
      "AUC-ROC Curve: \n"
     ]
    },
    {
     "data": {
      "image/png": "[encoded data removed]",
      "text/plain": [
       "<Figure size 432x288 with 1 Axes>"
      ]
     },
     "metadata": {
      "needs_background": "light"
     },
     "output_type": "display_data"
    },
    {
     "name": "stdout",
     "output_type": "stream",
     "text": [
      "Mean accuracy:  0.7226093105387336\n",
      "Variance:  0.010223610957702215\n"
     ]
    }
   ],
   "source": [
    "#Gaussian Naive Bayes\n",
    "from sklearn.naive_bayes import GaussianNB\n",
    "gnb = GaussianNB()\n",
    "gnb.fit(X_train,y_train)\n",
    "pred_y = gnb.predict(X_test)\n",
    "model_report(y_test,pred_y)\n",
    "KFold_Cross_Validation(gnb,10)"
   ]
  },
  {
   "cell_type": "code",
   "execution_count": 84,
   "metadata": {},
   "outputs": [
    {
     "name": "stdout",
     "output_type": "stream",
     "text": [
      "Confusion Matrix: \n",
      "[[1020  632]\n",
      " [ 169 1500]]\n",
      "Accuracy =  0.7588075880758808\n",
      "Precision =  0.7035647279549718\n",
      "Recall =  0.8987417615338527\n",
      "F1 Score =  0.7892659826361482\n",
      "AUC Score = 0.7580875877887181\n",
      "Kappa score =  0.5169129965377313\n",
      "Error rate =  0.24119241192411922\n",
      "AUC-ROC Curve: \n"
     ]
    },
    {
     "data": {
      "image/png": "[encoded data removed]",
      "text/plain": [
       "<Figure size 432x288 with 1 Axes>"
      ]
     },
     "metadata": {
      "needs_background": "light"
     },
     "output_type": "display_data"
    },
    {
     "name": "stdout",
     "output_type": "stream",
     "text": [
      "Mean accuracy:  0.7618398278114525\n",
      "Variance:  0.008258118639968384\n"
     ]
    }
   ],
   "source": [
    "#XGBoost before HyperParameter tuning\n",
    "import xgboost as xgb\n",
    "xgbc = xgb.XGBClassifier()\n",
    "xgbc.fit(X_train,y_train)\n",
    "pred_y = xgbc.predict(X_test)\n",
    "model_report(y_test,pred_y)\n",
    "KFold_Cross_Validation(xgbc,10)"
   ]
  },
  {
   "cell_type": "code",
   "execution_count": 85,
   "metadata": {},
   "outputs": [
    {
     "name": "stderr",
     "output_type": "stream",
     "text": [
      "C:\\Users\\Siddhanth\\Anaconda3\\lib\\site-packages\\sklearn\\model_selection\\_split.py:1978: FutureWarning: The default value of cv will change from 3 to 5 in version 0.22. Specify it explicitly to silence this warning.\n",
      "  warnings.warn(CV_WARNING, FutureWarning)\n",
      "[Parallel(n_jobs=4)]: Using backend LokyBackend with 4 concurrent workers.\n"
     ]
    },
    {
     "name": "stdout",
     "output_type": "stream",
     "text": [
      "Fitting 3 folds for each of 20 candidates, totalling 60 fits\n"
     ]
    },
    {
     "name": "stderr",
     "output_type": "stream",
     "text": [
      "[Parallel(n_jobs=4)]: Done   5 tasks      | elapsed:  4.2min\n",
      "[Parallel(n_jobs=4)]: Done  10 tasks      | elapsed:  5.9min\n",
      "[Parallel(n_jobs=4)]: Done  17 tasks      | elapsed:  7.9min\n",
      "[Parallel(n_jobs=4)]: Done  24 tasks      | elapsed: 12.3min\n",
      "[Parallel(n_jobs=4)]: Done  33 tasks      | elapsed: 14.6min\n",
      "[Parallel(n_jobs=4)]: Done  42 tasks      | elapsed: 19.5min\n",
      "[Parallel(n_jobs=4)]: Done  53 tasks      | elapsed: 26.9min\n",
      "[Parallel(n_jobs=4)]: Done  60 out of  60 | elapsed: 29.0min remaining:    0.0s\n",
      "[Parallel(n_jobs=4)]: Done  60 out of  60 | elapsed: 29.0min finished\n"
     ]
    },
    {
     "data": {
      "text/plain": [
       "RandomizedSearchCV(cv='warn', error_score='raise-deprecating',\n",
       "                   estimator=XGBClassifier(base_score=0.5, booster='gbtree',\n",
       "                                           colsample_bylevel=1,\n",
       "                                           colsample_bynode=1,\n",
       "                                           colsample_bytree=1, gamma=0,\n",
       "                                           learning_rate=0.1, max_delta_step=0,\n",
       "                                           max_depth=3, min_child_weight=1,\n",
       "                                           missing=None, n_estimators=100,\n",
       "                                           n_jobs=1, nthread=None,\n",
       "                                           objective='binary:logistic',\n",
       "                                           random_state=0, reg_al...\n",
       "                                        'subsample': array([0.5 , 0.51, 0.52, 0.53, 0.54, 0.55, 0.56, 0.57, 0.58, 0.59, 0.6 ,\n",
       "       0.61, 0.62, 0.63, 0.64, 0.65, 0.66, 0.67, 0.68, 0.69, 0.7 , 0.71,\n",
       "       0.72, 0.73, 0.74, 0.75, 0.76, 0.77, 0.78, 0.79, 0.8 , 0.81, 0.82,\n",
       "       0.83, 0.84, 0.85, 0.86, 0.87, 0.88, 0.89, 0.9 , 0.91, 0.92, 0.93,\n",
       "       0.94, 0.95, 0.96, 0.97, 0.98, 0.99])},\n",
       "                   pre_dispatch='2*n_jobs', random_state=10, refit=True,\n",
       "                   return_train_score=False, scoring='accuracy', verbose=10)"
      ]
     },
     "execution_count": 85,
     "metadata": {},
     "output_type": "execute_result"
    }
   ],
   "source": [
    "#Parameter Tuning for XGBoost\n",
    "from sklearn.model_selection import RandomizedSearchCV\n",
    "\n",
    "parameter = {   \n",
    "        'max_depth' : np.arange(3,10,1),\n",
    "        'n_estimators' : range(1,100,1),\n",
    "        'learning_rate' : [0.05, 0.10, 0.15, 0.20, 0.25, 0.30,0.50,0.60,0.70,0.80,0.90],\n",
    "        'eta' : range(1,100,1),\n",
    "        'subsample' : np.arange(0.5,1,0.01),\n",
    "        'min_child_weight': range(1,6,1),\n",
    "        'gamma' : [i/10.0 for i in range(0,5)]\n",
    "        }\n",
    "\n",
    "rs = RandomizedSearchCV(\n",
    "        estimator = xgbc,\n",
    "        param_distributions = parameter,\n",
    "        n_iter = 20,\n",
    "        scoring ='accuracy',\n",
    "        n_jobs=4,\n",
    "        verbose=10,\n",
    "        random_state=10\n",
    "        )\n",
    "\n",
    "rs.fit(X_train,y_train)"
   ]
  },
  {
   "cell_type": "code",
   "execution_count": 86,
   "metadata": {},
   "outputs": [
    {
     "data": {
      "text/plain": [
       "{'mean_fit_time': array([ 78.80967943, 168.87390534, 175.28901998,  89.43530901,\n",
       "        104.64325984,  19.53354692, 237.79974842,  89.97690423,\n",
       "         32.25927234, 118.20815492,  28.62230698, 104.24765929,\n",
       "         94.57972685, 110.00973884, 285.24383211, 130.56055872,\n",
       "         29.12921985, 254.93494423,  65.35929807,  60.45503139]),\n",
       " 'std_fit_time': array([0.19446826, 3.00057373, 2.93959026, 3.56881658, 1.14797882,\n",
       "        0.19595236, 2.17318655, 5.11436444, 1.0218685 , 0.12808919,\n",
       "        0.03165177, 0.0875093 , 0.12814456, 0.1146389 , 0.25365012,\n",
       "        8.94731364, 0.27552692, 0.91990235, 1.09828343, 0.72499514]),\n",
       " 'mean_score_time': array([0.34410826, 0.34703811, 0.41607181, 0.29467718, 0.39955624,\n",
       "        0.38593626, 0.31463496, 0.38033088, 0.34644604, 0.37320216,\n",
       "        0.35788417, 0.37358379, 0.36546342, 0.37750379, 0.40197182,\n",
       "        0.39140614, 0.40497565, 0.42065287, 0.3824993 , 0.36164244]),\n",
       " 'std_score_time': array([0.01334902, 0.06771855, 0.0028863 , 0.06621206, 0.00217629,\n",
       "        0.00849481, 0.05633714, 0.01410152, 0.02133054, 0.01146166,\n",
       "        0.00905748, 0.01183881, 0.00955782, 0.01695983, 0.00246401,\n",
       "        0.00606171, 0.04285169, 0.00388962, 0.00359861, 0.04929639]),\n",
       " 'param_subsample': masked_array(data=[0.6500000000000001, 0.8100000000000003,\n",
       "                    0.8200000000000003, 0.8400000000000003,\n",
       "                    0.8100000000000003, 0.7000000000000002,\n",
       "                    0.5700000000000001, 0.7300000000000002,\n",
       "                    0.7100000000000002, 0.6200000000000001,\n",
       "                    0.6400000000000001, 0.5900000000000001, 0.54,\n",
       "                    0.8600000000000003, 0.6600000000000001,\n",
       "                    0.7200000000000002, 0.9000000000000004,\n",
       "                    0.8100000000000003, 0.6000000000000001,\n",
       "                    0.5800000000000001],\n",
       "              mask=[False, False, False, False, False, False, False, False,\n",
       "                    False, False, False, False, False, False, False, False,\n",
       "                    False, False, False, False],\n",
       "        fill_value='?',\n",
       "             dtype=object),\n",
       " 'param_n_estimators': masked_array(data=[29, 60, 84, 58, 31, 5, 79, 76, 24, 55, 19, 27, 43, 78,\n",
       "                    82, 39, 18, 76, 34, 43],\n",
       "              mask=[False, False, False, False, False, False, False, False,\n",
       "                    False, False, False, False, False, False, False, False,\n",
       "                    False, False, False, False],\n",
       "        fill_value='?',\n",
       "             dtype=object),\n",
       " 'param_min_child_weight': masked_array(data=[5, 4, 1, 3, 4, 3, 1, 1, 4, 4, 3, 2, 3, 3, 5, 4, 2, 4,\n",
       "                    4, 4],\n",
       "              mask=[False, False, False, False, False, False, False, False,\n",
       "                    False, False, False, False, False, False, False, False,\n",
       "                    False, False, False, False],\n",
       "        fill_value='?',\n",
       "             dtype=object),\n",
       " 'param_max_depth': masked_array(data=[6, 8, 6, 4, 9, 7, 7, 3, 3, 5, 3, 9, 5, 4, 9, 9, 4, 9,\n",
       "                    4, 3],\n",
       "              mask=[False, False, False, False, False, False, False, False,\n",
       "                    False, False, False, False, False, False, False, False,\n",
       "                    False, False, False, False],\n",
       "        fill_value='?',\n",
       "             dtype=object),\n",
       " 'param_learning_rate': masked_array(data=[0.05, 0.8, 0.7, 0.15, 0.9, 0.5, 0.7, 0.7, 0.25, 0.3,\n",
       "                    0.7, 0.05, 0.1, 0.6, 0.05, 0.8, 0.7, 0.15, 0.25, 0.1],\n",
       "              mask=[False, False, False, False, False, False, False, False,\n",
       "                    False, False, False, False, False, False, False, False,\n",
       "                    False, False, False, False],\n",
       "        fill_value='?',\n",
       "             dtype=object),\n",
       " 'param_gamma': masked_array(data=[0.3, 0.4, 0.1, 0.1, 0.4, 0.4, 0.2, 0.1, 0.1, 0.1, 0.3,\n",
       "                    0.0, 0.1, 0.0, 0.4, 0.3, 0.2, 0.4, 0.3, 0.0],\n",
       "              mask=[False, False, False, False, False, False, False, False,\n",
       "                    False, False, False, False, False, False, False, False,\n",
       "                    False, False, False, False],\n",
       "        fill_value='?',\n",
       "             dtype=object),\n",
       " 'param_eta': masked_array(data=[10, 22, 10, 61, 87, 37, 38, 12, 90, 95, 5, 8, 77, 7,\n",
       "                    40, 68, 84, 83, 92, 31],\n",
       "              mask=[False, False, False, False, False, False, False, False,\n",
       "                    False, False, False, False, False, False, False, False,\n",
       "                    False, False, False, False],\n",
       "        fill_value='?',\n",
       "             dtype=object),\n",
       " 'params': [{'subsample': 0.6500000000000001,\n",
       "   'n_estimators': 29,\n",
       "   'min_child_weight': 5,\n",
       "   'max_depth': 6,\n",
       "   'learning_rate': 0.05,\n",
       "   'gamma': 0.3,\n",
       "   'eta': 10},\n",
       "  {'subsample': 0.8100000000000003,\n",
       "   'n_estimators': 60,\n",
       "   'min_child_weight': 4,\n",
       "   'max_depth': 8,\n",
       "   'learning_rate': 0.8,\n",
       "   'gamma': 0.4,\n",
       "   'eta': 22},\n",
       "  {'subsample': 0.8200000000000003,\n",
       "   'n_estimators': 84,\n",
       "   'min_child_weight': 1,\n",
       "   'max_depth': 6,\n",
       "   'learning_rate': 0.7,\n",
       "   'gamma': 0.1,\n",
       "   'eta': 10},\n",
       "  {'subsample': 0.8400000000000003,\n",
       "   'n_estimators': 58,\n",
       "   'min_child_weight': 3,\n",
       "   'max_depth': 4,\n",
       "   'learning_rate': 0.15,\n",
       "   'gamma': 0.1,\n",
       "   'eta': 61},\n",
       "  {'subsample': 0.8100000000000003,\n",
       "   'n_estimators': 31,\n",
       "   'min_child_weight': 4,\n",
       "   'max_depth': 9,\n",
       "   'learning_rate': 0.9,\n",
       "   'gamma': 0.4,\n",
       "   'eta': 87},\n",
       "  {'subsample': 0.7000000000000002,\n",
       "   'n_estimators': 5,\n",
       "   'min_child_weight': 3,\n",
       "   'max_depth': 7,\n",
       "   'learning_rate': 0.5,\n",
       "   'gamma': 0.4,\n",
       "   'eta': 37},\n",
       "  {'subsample': 0.5700000000000001,\n",
       "   'n_estimators': 79,\n",
       "   'min_child_weight': 1,\n",
       "   'max_depth': 7,\n",
       "   'learning_rate': 0.7,\n",
       "   'gamma': 0.2,\n",
       "   'eta': 38},\n",
       "  {'subsample': 0.7300000000000002,\n",
       "   'n_estimators': 76,\n",
       "   'min_child_weight': 1,\n",
       "   'max_depth': 3,\n",
       "   'learning_rate': 0.7,\n",
       "   'gamma': 0.1,\n",
       "   'eta': 12},\n",
       "  {'subsample': 0.7100000000000002,\n",
       "   'n_estimators': 24,\n",
       "   'min_child_weight': 4,\n",
       "   'max_depth': 3,\n",
       "   'learning_rate': 0.25,\n",
       "   'gamma': 0.1,\n",
       "   'eta': 90},\n",
       "  {'subsample': 0.6200000000000001,\n",
       "   'n_estimators': 55,\n",
       "   'min_child_weight': 4,\n",
       "   'max_depth': 5,\n",
       "   'learning_rate': 0.3,\n",
       "   'gamma': 0.1,\n",
       "   'eta': 95},\n",
       "  {'subsample': 0.6400000000000001,\n",
       "   'n_estimators': 19,\n",
       "   'min_child_weight': 3,\n",
       "   'max_depth': 3,\n",
       "   'learning_rate': 0.7,\n",
       "   'gamma': 0.3,\n",
       "   'eta': 5},\n",
       "  {'subsample': 0.5900000000000001,\n",
       "   'n_estimators': 27,\n",
       "   'min_child_weight': 2,\n",
       "   'max_depth': 9,\n",
       "   'learning_rate': 0.05,\n",
       "   'gamma': 0.0,\n",
       "   'eta': 8},\n",
       "  {'subsample': 0.54,\n",
       "   'n_estimators': 43,\n",
       "   'min_child_weight': 3,\n",
       "   'max_depth': 5,\n",
       "   'learning_rate': 0.1,\n",
       "   'gamma': 0.1,\n",
       "   'eta': 77},\n",
       "  {'subsample': 0.8600000000000003,\n",
       "   'n_estimators': 78,\n",
       "   'min_child_weight': 3,\n",
       "   'max_depth': 4,\n",
       "   'learning_rate': 0.6,\n",
       "   'gamma': 0.0,\n",
       "   'eta': 7},\n",
       "  {'subsample': 0.6600000000000001,\n",
       "   'n_estimators': 82,\n",
       "   'min_child_weight': 5,\n",
       "   'max_depth': 9,\n",
       "   'learning_rate': 0.05,\n",
       "   'gamma': 0.4,\n",
       "   'eta': 40},\n",
       "  {'subsample': 0.7200000000000002,\n",
       "   'n_estimators': 39,\n",
       "   'min_child_weight': 4,\n",
       "   'max_depth': 9,\n",
       "   'learning_rate': 0.8,\n",
       "   'gamma': 0.3,\n",
       "   'eta': 68},\n",
       "  {'subsample': 0.9000000000000004,\n",
       "   'n_estimators': 18,\n",
       "   'min_child_weight': 2,\n",
       "   'max_depth': 4,\n",
       "   'learning_rate': 0.7,\n",
       "   'gamma': 0.2,\n",
       "   'eta': 84},\n",
       "  {'subsample': 0.8100000000000003,\n",
       "   'n_estimators': 76,\n",
       "   'min_child_weight': 4,\n",
       "   'max_depth': 9,\n",
       "   'learning_rate': 0.15,\n",
       "   'gamma': 0.4,\n",
       "   'eta': 83},\n",
       "  {'subsample': 0.6000000000000001,\n",
       "   'n_estimators': 34,\n",
       "   'min_child_weight': 4,\n",
       "   'max_depth': 4,\n",
       "   'learning_rate': 0.25,\n",
       "   'gamma': 0.3,\n",
       "   'eta': 92},\n",
       "  {'subsample': 0.5800000000000001,\n",
       "   'n_estimators': 43,\n",
       "   'min_child_weight': 4,\n",
       "   'max_depth': 3,\n",
       "   'learning_rate': 0.1,\n",
       "   'gamma': 0.0,\n",
       "   'eta': 31}],\n",
       " 'split0_test_score': array([0.76242096, 0.72402891, 0.73961156, 0.76626016, 0.71115628,\n",
       "        0.75112918, 0.71025294, 0.75022584, 0.76038844, 0.75654923,\n",
       "        0.75135501, 0.76106594, 0.76535682, 0.74164408, 0.76445348,\n",
       "        0.71386631, 0.75654923, 0.75474255, 0.76196929, 0.75790425]),\n",
       " 'split1_test_score': array([0.75333183, 0.71967472, 0.74090806, 0.76123786, 0.71470522,\n",
       "        0.74813644, 0.71990061, 0.74452225, 0.75830133, 0.76168963,\n",
       "        0.74903998, 0.75649424, 0.76236729, 0.74678112, 0.76304495,\n",
       "        0.71515699, 0.75129885, 0.75988254, 0.75920488, 0.75310594]),\n",
       " 'split2_test_score': array([0.76547673, 0.72187076, 0.74084953, 0.76186173, 0.72051514,\n",
       "        0.74966109, 0.71283326, 0.75305016, 0.76118391, 0.74943516,\n",
       "        0.74853141, 0.76073204, 0.7623136 , 0.74853141, 0.75937641,\n",
       "        0.71351107, 0.75214641, 0.7532761 , 0.76321735, 0.75824672]),\n",
       " 'mean_test_score': array([0.76040961, 0.72185829, 0.74045629, 0.76312025, 0.71545817,\n",
       "        0.74964235, 0.71432874, 0.74926587, 0.75995783, 0.75589188,\n",
       "        0.74964235, 0.75943077, 0.76334613, 0.74565168, 0.762292  ,\n",
       "        0.71417815, 0.75333183, 0.75596717, 0.76146375, 0.75641894]),\n",
       " 'std_test_score': array([0.00515788, 0.00177771, 0.00059789, 0.00223519, 0.00385766,\n",
       "        0.00122192, 0.0040783 , 0.00354689, 0.00121551, 0.00502414,\n",
       "        0.00122891, 0.00208091, 0.00142218, 0.00292296, 0.00213999,\n",
       "        0.00070718, 0.00230159, 0.00283257, 0.00167656, 0.00234682]),\n",
       " 'rank_test_score': array([ 5, 17, 16,  2, 18, 12, 19, 14,  6, 10, 12,  7,  1, 15,  3, 20, 11,\n",
       "         9,  4,  8])}"
      ]
     },
     "execution_count": 86,
     "metadata": {},
     "output_type": "execute_result"
    }
   ],
   "source": [
    "rs.cv_results_"
   ]
  },
  {
   "cell_type": "code",
   "execution_count": 87,
   "metadata": {},
   "outputs": [
    {
     "name": "stdout",
     "output_type": "stream",
     "text": [
      "Best accuracy Obtained: 0.763346133574279\n",
      "Parameters\n",
      "\tsubsample:0.54\n",
      "\tn_estimators:43\n",
      "\tmin_child_weight:3\n",
      "\tmax_depth:5\n",
      "\tlearning_rate:0.1\n",
      "\tgamma:0.1\n",
      "\teta:77\n"
     ]
    }
   ],
   "source": [
    "print(\"Best accuracy Obtained: {0}\".format(rs.best_score_))\n",
    "print(\"Parameters\")\n",
    "for key, value in rs.best_params_.items():\n",
    "    print(\"\\t{}:{}\".format(key, value))\n"
   ]
  },
  {
   "cell_type": "code",
   "execution_count": 88,
   "metadata": {},
   "outputs": [
    {
     "name": "stdout",
     "output_type": "stream",
     "text": [
      "Confusion Matrix: \n",
      "[[1026  626]\n",
      " [ 176 1493]]\n",
      "Accuracy =  0.7585064739536285\n",
      "Precision =  0.7045776309579991\n",
      "Recall =  0.8945476333133613\n",
      "F1 Score =  0.7882787750791975\n",
      "AUC Score = 0.7578065043080123\n",
      "Kappa score =  0.5163293034736066\n",
      "Error rate =  0.24149352604637153\n",
      "AUC-ROC Curve: \n"
     ]
    },
    {
     "data": {
      "image/png": "[encoded data removed]",
      "text/plain": [
       "<Figure size 432x288 with 1 Axes>"
      ]
     },
     "metadata": {
      "needs_background": "light"
     },
     "output_type": "display_data"
    },
    {
     "name": "stdout",
     "output_type": "stream",
     "text": [
      "Mean accuracy:  0.7625905148335445\n",
      "Variance:  0.010763698670423733\n"
     ]
    }
   ],
   "source": [
    "#XGBoost after parameter Tuning\n",
    "import xgboost as xgb\n",
    "xgbc = xgb.XGBClassifier(subsample = 0.54,\n",
    "        n_estimators = 43,\n",
    "        min_child_weight = 3,\n",
    "        max_depth = 5,\n",
    "        learning_rate = 0.1,\n",
    "        gamma = 0.1,\n",
    "        eta = 77)\n",
    "xgbc.fit(X_train,y_train)\n",
    "pred_y = xgbc.predict(X_test)\n",
    "model_report(y_test,pred_y) \n",
    "KFold_Cross_Validation(xgbc,10)"
   ]
  },
  {
   "cell_type": "code",
   "execution_count": 89,
   "metadata": {},
   "outputs": [
    {
     "name": "stdout",
     "output_type": "stream",
     "text": [
      "Confusion Matrix: \n",
      "[[1079  573]\n",
      " [ 238 1431]]\n",
      "Accuracy =  0.7557964468533575\n",
      "Precision =  0.7140718562874252\n",
      "Recall =  0.8573996405032954\n",
      "F1 Score =  0.779199564388783\n",
      "AUC Score = 0.7552736701305822\n",
      "Kappa score =  0.5110751557405484\n",
      "Error rate =  0.24420355314664255\n",
      "AUC-ROC Curve: \n"
     ]
    },
    {
     "data": {
      "image/png": "[encoded data removed]",
      "text/plain": [
       "<Figure size 432x288 with 1 Axes>"
      ]
     },
     "metadata": {
      "needs_background": "light"
     },
     "output_type": "display_data"
    },
    {
     "name": "stdout",
     "output_type": "stream",
     "text": [
      "Mean accuracy:  0.7513727888243039\n",
      "Variance:  0.010597097839562667\n"
     ]
    }
   ],
   "source": [
    "#AdaBoost before parameter tuning\n",
    "from sklearn.ensemble import AdaBoostClassifier \n",
    "abc = AdaBoostClassifier()\n",
    "abc.fit(X_train,y_train)\n",
    "pred_y = abc.predict(X_test)\n",
    "model_report(y_test,pred_y)\n",
    "KFold_Cross_Validation(abc,10)"
   ]
  },
  {
   "cell_type": "code",
   "execution_count": 90,
   "metadata": {},
   "outputs": [
    {
     "name": "stderr",
     "output_type": "stream",
     "text": [
      "C:\\Users\\Siddhanth\\Anaconda3\\lib\\site-packages\\sklearn\\model_selection\\_split.py:1978: FutureWarning: The default value of cv will change from 3 to 5 in version 0.22. Specify it explicitly to silence this warning.\n",
      "  warnings.warn(CV_WARNING, FutureWarning)\n",
      "[Parallel(n_jobs=4)]: Using backend LokyBackend with 4 concurrent workers.\n"
     ]
    },
    {
     "name": "stdout",
     "output_type": "stream",
     "text": [
      "Fitting 3 folds for each of 20 candidates, totalling 60 fits\n"
     ]
    },
    {
     "name": "stderr",
     "output_type": "stream",
     "text": [
      "[Parallel(n_jobs=4)]: Done   5 tasks      | elapsed:  2.0min\n",
      "[Parallel(n_jobs=4)]: Done  10 tasks      | elapsed:  3.7min\n",
      "[Parallel(n_jobs=4)]: Done  17 tasks      | elapsed:  5.8min\n",
      "[Parallel(n_jobs=4)]: Done  24 tasks      | elapsed:  7.8min\n",
      "[Parallel(n_jobs=4)]: Done  33 tasks      | elapsed: 10.8min\n",
      "[Parallel(n_jobs=4)]: Done  42 tasks      | elapsed: 14.1min\n",
      "[Parallel(n_jobs=4)]: Done  53 tasks      | elapsed: 16.3min\n",
      "[Parallel(n_jobs=4)]: Done  60 out of  60 | elapsed: 17.5min remaining:    0.0s\n",
      "[Parallel(n_jobs=4)]: Done  60 out of  60 | elapsed: 17.5min finished\n"
     ]
    },
    {
     "data": {
      "text/plain": [
       "RandomizedSearchCV(cv='warn', error_score='raise-deprecating',\n",
       "                   estimator=AdaBoostClassifier(algorithm='SAMME.R',\n",
       "                                                base_estimator=None,\n",
       "                                                learning_rate=1.0,\n",
       "                                                n_estimators=50,\n",
       "                                                random_state=None),\n",
       "                   iid='warn', n_iter=20, n_jobs=4,\n",
       "                   param_distributions={'learning_rate': [0.05, 0.1, 0.15, 0.2,\n",
       "                                                          0.25, 0.3, 0.5, 0.6,\n",
       "                                                          0.7, 0.8, 0.9, 1.0],\n",
       "                                        'n_estimators': range(1, 100)},\n",
       "                   pre_dispatch='2*n_jobs', random_state=10, refit=True,\n",
       "                   return_train_score=False, scoring='accuracy', verbose=10)"
      ]
     },
     "execution_count": 90,
     "metadata": {},
     "output_type": "execute_result"
    }
   ],
   "source": [
    "#Parameter Tuning AdaBoost\n",
    "parameter = {\n",
    "        'n_estimators' : range(1,100,1),\n",
    "        'learning_rate' : [0.05, 0.10, 0.15, 0.20, 0.25, 0.30,0.50,0.60,0.70,0.80,0.90,1.0]\n",
    "        }\n",
    "\n",
    "rs = RandomizedSearchCV(\n",
    "        estimator = abc,\n",
    "        param_distributions = parameter,\n",
    "        n_iter = 20,\n",
    "        scoring ='accuracy',\n",
    "        n_jobs=4,\n",
    "        verbose=10,\n",
    "        random_state=10\n",
    "        )\n",
    "\n",
    "rs.fit(X_train,y_train)"
   ]
  },
  {
   "cell_type": "code",
   "execution_count": 91,
   "metadata": {},
   "outputs": [
    {
     "data": {
      "text/plain": [
       "{'mean_fit_time': array([ 14.54199664, 120.23567184,  44.65975944,  80.3850015 ,\n",
       "         54.03481102, 108.92101137,  41.41024311,  67.87578901,\n",
       "         80.32383148, 102.30337699,  76.17991432,  24.66270264,\n",
       "         87.03089166,  78.79126374, 113.68977992,  16.73557234,\n",
       "         82.58402467,   8.58969124,  37.96878028,  31.26670742]),\n",
       " 'std_fit_time': array([0.0905602 , 2.08507799, 8.07132812, 0.01763571, 0.04056399,\n",
       "        0.67974481, 0.7503979 , 0.47883306, 0.2797688 , 0.66307004,\n",
       "        0.74442934, 0.24962028, 0.35495497, 0.27288418, 2.98922924,\n",
       "        0.38213402, 0.19059339, 0.01629274, 0.05930758, 2.14620307]),\n",
       " 'mean_score_time': array([ 1.17054582,  8.39720686,  3.4035631 ,  6.56809878,  4.41851409,\n",
       "         8.91149823,  3.47503948,  5.89490008,  6.62561194,  9.26289241,\n",
       "         6.12694645,  2.01793543,  7.14588714,  6.75160861, 10.21035838,\n",
       "         1.42618569,  7.08571529,  0.74534059,  3.25063928,  2.1745166 ]),\n",
       " 'std_score_time': array([0.00784494, 0.21577206, 0.23718944, 0.0947181 , 0.0184682 ,\n",
       "        0.05212526, 0.13911293, 0.08307825, 0.06854807, 0.58558173,\n",
       "        0.11509738, 0.11446964, 0.15081175, 0.19191846, 0.10290832,\n",
       "        0.19526565, 0.08936063, 0.08177447, 0.02567717, 0.3622983 ]),\n",
       " 'param_n_estimators': masked_array(data=[8, 90, 34, 72, 48, 97, 36, 58, 68, 88, 64, 20, 77, 70,\n",
       "                    98, 13, 67, 6, 31, 28],\n",
       "              mask=[False, False, False, False, False, False, False, False,\n",
       "                    False, False, False, False, False, False, False, False,\n",
       "                    False, False, False, False],\n",
       "        fill_value='?',\n",
       "             dtype=object),\n",
       " 'param_learning_rate': masked_array(data=[0.9, 0.1, 0.8, 0.9, 0.8, 0.25, 1.0, 0.2, 0.05, 0.05,\n",
       "                    0.15, 0.6, 0.3, 0.05, 0.6, 0.9, 0.8, 0.15, 0.15, 1.0],\n",
       "              mask=[False, False, False, False, False, False, False, False,\n",
       "                    False, False, False, False, False, False, False, False,\n",
       "                    False, False, False, False],\n",
       "        fill_value='?',\n",
       "             dtype=object),\n",
       " 'params': [{'n_estimators': 8, 'learning_rate': 0.9},\n",
       "  {'n_estimators': 90, 'learning_rate': 0.1},\n",
       "  {'n_estimators': 34, 'learning_rate': 0.8},\n",
       "  {'n_estimators': 72, 'learning_rate': 0.9},\n",
       "  {'n_estimators': 48, 'learning_rate': 0.8},\n",
       "  {'n_estimators': 97, 'learning_rate': 0.25},\n",
       "  {'n_estimators': 36, 'learning_rate': 1.0},\n",
       "  {'n_estimators': 58, 'learning_rate': 0.2},\n",
       "  {'n_estimators': 68, 'learning_rate': 0.05},\n",
       "  {'n_estimators': 88, 'learning_rate': 0.05},\n",
       "  {'n_estimators': 64, 'learning_rate': 0.15},\n",
       "  {'n_estimators': 20, 'learning_rate': 0.6},\n",
       "  {'n_estimators': 77, 'learning_rate': 0.3},\n",
       "  {'n_estimators': 70, 'learning_rate': 0.05},\n",
       "  {'n_estimators': 98, 'learning_rate': 0.6},\n",
       "  {'n_estimators': 13, 'learning_rate': 0.9},\n",
       "  {'n_estimators': 67, 'learning_rate': 0.8},\n",
       "  {'n_estimators': 6, 'learning_rate': 0.15},\n",
       "  {'n_estimators': 31, 'learning_rate': 0.15},\n",
       "  {'n_estimators': 28, 'learning_rate': 1.0}],\n",
       " 'split0_test_score': array([0.74412827, 0.75158085, 0.75564589, 0.75225836, 0.75383921,\n",
       "        0.75677507, 0.75383921, 0.75587173, 0.72131888, 0.72515808,\n",
       "        0.75338753, 0.75406504, 0.75858175, 0.72131888, 0.75722674,\n",
       "        0.74954833, 0.75383921, 0.71770551, 0.7265131 , 0.75406504]),\n",
       " 'split1_test_score': array([0.74452225, 0.74565168, 0.75129885, 0.74813644, 0.75197651,\n",
       "        0.75559069, 0.75084707, 0.74949176, 0.7149311 , 0.72125593,\n",
       "        0.74768466, 0.75333183, 0.75739779, 0.7149311 , 0.75626835,\n",
       "        0.74610346, 0.75626835, 0.7149311 , 0.72419246, 0.75220239]),\n",
       " 'split2_test_score': array([0.75056484, 0.74762765, 0.75621329, 0.75598735, 0.75395391,\n",
       "        0.75553547, 0.75395391, 0.75350203, 0.72480795, 0.72548577,\n",
       "        0.74988703, 0.75350203, 0.75643922, 0.72480795, 0.75395391,\n",
       "        0.75169453, 0.75734297, 0.71938545, 0.7257117 , 0.75440578]),\n",
       " 'mean_test_score': array([0.74640464, 0.74828703, 0.75438596, 0.7521271 , 0.75325653,\n",
       "        0.75596717, 0.75288005, 0.75295535, 0.72035238, 0.72396657,\n",
       "        0.75032001, 0.75363301, 0.75747308, 0.72035238, 0.75581658,\n",
       "        0.74911528, 0.75581658, 0.71734056, 0.72547248, 0.75355771]),\n",
       " 'std_test_score': array([0.00294561, 0.00246519, 0.00219518, 0.00320628, 0.00090632,\n",
       "        0.00057181, 0.0014383 , 0.00263328, 0.00408951, 0.00192137,\n",
       "        0.00234836, 0.00031334, 0.0008763 , 0.00408951, 0.00137379,\n",
       "        0.00230287, 0.00146564, 0.0018366 , 0.00096243, 0.0009684 ]),\n",
       " 'rank_test_score': array([15, 14,  5, 11,  8,  2, 10,  9, 18, 17, 12,  6,  1, 18,  3, 13,  3,\n",
       "        20, 16,  7])}"
      ]
     },
     "execution_count": 91,
     "metadata": {},
     "output_type": "execute_result"
    }
   ],
   "source": [
    "rs.cv_results_"
   ]
  },
  {
   "cell_type": "code",
   "execution_count": 92,
   "metadata": {},
   "outputs": [
    {
     "name": "stdout",
     "output_type": "stream",
     "text": [
      "Best accuracy Obtained: 0.7574730818462465\n",
      "Parameters\n",
      "\tn_estimators:77\n",
      "\tlearning_rate:0.3\n"
     ]
    }
   ],
   "source": [
    "print(\"Best accuracy Obtained: {0}\".format(rs.best_score_))\n",
    "print(\"Parameters\")\n",
    "for key, value in rs.best_params_.items():\n",
    "    print(\"\\t{}:{}\".format(key, value))"
   ]
  },
  {
   "cell_type": "code",
   "execution_count": 93,
   "metadata": {},
   "outputs": [
    {
     "name": "stdout",
     "output_type": "stream",
     "text": [
      "Confusion Matrix: \n",
      "[[ 982  670]\n",
      " [ 150 1519]]\n",
      "Accuracy =  0.7530864197530864\n",
      "Precision =  0.6939241662859753\n",
      "Recall =  0.9101258238466148\n",
      "F1 Score =  0.7874546397096942\n",
      "AUC Score = 0.7522784082913462\n",
      "Kappa score =  0.5053669615456152\n",
      "Error rate =  0.24691358024691357\n",
      "AUC-ROC Curve: \n"
     ]
    },
    {
     "data": {
      "image/png": "[encoded data removed]",
      "text/plain": [
       "<Figure size 432x288 with 1 Axes>"
      ]
     },
     "metadata": {
      "needs_background": "light"
     },
     "output_type": "display_data"
    },
    {
     "name": "stdout",
     "output_type": "stream",
     "text": [
      "Mean accuracy:  0.7578488066982121\n",
      "Variance:  0.010935763050374438\n"
     ]
    }
   ],
   "source": [
    "#After parameter Tuning - AdaBoost\n",
    "from sklearn.ensemble import AdaBoostClassifier \n",
    "abc = AdaBoostClassifier(n_estimators = 77,\n",
    "                         learning_rate = 0.3)\n",
    "abc.fit(X_train,y_train)\n",
    "pred_y = abc.predict(X_test)\n",
    "model_report(y_test,pred_y)\n",
    "KFold_Cross_Validation(abc,10)"
   ]
  },
  {
   "cell_type": "code",
   "execution_count": 94,
   "metadata": {},
   "outputs": [
    {
     "name": "stdout",
     "output_type": "stream",
     "text": [
      "Confusion Matrix: \n",
      "[[1026  626]\n",
      " [ 189 1480]]\n",
      "Accuracy =  0.7545919903643481\n",
      "Precision =  0.7027540360873694\n",
      "Recall =  0.8867585380467345\n",
      "F1 Score =  0.7841059602649008\n",
      "AUC Score = 0.753911956674699\n",
      "Kappa score =  0.5085089796578757\n",
      "Error rate =  0.2454080096356519\n",
      "AUC-ROC Curve: \n"
     ]
    },
    {
     "data": {
      "image/png": "[encoded data removed]",
      "text/plain": [
       "<Figure size 432x288 with 1 Axes>"
      ]
     },
     "metadata": {
      "needs_background": "light"
     },
     "output_type": "display_data"
    },
    {
     "name": "stdout",
     "output_type": "stream",
     "text": [
      "Mean accuracy:  0.7616138675369458\n",
      "Variance:  0.009616963197733728\n"
     ]
    }
   ],
   "source": [
    "#Gradient Boosting Machine before tuning\n",
    "from sklearn.ensemble import GradientBoostingClassifier\n",
    "gbc = GradientBoostingClassifier()\n",
    "gbc.fit(X_train,y_train)\n",
    "pred_y = gbc.predict(X_test)\n",
    "model_report(y_test,pred_y)\n",
    "KFold_Cross_Validation(gbc,10)"
   ]
  },
  {
   "cell_type": "code",
   "execution_count": 95,
   "metadata": {},
   "outputs": [
    {
     "name": "stderr",
     "output_type": "stream",
     "text": [
      "C:\\Users\\Siddhanth\\Anaconda3\\lib\\site-packages\\sklearn\\model_selection\\_split.py:1978: FutureWarning: The default value of cv will change from 3 to 5 in version 0.22. Specify it explicitly to silence this warning.\n",
      "  warnings.warn(CV_WARNING, FutureWarning)\n",
      "[Parallel(n_jobs=4)]: Using backend LokyBackend with 4 concurrent workers.\n"
     ]
    },
    {
     "name": "stdout",
     "output_type": "stream",
     "text": [
      "Fitting 3 folds for each of 20 candidates, totalling 60 fits\n"
     ]
    },
    {
     "name": "stderr",
     "output_type": "stream",
     "text": [
      "[Parallel(n_jobs=4)]: Done   5 tasks      | elapsed:  6.9min\n",
      "[Parallel(n_jobs=4)]: Done  10 tasks      | elapsed:  7.7min\n",
      "[Parallel(n_jobs=4)]: Done  17 tasks      | elapsed: 10.8min\n",
      "[Parallel(n_jobs=4)]: Done  24 tasks      | elapsed: 18.7min\n",
      "[Parallel(n_jobs=4)]: Done  33 tasks      | elapsed: 26.4min\n",
      "[Parallel(n_jobs=4)]: Done  42 tasks      | elapsed: 34.6min\n",
      "[Parallel(n_jobs=4)]: Done  53 tasks      | elapsed: 44.3min\n",
      "[Parallel(n_jobs=4)]: Done  60 out of  60 | elapsed: 46.9min remaining:    0.0s\n",
      "[Parallel(n_jobs=4)]: Done  60 out of  60 | elapsed: 46.9min finished\n"
     ]
    },
    {
     "data": {
      "text/plain": [
       "RandomizedSearchCV(cv='warn', error_score='raise-deprecating',\n",
       "                   estimator=GradientBoostingClassifier(criterion='friedman_mse',\n",
       "                                                        init=None,\n",
       "                                                        learning_rate=0.1,\n",
       "                                                        loss='deviance',\n",
       "                                                        max_depth=3,\n",
       "                                                        max_features=None,\n",
       "                                                        max_leaf_nodes=None,\n",
       "                                                        min_impurity_decrease=0.0,\n",
       "                                                        min_impurity_split=None,\n",
       "                                                        min_samples_leaf=1,\n",
       "                                                        min_samples_split=2,\n",
       "                                                        min_weight_fraction_leaf=0.0,\n",
       "                                                        n_estimators=10...\n",
       "                                        'subsample': array([0.5 , 0.51, 0.52, 0.53, 0.54, 0.55, 0.56, 0.57, 0.58, 0.59, 0.6 ,\n",
       "       0.61, 0.62, 0.63, 0.64, 0.65, 0.66, 0.67, 0.68, 0.69, 0.7 , 0.71,\n",
       "       0.72, 0.73, 0.74, 0.75, 0.76, 0.77, 0.78, 0.79, 0.8 , 0.81, 0.82,\n",
       "       0.83, 0.84, 0.85, 0.86, 0.87, 0.88, 0.89, 0.9 , 0.91, 0.92, 0.93,\n",
       "       0.94, 0.95, 0.96, 0.97, 0.98, 0.99])},\n",
       "                   pre_dispatch='2*n_jobs', random_state=10, refit=True,\n",
       "                   return_train_score=False, scoring='accuracy', verbose=10)"
      ]
     },
     "execution_count": 95,
     "metadata": {},
     "output_type": "execute_result"
    }
   ],
   "source": [
    "#Parameter Tuning GradientBoosting\n",
    "parameter = {\n",
    "        'n_estimators' : range(1,100,1),\n",
    "        'learning_rate' : [0.05, 0.10, 0.15, 0.20, 0.25, 0.30,0.50,0.60,0.70,0.80,0.90,1.0],\n",
    "        'subsample' : np.arange(0.5,1,0.01),\n",
    "        'min_samples_split' : range(50,500,50),\n",
    "        'min_samples_leaf' : range(10,400,20),\n",
    "        'max_depth' : np.arange(3,10,1)\n",
    "        \n",
    "        }\n",
    "\n",
    "rs = RandomizedSearchCV(\n",
    "        estimator = gbc,\n",
    "        param_distributions = parameter,\n",
    "        n_iter = 20,\n",
    "        scoring ='accuracy',\n",
    "        n_jobs=4,\n",
    "        verbose=10,\n",
    "        random_state=10\n",
    "        )\n",
    "\n",
    "rs.fit(X_train,y_train)"
   ]
  },
  {
   "cell_type": "code",
   "execution_count": 96,
   "metadata": {},
   "outputs": [
    {
     "data": {
      "text/plain": [
       "{'mean_fit_time': array([414.25312797,  65.26145522, 136.004421  ,  24.02898765,\n",
       "         56.20030308, 129.10481954, 330.31364957, 332.05750902,\n",
       "        118.64015237,  17.12347794, 371.49601396, 238.9248236 ,\n",
       "        292.38699587, 194.67465178,  94.68774573, 122.87203066,\n",
       "        390.56106456, 265.09799639,  67.19295096,  70.11416984]),\n",
       " 'std_fit_time': array([ 1.61435568,  1.00375519,  2.22676176,  0.64159304,  0.16004297,\n",
       "         0.87874763,  2.63623544, 10.02536742,  3.01359788,  0.37276864,\n",
       "         2.77665492,  1.88131206,  2.4582738 ,  2.12339252,  0.68170899,\n",
       "         1.5168496 ,  0.92684792,  2.46568512,  1.29087632,  0.61765124]),\n",
       " 'mean_score_time': array([0.21274344, 0.17656525, 0.19602879, 0.1396757 , 0.16258645,\n",
       "        0.18728757, 0.22485979, 0.16688196, 0.15668718, 0.19179296,\n",
       "        0.16555794, 0.1658903 , 0.18650103, 0.16057134, 0.12998629,\n",
       "        0.14461311, 0.1871655 , 0.1363109 , 0.1359698 , 0.11702085]),\n",
       " 'std_score_time': array([0.01693008, 0.01811435, 0.00554981, 0.02481153, 0.00233005,\n",
       "        0.0457547 , 0.0227284 , 0.02308675, 0.02530004, 0.02487913,\n",
       "        0.00666522, 0.0090797 , 0.01232221, 0.01492776, 0.00448496,\n",
       "        0.01017105, 0.02703725, 0.01881114, 0.01186601, 0.01222426]),\n",
       " 'param_subsample': masked_array(data=[0.7200000000000002, 0.6300000000000001,\n",
       "                    0.6000000000000001, 0.53, 0.6400000000000001,\n",
       "                    0.5900000000000001, 0.6400000000000001,\n",
       "                    0.8600000000000003, 0.9200000000000004, 0.52,\n",
       "                    0.7900000000000003, 0.6600000000000001,\n",
       "                    0.8000000000000003, 0.8100000000000003,\n",
       "                    0.9600000000000004, 0.7000000000000002,\n",
       "                    0.7600000000000002, 0.56, 0.8500000000000003,\n",
       "                    0.8100000000000003],\n",
       "              mask=[False, False, False, False, False, False, False, False,\n",
       "                    False, False, False, False, False, False, False, False,\n",
       "                    False, False, False, False],\n",
       "        fill_value='?',\n",
       "             dtype=object),\n",
       " 'param_n_estimators': masked_array(data=[81, 16, 50, 9, 19, 27, 96, 78, 18, 5, 79, 86, 53, 95,\n",
       "                    23, 62, 90, 92, 16, 14],\n",
       "              mask=[False, False, False, False, False, False, False, False,\n",
       "                    False, False, False, False, False, False, False, False,\n",
       "                    False, False, False, False],\n",
       "        fill_value='?',\n",
       "             dtype=object),\n",
       " 'param_min_samples_split': masked_array(data=[350, 350, 450, 200, 150, 350, 400, 200, 150, 250, 300,\n",
       "                    200, 400, 300, 50, 350, 50, 200, 200, 50],\n",
       "              mask=[False, False, False, False, False, False, False, False,\n",
       "                    False, False, False, False, False, False, False, False,\n",
       "                    False, False, False, False],\n",
       "        fill_value='?',\n",
       "             dtype=object),\n",
       " 'param_min_samples_leaf': masked_array(data=[270, 230, 50, 370, 310, 10, 390, 230, 250, 310, 10,\n",
       "                    310, 90, 230, 90, 190, 250, 90, 350, 230],\n",
       "              mask=[False, False, False, False, False, False, False, False,\n",
       "                    False, False, False, False, False, False, False, False,\n",
       "                    False, False, False, False],\n",
       "        fill_value='?',\n",
       "             dtype=object),\n",
       " 'param_max_depth': masked_array(data=[9, 8, 4, 4, 4, 8, 8, 5, 9, 8, 8, 5, 9, 3, 5, 3, 8, 5,\n",
       "                    9, 9],\n",
       "              mask=[False, False, False, False, False, False, False, False,\n",
       "                    False, False, False, False, False, False, False, False,\n",
       "                    False, False, False, False],\n",
       "        fill_value='?',\n",
       "             dtype=object),\n",
       " 'param_learning_rate': masked_array(data=[0.3, 0.2, 0.25, 0.6, 0.6, 0.9, 0.7, 0.8, 0.9, 0.15,\n",
       "                    0.15, 0.7, 0.9, 0.05, 0.6, 0.15, 0.1, 0.6, 0.3, 0.6],\n",
       "              mask=[False, False, False, False, False, False, False, False,\n",
       "                    False, False, False, False, False, False, False, False,\n",
       "                    False, False, False, False],\n",
       "        fill_value='?',\n",
       "             dtype=object),\n",
       " 'params': [{'subsample': 0.7200000000000002,\n",
       "   'n_estimators': 81,\n",
       "   'min_samples_split': 350,\n",
       "   'min_samples_leaf': 270,\n",
       "   'max_depth': 9,\n",
       "   'learning_rate': 0.3},\n",
       "  {'subsample': 0.6300000000000001,\n",
       "   'n_estimators': 16,\n",
       "   'min_samples_split': 350,\n",
       "   'min_samples_leaf': 230,\n",
       "   'max_depth': 8,\n",
       "   'learning_rate': 0.2},\n",
       "  {'subsample': 0.6000000000000001,\n",
       "   'n_estimators': 50,\n",
       "   'min_samples_split': 450,\n",
       "   'min_samples_leaf': 50,\n",
       "   'max_depth': 4,\n",
       "   'learning_rate': 0.25},\n",
       "  {'subsample': 0.53,\n",
       "   'n_estimators': 9,\n",
       "   'min_samples_split': 200,\n",
       "   'min_samples_leaf': 370,\n",
       "   'max_depth': 4,\n",
       "   'learning_rate': 0.6},\n",
       "  {'subsample': 0.6400000000000001,\n",
       "   'n_estimators': 19,\n",
       "   'min_samples_split': 150,\n",
       "   'min_samples_leaf': 310,\n",
       "   'max_depth': 4,\n",
       "   'learning_rate': 0.6},\n",
       "  {'subsample': 0.5900000000000001,\n",
       "   'n_estimators': 27,\n",
       "   'min_samples_split': 350,\n",
       "   'min_samples_leaf': 10,\n",
       "   'max_depth': 8,\n",
       "   'learning_rate': 0.9},\n",
       "  {'subsample': 0.6400000000000001,\n",
       "   'n_estimators': 96,\n",
       "   'min_samples_split': 400,\n",
       "   'min_samples_leaf': 390,\n",
       "   'max_depth': 8,\n",
       "   'learning_rate': 0.7},\n",
       "  {'subsample': 0.8600000000000003,\n",
       "   'n_estimators': 78,\n",
       "   'min_samples_split': 200,\n",
       "   'min_samples_leaf': 230,\n",
       "   'max_depth': 5,\n",
       "   'learning_rate': 0.8},\n",
       "  {'subsample': 0.9200000000000004,\n",
       "   'n_estimators': 18,\n",
       "   'min_samples_split': 150,\n",
       "   'min_samples_leaf': 250,\n",
       "   'max_depth': 9,\n",
       "   'learning_rate': 0.9},\n",
       "  {'subsample': 0.52,\n",
       "   'n_estimators': 5,\n",
       "   'min_samples_split': 250,\n",
       "   'min_samples_leaf': 310,\n",
       "   'max_depth': 8,\n",
       "   'learning_rate': 0.15},\n",
       "  {'subsample': 0.7900000000000003,\n",
       "   'n_estimators': 79,\n",
       "   'min_samples_split': 300,\n",
       "   'min_samples_leaf': 10,\n",
       "   'max_depth': 8,\n",
       "   'learning_rate': 0.15},\n",
       "  {'subsample': 0.6600000000000001,\n",
       "   'n_estimators': 86,\n",
       "   'min_samples_split': 200,\n",
       "   'min_samples_leaf': 310,\n",
       "   'max_depth': 5,\n",
       "   'learning_rate': 0.7},\n",
       "  {'subsample': 0.8000000000000003,\n",
       "   'n_estimators': 53,\n",
       "   'min_samples_split': 400,\n",
       "   'min_samples_leaf': 90,\n",
       "   'max_depth': 9,\n",
       "   'learning_rate': 0.9},\n",
       "  {'subsample': 0.8100000000000003,\n",
       "   'n_estimators': 95,\n",
       "   'min_samples_split': 300,\n",
       "   'min_samples_leaf': 230,\n",
       "   'max_depth': 3,\n",
       "   'learning_rate': 0.05},\n",
       "  {'subsample': 0.9600000000000004,\n",
       "   'n_estimators': 23,\n",
       "   'min_samples_split': 50,\n",
       "   'min_samples_leaf': 90,\n",
       "   'max_depth': 5,\n",
       "   'learning_rate': 0.6},\n",
       "  {'subsample': 0.7000000000000002,\n",
       "   'n_estimators': 62,\n",
       "   'min_samples_split': 350,\n",
       "   'min_samples_leaf': 190,\n",
       "   'max_depth': 3,\n",
       "   'learning_rate': 0.15},\n",
       "  {'subsample': 0.7600000000000002,\n",
       "   'n_estimators': 90,\n",
       "   'min_samples_split': 50,\n",
       "   'min_samples_leaf': 250,\n",
       "   'max_depth': 8,\n",
       "   'learning_rate': 0.1},\n",
       "  {'subsample': 0.56,\n",
       "   'n_estimators': 92,\n",
       "   'min_samples_split': 200,\n",
       "   'min_samples_leaf': 90,\n",
       "   'max_depth': 5,\n",
       "   'learning_rate': 0.6},\n",
       "  {'subsample': 0.8500000000000003,\n",
       "   'n_estimators': 16,\n",
       "   'min_samples_split': 200,\n",
       "   'min_samples_leaf': 350,\n",
       "   'max_depth': 9,\n",
       "   'learning_rate': 0.3},\n",
       "  {'subsample': 0.8100000000000003,\n",
       "   'n_estimators': 14,\n",
       "   'min_samples_split': 50,\n",
       "   'min_samples_leaf': 230,\n",
       "   'max_depth': 9,\n",
       "   'learning_rate': 0.6}],\n",
       " 'split0_test_score': array([0.74480578, 0.75654923, 0.76467931, 0.76355014, 0.74932249,\n",
       "        0.73622403, 0.73238482, 0.72583559, 0.73803071, 0.74638663,\n",
       "        0.76919603, 0.73125565, 0.71815718, 0.76151762, 0.75293586,\n",
       "        0.76196929, 0.75948509, 0.72944896, 0.76264679, 0.75135501]),\n",
       " 'split1_test_score': array([0.7454258 , 0.75446126, 0.75784956, 0.76191552, 0.75400949,\n",
       "        0.72577366, 0.7284843 , 0.73142083, 0.73751977, 0.74768466,\n",
       "        0.76214141, 0.72983962, 0.71628642, 0.75355771, 0.75513892,\n",
       "        0.75762367, 0.76101197, 0.71944884, 0.75920488, 0.74791055]),\n",
       " 'split2_test_score': array([0.75146859, 0.76299141, 0.76683235, 0.76140985, 0.7586986 ,\n",
       "        0.72638952, 0.73542702, 0.73136014, 0.73520108, 0.75530953,\n",
       "        0.76570267, 0.73248983, 0.72232264, 0.76208766, 0.75372797,\n",
       "        0.76886579, 0.76434704, 0.7239042 , 0.76005423, 0.75237235]),\n",
       " 'mean_test_score': array([0.74723289, 0.75800015, 0.76312025, 0.762292  , 0.75400949,\n",
       "        0.72946314, 0.73209849, 0.72953844, 0.7369174 , 0.74979294,\n",
       "        0.7656803 , 0.73119494, 0.71892177, 0.75905429, 0.75393419,\n",
       "        0.76281906, 0.76161434, 0.72426775, 0.76063549, 0.75054589]),\n",
       " 'std_test_score': array([0.00300527, 0.00363026, 0.00382919, 0.00091342, 0.00382778,\n",
       "        0.00478808, 0.00284142, 0.00261887, 0.00123121, 0.003936  ,\n",
       "        0.00288024, 0.00108274, 0.00252277, 0.00389363, 0.00091118,\n",
       "        0.0046285 , 0.00203007, 0.00409085, 0.00146409, 0.00190919]),\n",
       " 'rank_test_score': array([13,  8,  2,  4,  9, 18, 15, 17, 14, 12,  1, 16, 20,  7, 10,  3,  5,\n",
       "        19,  6, 11])}"
      ]
     },
     "execution_count": 96,
     "metadata": {},
     "output_type": "execute_result"
    }
   ],
   "source": [
    "rs.cv_results_"
   ]
  },
  {
   "cell_type": "code",
   "execution_count": 97,
   "metadata": {},
   "outputs": [
    {
     "name": "stdout",
     "output_type": "stream",
     "text": [
      "Best accuracy Obtained: 0.7656802951584971\n",
      "Parameters\n",
      "\tsubsample:0.7900000000000003\n",
      "\tn_estimators:79\n",
      "\tmin_samples_split:300\n",
      "\tmin_samples_leaf:10\n",
      "\tmax_depth:8\n",
      "\tlearning_rate:0.15\n"
     ]
    }
   ],
   "source": [
    "print(\"Best accuracy Obtained: {0}\".format(rs.best_score_))\n",
    "print(\"Parameters\")\n",
    "for key, value in rs.best_params_.items():\n",
    "    print(\"\\t{}:{}\".format(key, value))"
   ]
  },
  {
   "cell_type": "code",
   "execution_count": 98,
   "metadata": {},
   "outputs": [
    {
     "name": "stdout",
     "output_type": "stream",
     "text": [
      "Confusion Matrix: \n",
      "[[1081  571]\n",
      " [ 224 1445]]\n",
      "Accuracy =  0.7606142728093948\n",
      "Precision =  0.716765873015873\n",
      "Recall =  0.865787896944278\n",
      "F1 Score =  0.7842605156037992\n",
      "AUC Score = 0.760073125227587\n",
      "Kappa score =  0.5207032724290217\n",
      "Error rate =  0.23938572719060525\n",
      "AUC-ROC Curve: \n"
     ]
    },
    {
     "data": {
      "image/png": "[encoded data removed]",
      "text/plain": [
       "<Figure size 432x288 with 1 Axes>"
      ]
     },
     "metadata": {
      "needs_background": "light"
     },
     "output_type": "display_data"
    },
    {
     "name": "stdout",
     "output_type": "stream",
     "text": [
      "Mean accuracy:  0.7663561996159803\n",
      "Variance:  0.01148336204769523\n"
     ]
    }
   ],
   "source": [
    "#Gradient Boosting Machine after tuning\n",
    "from sklearn.ensemble import GradientBoostingClassifier\n",
    "gbc = GradientBoostingClassifier(subsample = 0.7900000000000003,\n",
    "        n_estimators = 79,\n",
    "        min_samples_split = 300,\n",
    "        min_samples_leaf = 10,\n",
    "        max_depth = 8,\n",
    "        learning_rate = 0.15)\n",
    "gbc.fit(X_train,y_train)\n",
    "pred_y = gbc.predict(X_test)\n",
    "model_report(y_test,pred_y)\n",
    "KFold_Cross_Validation(gbc,10)"
   ]
  },
  {
   "cell_type": "code",
   "execution_count": 99,
   "metadata": {},
   "outputs": [],
   "source": [
    "#TFIDF Trigram model\n",
    "from sklearn.feature_extraction.text import TfidfVectorizer\n",
    "tv = TfidfVectorizer(ngram_range=(3,3), analyzer='word', min_df = 2)\n",
    "tv.fit(text_df['reviewContentNew'])\n",
    "tfidf_trigram_df = tv.fit_transform(text_df['reviewContentNew'])\n",
    "tfidf_trigram_df = tfidf_trigram_df.toarray()\n",
    "tfidf_trigram_df = pd.DataFrame(tfidf_trigram_df,columns=tv.get_feature_names())\n",
    "tfidf_trigram_df = tfidf_trigram_df.reset_index(drop=True)\n",
    "text_df = text_df.reset_index(drop=True)\n",
    "combined_trigram_df = pd.concat([text_df,tfidf_trigram_df], axis=1)"
   ]
  },
  {
   "cell_type": "code",
   "execution_count": 100,
   "metadata": {},
   "outputs": [],
   "source": [
    "#Dropping unwanted columns\n",
    "combined_trigram_df = combined_trigram_df.drop(columns=['reviewerID','reviewContent','flagged','restaurantID','ReviewID',\n",
    "                                                      'reviewContentNew','sentimentScore'])"
   ]
  },
  {
   "cell_type": "code",
   "execution_count": 101,
   "metadata": {},
   "outputs": [],
   "source": [
    "combined_trigram_df = combined_trigram_df.abs()"
   ]
  },
  {
   "cell_type": "code",
   "execution_count": 102,
   "metadata": {},
   "outputs": [],
   "source": [
    "#Splitting target varibles and independent variables\n",
    "X = combined_trigram_df.drop(columns=['flagged_code'])\n",
    "X = X.iloc[:,:].values\n",
    "y = combined_trigram_df.iloc[:,combined_trigram_df.columns.get_loc('flagged_code')].values"
   ]
  },
  {
   "cell_type": "code",
   "execution_count": 103,
   "metadata": {},
   "outputs": [
    {
     "data": {
      "text/plain": [
       "(16602, 36124)"
      ]
     },
     "execution_count": 103,
     "metadata": {},
     "output_type": "execute_result"
    }
   ],
   "source": [
    "X.shape"
   ]
  },
  {
   "cell_type": "code",
   "execution_count": 104,
   "metadata": {},
   "outputs": [
    {
     "data": {
      "text/plain": [
       "(16602,)"
      ]
     },
     "execution_count": 104,
     "metadata": {},
     "output_type": "execute_result"
    }
   ],
   "source": [
    "y.shape"
   ]
  },
  {
   "cell_type": "code",
   "execution_count": 105,
   "metadata": {},
   "outputs": [],
   "source": [
    "#Feature selection using Chi-Square test\n",
    "#Chi Square feature selection\n",
    "from sklearn.feature_selection import SelectKBest\n",
    "from sklearn.feature_selection import chi2\n",
    "\n",
    "chi_feature = SelectKBest(chi2, k=3000)\n",
    "X_KBest = chi_feature.fit_transform(X, y)"
   ]
  },
  {
   "cell_type": "code",
   "execution_count": 106,
   "metadata": {},
   "outputs": [],
   "source": [
    "#Splitting after feature selection\n",
    "from sklearn.model_selection import train_test_split\n",
    "X_train,X_test,y_train,y_test = train_test_split(X_KBest,y,test_size = 0.20,random_state = 123)"
   ]
  },
  {
   "cell_type": "code",
   "execution_count": 107,
   "metadata": {},
   "outputs": [
    {
     "name": "stdout",
     "output_type": "stream",
     "text": [
      "Confusion Matrix: \n",
      "[[1137  515]\n",
      " [ 114 1555]]\n",
      "Accuracy =  0.8105992171032822\n",
      "Precision =  0.751207729468599\n",
      "Recall =  0.9316956261234272\n",
      "F1 Score =  0.8317732013907462\n",
      "AUC Score = 0.8099761423595344\n",
      "Kappa score =  0.620719632781056\n",
      "Error rate =  0.1894007828967178\n",
      "AUC-ROC Curve: \n"
     ]
    },
    {
     "data": {
      "image/png": "[encoded data removed]",
      "text/plain": [
       "<Figure size 432x288 with 1 Axes>"
      ]
     },
     "metadata": {
      "needs_background": "light"
     },
     "output_type": "display_data"
    },
    {
     "name": "stdout",
     "output_type": "stream",
     "text": [
      "Mean accuracy:  0.8106326347045991\n",
      "Variance:  0.011471124886521704\n"
     ]
    }
   ],
   "source": [
    "#Gaussian Naive Bayes\n",
    "from sklearn.naive_bayes import GaussianNB\n",
    "gnb = GaussianNB()\n",
    "gnb.fit(X_train,y_train)\n",
    "pred_y = gnb.predict(X_test)\n",
    "model_report(y_test,pred_y)\n",
    "KFold_Cross_Validation(gnb,10)"
   ]
  },
  {
   "cell_type": "code",
   "execution_count": 108,
   "metadata": {},
   "outputs": [
    {
     "name": "stdout",
     "output_type": "stream",
     "text": [
      "Confusion Matrix: \n",
      "[[1039  613]\n",
      " [ 193 1476]]\n",
      "Accuracy =  0.7573020174646191\n",
      "Precision =  0.7065581617999043\n",
      "Recall =  0.8843618933493109\n",
      "F1 Score =  0.7855242150079831\n",
      "AUC Score = 0.7566482590233238\n",
      "Kappa score =  0.51396199472839\n",
      "Error rate =  0.24269798253538089\n",
      "AUC-ROC Curve: \n"
     ]
    },
    {
     "data": {
      "image/png": "[encoded data removed]",
      "text/plain": [
       "<Figure size 432x288 with 1 Axes>"
      ]
     },
     "metadata": {
      "needs_background": "light"
     },
     "output_type": "display_data"
    },
    {
     "name": "stdout",
     "output_type": "stream",
     "text": [
      "Mean accuracy:  0.7622907277964222\n",
      "Variance:  0.00887702647350463\n"
     ]
    }
   ],
   "source": [
    "#XGBoost before HyperParameter tuning\n",
    "import xgboost as xgb\n",
    "xgbc = xgb.XGBClassifier()\n",
    "xgbc.fit(X_train,y_train)\n",
    "pred_y = xgbc.predict(X_test)\n",
    "model_report(y_test,pred_y)\n",
    "KFold_Cross_Validation(xgbc,10)"
   ]
  },
  {
   "cell_type": "code",
   "execution_count": 109,
   "metadata": {},
   "outputs": [
    {
     "name": "stderr",
     "output_type": "stream",
     "text": [
      "C:\\Users\\Siddhanth\\Anaconda3\\lib\\site-packages\\sklearn\\model_selection\\_split.py:1978: FutureWarning: The default value of cv will change from 3 to 5 in version 0.22. Specify it explicitly to silence this warning.\n",
      "  warnings.warn(CV_WARNING, FutureWarning)\n",
      "[Parallel(n_jobs=4)]: Using backend LokyBackend with 4 concurrent workers.\n"
     ]
    },
    {
     "name": "stdout",
     "output_type": "stream",
     "text": [
      "Fitting 3 folds for each of 20 candidates, totalling 60 fits\n"
     ]
    },
    {
     "name": "stderr",
     "output_type": "stream",
     "text": [
      "[Parallel(n_jobs=4)]: Done   5 tasks      | elapsed:  2.7min\n",
      "[Parallel(n_jobs=4)]: Done  10 tasks      | elapsed:  4.1min\n",
      "[Parallel(n_jobs=4)]: Done  17 tasks      | elapsed:  7.1min\n",
      "[Parallel(n_jobs=4)]: Done  24 tasks      | elapsed:  8.3min\n",
      "[Parallel(n_jobs=4)]: Done  33 tasks      | elapsed: 13.9min\n",
      "[Parallel(n_jobs=4)]: Done  42 tasks      | elapsed: 18.2min\n",
      "[Parallel(n_jobs=4)]: Done  53 tasks      | elapsed: 22.1min\n",
      "[Parallel(n_jobs=4)]: Done  60 out of  60 | elapsed: 23.7min remaining:    0.0s\n",
      "[Parallel(n_jobs=4)]: Done  60 out of  60 | elapsed: 23.7min finished\n"
     ]
    },
    {
     "data": {
      "text/plain": [
       "RandomizedSearchCV(cv='warn', error_score='raise-deprecating',\n",
       "                   estimator=XGBClassifier(base_score=0.5, booster='gbtree',\n",
       "                                           colsample_bylevel=1,\n",
       "                                           colsample_bynode=1,\n",
       "                                           colsample_bytree=1, gamma=0,\n",
       "                                           learning_rate=0.1, max_delta_step=0,\n",
       "                                           max_depth=3, min_child_weight=1,\n",
       "                                           missing=None, n_estimators=100,\n",
       "                                           n_jobs=1, nthread=None,\n",
       "                                           objective='binary:logistic',\n",
       "                                           random_state=0, reg_al...\n",
       "                                        'subsample': array([0.5 , 0.51, 0.52, 0.53, 0.54, 0.55, 0.56, 0.57, 0.58, 0.59, 0.6 ,\n",
       "       0.61, 0.62, 0.63, 0.64, 0.65, 0.66, 0.67, 0.68, 0.69, 0.7 , 0.71,\n",
       "       0.72, 0.73, 0.74, 0.75, 0.76, 0.77, 0.78, 0.79, 0.8 , 0.81, 0.82,\n",
       "       0.83, 0.84, 0.85, 0.86, 0.87, 0.88, 0.89, 0.9 , 0.91, 0.92, 0.93,\n",
       "       0.94, 0.95, 0.96, 0.97, 0.98, 0.99])},\n",
       "                   pre_dispatch='2*n_jobs', random_state=10, refit=True,\n",
       "                   return_train_score=False, scoring='accuracy', verbose=10)"
      ]
     },
     "execution_count": 109,
     "metadata": {},
     "output_type": "execute_result"
    }
   ],
   "source": [
    "#Parameter Tuning - XGBoost\n",
    "from sklearn.model_selection import RandomizedSearchCV\n",
    "\n",
    "parameter = {   \n",
    "        'max_depth' : np.arange(3,10,1),\n",
    "        'n_estimators' : range(1,100,1),\n",
    "        'learning_rate' : [0.05, 0.10, 0.15, 0.20, 0.25, 0.30,0.50,0.60],\n",
    "        'eta' : range(1,100,1),\n",
    "        'subsample' : np.arange(0.5,1,0.01),\n",
    "        'min_child_weight': range(1,6,1),\n",
    "        'gamma' : [i/10.0 for i in range(0,5)]\n",
    "        }\n",
    "\n",
    "rs = RandomizedSearchCV(\n",
    "        estimator = xgbc,\n",
    "        param_distributions = parameter,\n",
    "        n_iter = 20,\n",
    "        scoring ='accuracy',\n",
    "        n_jobs=4,\n",
    "        verbose=10,\n",
    "        random_state=10\n",
    "        )\n",
    "\n",
    "rs.fit(X_train,y_train)"
   ]
  },
  {
   "cell_type": "code",
   "execution_count": 110,
   "metadata": {},
   "outputs": [
    {
     "data": {
      "text/plain": [
       "{'mean_fit_time': array([ 53.0993638 , 106.03821572, 122.06536992,  65.32105382,\n",
       "         13.60767094, 168.42726215,  70.2089177 ,  20.37116623,\n",
       "         82.28134227,  94.42736705, 238.89428854, 106.99795683,\n",
       "         43.9030207 , 194.03523429, 143.74920527, 100.0850416 ,\n",
       "         71.63123973,  47.85658177, 100.40961607,  16.25214148]),\n",
       " 'std_fit_time': array([ 0.26075758,  1.24440458, 13.22350287,  0.60375985,  0.08189428,\n",
       "         1.65200859,  0.46003091,  1.04039238,  0.63682359,  0.65220057,\n",
       "         5.38028189,  5.55906885,  0.6974181 ,  1.95590614,  2.83948772,\n",
       "         0.52158764,  0.52968397,  0.33476489,  2.13476653,  1.23924327]),\n",
       " 'mean_score_time': array([0.21859296, 0.28977903, 0.30206919, 0.27575294, 0.26237273,\n",
       "        0.27897255, 0.26725864, 0.24090258, 0.33108457, 0.33494099,\n",
       "        0.33887084, 0.30323394, 0.28584711, 0.31796241, 0.3086044 ,\n",
       "        0.2527353 , 0.28122044, 0.27258595, 0.27951797, 0.26437243]),\n",
       " 'std_score_time': array([0.05212643, 0.00553499, 0.01539835, 0.01275883, 0.0041592 ,\n",
       "        0.03396997, 0.00547382, 0.05295438, 0.00404878, 0.00988325,\n",
       "        0.0601326 , 0.01237859, 0.02922106, 0.00533252, 0.02291599,\n",
       "        0.04762402, 0.00187061, 0.00213297, 0.03427979, 0.03531152]),\n",
       " 'param_subsample': masked_array(data=[0.6500000000000001, 0.8100000000000003,\n",
       "                    0.8200000000000003, 0.8400000000000003,\n",
       "                    0.7000000000000002, 0.5700000000000001,\n",
       "                    0.7300000000000002, 0.6400000000000001,\n",
       "                    0.5900000000000001, 0.8600000000000003,\n",
       "                    0.6600000000000001, 0.7200000000000002,\n",
       "                    0.5800000000000001, 0.7900000000000003,\n",
       "                    0.8500000000000003, 0.6600000000000001,\n",
       "                    0.9200000000000004, 0.8700000000000003, 0.56, 0.55],\n",
       "              mask=[False, False, False, False, False, False, False, False,\n",
       "                    False, False, False, False, False, False, False, False,\n",
       "                    False, False, False, False],\n",
       "        fill_value='?',\n",
       "             dtype=object),\n",
       " 'param_n_estimators': masked_array(data=[29, 60, 84, 58, 5, 79, 76, 19, 27, 78, 82, 39, 43, 79,\n",
       "                    74, 86, 30, 34, 52, 16],\n",
       "              mask=[False, False, False, False, False, False, False, False,\n",
       "                    False, False, False, False, False, False, False, False,\n",
       "                    False, False, False, False],\n",
       "        fill_value='?',\n",
       "             dtype=object),\n",
       " 'param_min_child_weight': masked_array(data=[5, 4, 1, 3, 3, 1, 1, 3, 2, 3, 5, 4, 4, 1, 2, 4, 3, 5,\n",
       "                    1, 1],\n",
       "              mask=[False, False, False, False, False, False, False, False,\n",
       "                    False, False, False, False, False, False, False, False,\n",
       "                    False, False, False, False],\n",
       "        fill_value='?',\n",
       "             dtype=object),\n",
       " 'param_max_depth': masked_array(data=[6, 8, 6, 4, 7, 7, 3, 3, 9, 4, 9, 9, 3, 9, 8, 4, 9, 5,\n",
       "                    7, 3],\n",
       "              mask=[False, False, False, False, False, False, False, False,\n",
       "                    False, False, False, False, False, False, False, False,\n",
       "                    False, False, False, False],\n",
       "        fill_value='?',\n",
       "             dtype=object),\n",
       " 'param_learning_rate': masked_array(data=[0.05, 0.05, 0.15, 0.1, 0.5, 0.1, 0.05, 0.3, 0.1, 0.1,\n",
       "                    0.3, 0.6, 0.2, 0.1, 0.3, 0.5, 0.15, 0.05, 0.3, 0.6],\n",
       "              mask=[False, False, False, False, False, False, False, False,\n",
       "                    False, False, False, False, False, False, False, False,\n",
       "                    False, False, False, False],\n",
       "        fill_value='?',\n",
       "             dtype=object),\n",
       " 'param_gamma': masked_array(data=[0.1, 0.1, 0.4, 0.4, 0.3, 0.3, 0.3, 0.2, 0.3, 0.2, 0.3,\n",
       "                    0.0, 0.1, 0.2, 0.1, 0.2, 0.1, 0.4, 0.3, 0.4],\n",
       "              mask=[False, False, False, False, False, False, False, False,\n",
       "                    False, False, False, False, False, False, False, False,\n",
       "                    False, False, False, False],\n",
       "        fill_value='?',\n",
       "             dtype=object),\n",
       " 'param_eta': masked_array(data=[14, 31, 13, 83, 51, 52, 16, 7, 10, 9, 55, 94, 42, 3,\n",
       "                    54, 8, 88, 39, 70, 19],\n",
       "              mask=[False, False, False, False, False, False, False, False,\n",
       "                    False, False, False, False, False, False, False, False,\n",
       "                    False, False, False, False],\n",
       "        fill_value='?',\n",
       "             dtype=object),\n",
       " 'params': [{'subsample': 0.6500000000000001,\n",
       "   'n_estimators': 29,\n",
       "   'min_child_weight': 5,\n",
       "   'max_depth': 6,\n",
       "   'learning_rate': 0.05,\n",
       "   'gamma': 0.1,\n",
       "   'eta': 14},\n",
       "  {'subsample': 0.8100000000000003,\n",
       "   'n_estimators': 60,\n",
       "   'min_child_weight': 4,\n",
       "   'max_depth': 8,\n",
       "   'learning_rate': 0.05,\n",
       "   'gamma': 0.1,\n",
       "   'eta': 31},\n",
       "  {'subsample': 0.8200000000000003,\n",
       "   'n_estimators': 84,\n",
       "   'min_child_weight': 1,\n",
       "   'max_depth': 6,\n",
       "   'learning_rate': 0.15,\n",
       "   'gamma': 0.4,\n",
       "   'eta': 13},\n",
       "  {'subsample': 0.8400000000000003,\n",
       "   'n_estimators': 58,\n",
       "   'min_child_weight': 3,\n",
       "   'max_depth': 4,\n",
       "   'learning_rate': 0.1,\n",
       "   'gamma': 0.4,\n",
       "   'eta': 83},\n",
       "  {'subsample': 0.7000000000000002,\n",
       "   'n_estimators': 5,\n",
       "   'min_child_weight': 3,\n",
       "   'max_depth': 7,\n",
       "   'learning_rate': 0.5,\n",
       "   'gamma': 0.3,\n",
       "   'eta': 51},\n",
       "  {'subsample': 0.5700000000000001,\n",
       "   'n_estimators': 79,\n",
       "   'min_child_weight': 1,\n",
       "   'max_depth': 7,\n",
       "   'learning_rate': 0.1,\n",
       "   'gamma': 0.3,\n",
       "   'eta': 52},\n",
       "  {'subsample': 0.7300000000000002,\n",
       "   'n_estimators': 76,\n",
       "   'min_child_weight': 1,\n",
       "   'max_depth': 3,\n",
       "   'learning_rate': 0.05,\n",
       "   'gamma': 0.3,\n",
       "   'eta': 16},\n",
       "  {'subsample': 0.6400000000000001,\n",
       "   'n_estimators': 19,\n",
       "   'min_child_weight': 3,\n",
       "   'max_depth': 3,\n",
       "   'learning_rate': 0.3,\n",
       "   'gamma': 0.2,\n",
       "   'eta': 7},\n",
       "  {'subsample': 0.5900000000000001,\n",
       "   'n_estimators': 27,\n",
       "   'min_child_weight': 2,\n",
       "   'max_depth': 9,\n",
       "   'learning_rate': 0.1,\n",
       "   'gamma': 0.3,\n",
       "   'eta': 10},\n",
       "  {'subsample': 0.8600000000000003,\n",
       "   'n_estimators': 78,\n",
       "   'min_child_weight': 3,\n",
       "   'max_depth': 4,\n",
       "   'learning_rate': 0.1,\n",
       "   'gamma': 0.2,\n",
       "   'eta': 9},\n",
       "  {'subsample': 0.6600000000000001,\n",
       "   'n_estimators': 82,\n",
       "   'min_child_weight': 5,\n",
       "   'max_depth': 9,\n",
       "   'learning_rate': 0.3,\n",
       "   'gamma': 0.3,\n",
       "   'eta': 55},\n",
       "  {'subsample': 0.7200000000000002,\n",
       "   'n_estimators': 39,\n",
       "   'min_child_weight': 4,\n",
       "   'max_depth': 9,\n",
       "   'learning_rate': 0.6,\n",
       "   'gamma': 0.0,\n",
       "   'eta': 94},\n",
       "  {'subsample': 0.5800000000000001,\n",
       "   'n_estimators': 43,\n",
       "   'min_child_weight': 4,\n",
       "   'max_depth': 3,\n",
       "   'learning_rate': 0.2,\n",
       "   'gamma': 0.1,\n",
       "   'eta': 42},\n",
       "  {'subsample': 0.7900000000000003,\n",
       "   'n_estimators': 79,\n",
       "   'min_child_weight': 1,\n",
       "   'max_depth': 9,\n",
       "   'learning_rate': 0.1,\n",
       "   'gamma': 0.2,\n",
       "   'eta': 3},\n",
       "  {'subsample': 0.8500000000000003,\n",
       "   'n_estimators': 74,\n",
       "   'min_child_weight': 2,\n",
       "   'max_depth': 8,\n",
       "   'learning_rate': 0.3,\n",
       "   'gamma': 0.1,\n",
       "   'eta': 54},\n",
       "  {'subsample': 0.6600000000000001,\n",
       "   'n_estimators': 86,\n",
       "   'min_child_weight': 4,\n",
       "   'max_depth': 4,\n",
       "   'learning_rate': 0.5,\n",
       "   'gamma': 0.2,\n",
       "   'eta': 8},\n",
       "  {'subsample': 0.9200000000000004,\n",
       "   'n_estimators': 30,\n",
       "   'min_child_weight': 3,\n",
       "   'max_depth': 9,\n",
       "   'learning_rate': 0.15,\n",
       "   'gamma': 0.1,\n",
       "   'eta': 88},\n",
       "  {'subsample': 0.8700000000000003,\n",
       "   'n_estimators': 34,\n",
       "   'min_child_weight': 5,\n",
       "   'max_depth': 5,\n",
       "   'learning_rate': 0.05,\n",
       "   'gamma': 0.4,\n",
       "   'eta': 39},\n",
       "  {'subsample': 0.56,\n",
       "   'n_estimators': 52,\n",
       "   'min_child_weight': 1,\n",
       "   'max_depth': 7,\n",
       "   'learning_rate': 0.3,\n",
       "   'gamma': 0.3,\n",
       "   'eta': 70},\n",
       "  {'subsample': 0.55,\n",
       "   'n_estimators': 16,\n",
       "   'min_child_weight': 1,\n",
       "   'max_depth': 3,\n",
       "   'learning_rate': 0.6,\n",
       "   'gamma': 0.4,\n",
       "   'eta': 19}],\n",
       " 'split0_test_score': array([0.75948509, 0.76309846, 0.75609756, 0.76738934, 0.74661247,\n",
       "        0.7601626 , 0.75767841, 0.76196929, 0.75474255, 0.76287263,\n",
       "        0.7265131 , 0.71906052, 0.76129178, 0.75293586, 0.7366757 ,\n",
       "        0.72628726, 0.75722674, 0.75880759, 0.73102981, 0.75406504]),\n",
       " 'split1_test_score': array([0.75242828, 0.75446126, 0.75762367, 0.76146375, 0.75062119,\n",
       "        0.76146375, 0.74994353, 0.7537836 , 0.76214141, 0.76010843,\n",
       "        0.73887508, 0.71380167, 0.75897899, 0.75739779, 0.73955274,\n",
       "        0.725096  , 0.75107296, 0.75062119, 0.73074317, 0.75491303]),\n",
       " 'split2_test_score': array([0.76457298, 0.76389516, 0.7605061 , 0.76321735, 0.74423859,\n",
       "        0.75576141, 0.75395391, 0.76299141, 0.75576141, 0.76683235,\n",
       "        0.7358789 , 0.72887483, 0.76366923, 0.76253954, 0.74220515,\n",
       "        0.73971984, 0.75824672, 0.76344329, 0.73452327, 0.74988703]),\n",
       " 'mean_test_score': array([0.7588284 , 0.7604849 , 0.75807545, 0.76402379, 0.74715759,\n",
       "        0.75912958, 0.7538589 , 0.75958136, 0.75754838, 0.76327084,\n",
       "        0.73375499, 0.72057827, 0.76131315, 0.75762367, 0.73947745,\n",
       "        0.73036669, 0.7555154 , 0.75762367, 0.73209849, 0.75295535]),\n",
       " 'std_test_score': array([0.00497948, 0.00427176, 0.00182791, 0.00248553, 0.00263391,\n",
       "        0.00243979, 0.00315864, 0.00412081, 0.00327429, 0.00275929,\n",
       "        0.00526568, 0.00624616, 0.00191473, 0.00392394, 0.00225802,\n",
       "        0.00663042, 0.00316876, 0.00530085, 0.00171828, 0.00219672]),\n",
       " 'rank_test_score': array([ 7,  4,  8,  1, 15,  6, 13,  5, 11,  2, 17, 20,  3,  9, 16, 19, 12,\n",
       "         9, 18, 14])}"
      ]
     },
     "execution_count": 110,
     "metadata": {},
     "output_type": "execute_result"
    }
   ],
   "source": [
    "rs.cv_results_"
   ]
  },
  {
   "cell_type": "code",
   "execution_count": 111,
   "metadata": {},
   "outputs": [
    {
     "name": "stdout",
     "output_type": "stream",
     "text": [
      "Best accuracy Obtained: 0.764023793389052\n",
      "Parameters\n",
      "\tsubsample:0.8400000000000003\n",
      "\tn_estimators:58\n",
      "\tmin_child_weight:3\n",
      "\tmax_depth:4\n",
      "\tlearning_rate:0.1\n",
      "\tgamma:0.4\n",
      "\teta:83\n"
     ]
    }
   ],
   "source": [
    "print(\"Best accuracy Obtained: {0}\".format(rs.best_score_))\n",
    "print(\"Parameters\")\n",
    "for key, value in rs.best_params_.items():\n",
    "    print(\"\\t{}:{}\".format(key, value))"
   ]
  },
  {
   "cell_type": "code",
   "execution_count": 112,
   "metadata": {},
   "outputs": [
    {
     "name": "stdout",
     "output_type": "stream",
     "text": [
      "Confusion Matrix: \n",
      "[[1041  611]\n",
      " [ 187 1482]]\n",
      "Accuracy =  0.7597109304426377\n",
      "Precision =  0.7080745341614907\n",
      "Recall =  0.8879568603954464\n",
      "F1 Score =  0.7878787878787878\n",
      "AUC Score = 0.7590510694229048\n",
      "Kappa score =  0.518780251483158\n",
      "Error rate =  0.2402890695573623\n",
      "AUC-ROC Curve: \n"
     ]
    },
    {
     "data": {
      "image/png": "[encoded data removed]",
      "text/plain": [
       "<Figure size 432x288 with 1 Axes>"
      ]
     },
     "metadata": {
      "needs_background": "light"
     },
     "output_type": "display_data"
    },
    {
     "name": "stdout",
     "output_type": "stream",
     "text": [
      "Mean accuracy:  0.7628172127134334\n",
      "Variance:  0.008878682622188218\n"
     ]
    }
   ],
   "source": [
    "#XGBoost After Tuning\n",
    "import xgboost as xgb\n",
    "xgbc = xgb.XGBClassifier(subsample = 0.8400000000000003,\n",
    "        n_estimators = 58,\n",
    "        min_child_weight = 3,\n",
    "        max_depth = 4,\n",
    "        learning_rate = 0.1,\n",
    "        gamma = 0.4,\n",
    "        eta = 83)\n",
    "xgbc.fit(X_train,y_train)\n",
    "pred_y = xgbc.predict(X_test)\n",
    "model_report(y_test,pred_y) \n",
    "KFold_Cross_Validation(xgbc,10)"
   ]
  },
  {
   "cell_type": "code",
   "execution_count": 113,
   "metadata": {},
   "outputs": [
    {
     "name": "stdout",
     "output_type": "stream",
     "text": [
      "Confusion Matrix: \n",
      "[[1074  578]\n",
      " [ 248 1421]]\n",
      "Accuracy =  0.7512797350195725\n",
      "Precision =  0.7108554277138569\n",
      "Recall =  0.8514080287597364\n",
      "F1 Score =  0.7748091603053435\n",
      "AUC Score = 0.7507645470675195\n",
      "Kappa score =  0.5020398397753689\n",
      "Error rate =  0.24872026498042754\n",
      "AUC-ROC Curve: \n"
     ]
    },
    {
     "data": {
      "image/png": "[encoded data removed]",
      "text/plain": [
       "<Figure size 432x288 with 1 Axes>"
      ]
     },
     "metadata": {
      "needs_background": "light"
     },
     "output_type": "display_data"
    },
    {
     "name": "stdout",
     "output_type": "stream",
     "text": [
      "Mean accuracy:  0.7593532997777409\n",
      "Variance:  0.007582090185520406\n"
     ]
    }
   ],
   "source": [
    "#AdaBoost\n",
    "from sklearn.ensemble import AdaBoostClassifier \n",
    "abc = AdaBoostClassifier()\n",
    "abc.fit(X_train,y_train)\n",
    "pred_y = abc.predict(X_test)\n",
    "model_report(y_test,pred_y)\n",
    "KFold_Cross_Validation(abc,10)"
   ]
  },
  {
   "cell_type": "code",
   "execution_count": 114,
   "metadata": {},
   "outputs": [
    {
     "name": "stderr",
     "output_type": "stream",
     "text": [
      "C:\\Users\\Siddhanth\\Anaconda3\\lib\\site-packages\\sklearn\\model_selection\\_split.py:1978: FutureWarning: The default value of cv will change from 3 to 5 in version 0.22. Specify it explicitly to silence this warning.\n",
      "  warnings.warn(CV_WARNING, FutureWarning)\n",
      "[Parallel(n_jobs=4)]: Using backend LokyBackend with 4 concurrent workers.\n"
     ]
    },
    {
     "name": "stdout",
     "output_type": "stream",
     "text": [
      "Fitting 3 folds for each of 20 candidates, totalling 60 fits\n"
     ]
    },
    {
     "name": "stderr",
     "output_type": "stream",
     "text": [
      "[Parallel(n_jobs=4)]: Done   5 tasks      | elapsed:  1.7min\n",
      "[Parallel(n_jobs=4)]: Done  10 tasks      | elapsed:  3.4min\n",
      "[Parallel(n_jobs=4)]: Done  17 tasks      | elapsed:  5.5min\n",
      "[Parallel(n_jobs=4)]: Done  24 tasks      | elapsed:  7.5min\n",
      "[Parallel(n_jobs=4)]: Done  33 tasks      | elapsed: 10.4min\n",
      "[Parallel(n_jobs=4)]: Done  42 tasks      | elapsed: 13.6min\n",
      "[Parallel(n_jobs=4)]: Done  53 tasks      | elapsed: 15.6min\n",
      "[Parallel(n_jobs=4)]: Done  60 out of  60 | elapsed: 16.6min remaining:    0.0s\n",
      "[Parallel(n_jobs=4)]: Done  60 out of  60 | elapsed: 16.6min finished\n"
     ]
    },
    {
     "data": {
      "text/plain": [
       "RandomizedSearchCV(cv='warn', error_score='raise-deprecating',\n",
       "                   estimator=AdaBoostClassifier(algorithm='SAMME.R',\n",
       "                                                base_estimator=None,\n",
       "                                                learning_rate=1.0,\n",
       "                                                n_estimators=50,\n",
       "                                                random_state=None),\n",
       "                   iid='warn', n_iter=20, n_jobs=4,\n",
       "                   param_distributions={'learning_rate': [0.05, 0.1, 0.15, 0.2,\n",
       "                                                          0.25, 0.3, 0.5, 0.6,\n",
       "                                                          0.7, 0.8, 0.9, 1.0],\n",
       "                                        'n_estimators': range(1, 100)},\n",
       "                   pre_dispatch='2*n_jobs', random_state=10, refit=True,\n",
       "                   return_train_score=False, scoring='accuracy', verbose=10)"
      ]
     },
     "execution_count": 114,
     "metadata": {},
     "output_type": "execute_result"
    }
   ],
   "source": [
    "#Parameter Tuning AdaBoost\n",
    "parameter = {\n",
    "        'n_estimators' : range(1,100,1),\n",
    "        'learning_rate' : [0.05, 0.10, 0.15, 0.20, 0.25, 0.30,0.50,0.60,0.70,0.80,0.90,1.0]\n",
    "        }\n",
    "\n",
    "rs = RandomizedSearchCV(\n",
    "        estimator = abc,\n",
    "        param_distributions = parameter,\n",
    "        n_iter = 20,\n",
    "        scoring ='accuracy',\n",
    "        n_jobs=4,\n",
    "        verbose=10,\n",
    "        random_state=10\n",
    "        )\n",
    "\n",
    "rs.fit(X_train,y_train)"
   ]
  },
  {
   "cell_type": "code",
   "execution_count": 115,
   "metadata": {},
   "outputs": [
    {
     "data": {
      "text/plain": [
       "{'mean_fit_time': array([ 10.47598092, 102.24535664,  39.38436349,  81.270329  ,\n",
       "         54.75315666, 109.02254526,  41.28139242,  65.80580298,\n",
       "         77.02581127,  98.84467085,  72.05589644,  23.63498847,\n",
       "         84.7724661 ,  79.86305435, 109.2201155 ,  15.35039632,\n",
       "         70.85913356,   7.76621699,  33.44061844,  26.40018272]),\n",
       " 'std_fit_time': array([0.0813427 , 0.22843312, 0.38302509, 0.20779556, 0.21782556,\n",
       "        0.09284916, 0.11093028, 0.1719198 , 0.17726214, 0.14608988,\n",
       "        0.3363582 , 0.05957151, 0.09301082, 1.34247335, 3.4823739 ,\n",
       "        0.4252354 , 0.10427888, 0.05188276, 0.39248959, 1.62074944]),\n",
       " 'mean_score_time': array([0.89532272, 9.06170734, 3.51389949, 7.19914993, 4.82357613,\n",
       "        9.74880544, 3.63812804, 5.86678259, 6.87064997, 8.8725903 ,\n",
       "        6.31144102, 1.91265106, 7.84793711, 7.03457681, 8.56893023,\n",
       "        1.21669992, 6.56677365, 0.62213715, 2.3328197 , 1.93739891]),\n",
       " 'std_score_time': array([0.00567083, 0.01951731, 0.07600586, 0.00997511, 0.04424223,\n",
       "        0.05263376, 0.0248291 , 0.01305173, 0.00152304, 0.01898393,\n",
       "        0.11022364, 0.20612202, 0.15911   , 0.10217501, 0.67151835,\n",
       "        0.18369294, 0.09884453, 0.0021848 , 0.04543454, 0.10713635]),\n",
       " 'param_n_estimators': masked_array(data=[8, 90, 34, 72, 48, 97, 36, 58, 68, 88, 64, 20, 77, 70,\n",
       "                    98, 13, 67, 6, 31, 28],\n",
       "              mask=[False, False, False, False, False, False, False, False,\n",
       "                    False, False, False, False, False, False, False, False,\n",
       "                    False, False, False, False],\n",
       "        fill_value='?',\n",
       "             dtype=object),\n",
       " 'param_learning_rate': masked_array(data=[0.9, 0.1, 0.8, 0.9, 0.8, 0.25, 1.0, 0.2, 0.05, 0.05,\n",
       "                    0.15, 0.6, 0.3, 0.05, 0.6, 0.9, 0.8, 0.15, 0.15, 1.0],\n",
       "              mask=[False, False, False, False, False, False, False, False,\n",
       "                    False, False, False, False, False, False, False, False,\n",
       "                    False, False, False, False],\n",
       "        fill_value='?',\n",
       "             dtype=object),\n",
       " 'params': [{'n_estimators': 8, 'learning_rate': 0.9},\n",
       "  {'n_estimators': 90, 'learning_rate': 0.1},\n",
       "  {'n_estimators': 34, 'learning_rate': 0.8},\n",
       "  {'n_estimators': 72, 'learning_rate': 0.9},\n",
       "  {'n_estimators': 48, 'learning_rate': 0.8},\n",
       "  {'n_estimators': 97, 'learning_rate': 0.25},\n",
       "  {'n_estimators': 36, 'learning_rate': 1.0},\n",
       "  {'n_estimators': 58, 'learning_rate': 0.2},\n",
       "  {'n_estimators': 68, 'learning_rate': 0.05},\n",
       "  {'n_estimators': 88, 'learning_rate': 0.05},\n",
       "  {'n_estimators': 64, 'learning_rate': 0.15},\n",
       "  {'n_estimators': 20, 'learning_rate': 0.6},\n",
       "  {'n_estimators': 77, 'learning_rate': 0.3},\n",
       "  {'n_estimators': 70, 'learning_rate': 0.05},\n",
       "  {'n_estimators': 98, 'learning_rate': 0.6},\n",
       "  {'n_estimators': 13, 'learning_rate': 0.9},\n",
       "  {'n_estimators': 67, 'learning_rate': 0.8},\n",
       "  {'n_estimators': 6, 'learning_rate': 0.15},\n",
       "  {'n_estimators': 31, 'learning_rate': 0.15},\n",
       "  {'n_estimators': 28, 'learning_rate': 1.0}],\n",
       " 'split0_test_score': array([0.74412827, 0.74977416, 0.76264679, 0.75474255, 0.75880759,\n",
       "        0.75858175, 0.75293586, 0.75609756, 0.72131888, 0.72515808,\n",
       "        0.75248419, 0.75542005, 0.7570009 , 0.72131888, 0.76106594,\n",
       "        0.74887082, 0.7633243 , 0.71770551, 0.7265131 , 0.75338753]),\n",
       " 'split1_test_score': array([0.74452225, 0.74723289, 0.7571719 , 0.75423537, 0.75807545,\n",
       "        0.75830133, 0.75265417, 0.75175062, 0.7149311 , 0.72125593,\n",
       "        0.74768466, 0.75310594, 0.75739779, 0.7149311 , 0.76168963,\n",
       "        0.74587757, 0.7571719 , 0.7149311 , 0.72419246, 0.75242828]),\n",
       " 'split2_test_score': array([0.75056484, 0.74875734, 0.76028016, 0.75643922, 0.7605061 ,\n",
       "        0.76208766, 0.75621329, 0.7532761 , 0.72480795, 0.72548577,\n",
       "        0.75169453, 0.75915047, 0.76186173, 0.72480795, 0.76253954,\n",
       "        0.75124266, 0.75937641, 0.71938545, 0.7257117 , 0.75711704]),\n",
       " 'mean_test_score': array([0.74640464, 0.74858821, 0.76003313, 0.75513892, 0.75912958,\n",
       "        0.75965665, 0.75393419, 0.75370831, 0.72035238, 0.72396657,\n",
       "        0.75062119, 0.75589188, 0.75875311, 0.72035238, 0.76176493,\n",
       "        0.7486635 , 0.75995783, 0.71734056, 0.72547248, 0.75431067]),\n",
       " 'std_test_score': array([0.00294561, 0.0010444 , 0.00224205, 0.00094233, 0.00101805,\n",
       "        0.0017225 , 0.00161539, 0.00180084, 0.00408951, 0.00192137,\n",
       "        0.00210131, 0.00248999, 0.00220372, 0.00408951, 0.00060394,\n",
       "        0.00219507, 0.00254526, 0.0018366 , 0.00096243, 0.00202235]),\n",
       " 'rank_test_score': array([15, 14,  2,  8,  5,  4, 10, 11, 18, 17, 12,  7,  6, 18,  1, 13,  3,\n",
       "        20, 16,  9])}"
      ]
     },
     "execution_count": 115,
     "metadata": {},
     "output_type": "execute_result"
    }
   ],
   "source": [
    "rs.cv_results_"
   ]
  },
  {
   "cell_type": "code",
   "execution_count": 116,
   "metadata": {},
   "outputs": [
    {
     "name": "stdout",
     "output_type": "stream",
     "text": [
      "Best accuracy Obtained: 0.7617649273398087\n",
      "Parameters\n",
      "\tn_estimators:98\n",
      "\tlearning_rate:0.6\n"
     ]
    }
   ],
   "source": [
    "print(\"Best accuracy Obtained: {0}\".format(rs.best_score_))\n",
    "print(\"Parameters\")\n",
    "for key, value in rs.best_params_.items():\n",
    "    print(\"\\t{}:{}\".format(key, value))"
   ]
  },
  {
   "cell_type": "code",
   "execution_count": 117,
   "metadata": {},
   "outputs": [
    {
     "name": "stdout",
     "output_type": "stream",
     "text": [
      "Confusion Matrix: \n",
      "[[1043  609]\n",
      " [ 208 1461]]\n",
      "Accuracy =  0.7539897621198434\n",
      "Precision =  0.7057971014492753\n",
      "Recall =  0.8753744757339724\n",
      "F1 Score =  0.7814923776410805\n",
      "AUC Score = 0.7533652039686811\n",
      "Kappa score =  0.5073576152338994\n",
      "Error rate =  0.24601023788015663\n",
      "AUC-ROC Curve: \n"
     ]
    },
    {
     "data": {
      "image/png": "[encoded data removed]",
      "text/plain": [
       "<Figure size 432x288 with 1 Axes>"
      ]
     },
     "metadata": {
      "needs_background": "light"
     },
     "output_type": "display_data"
    },
    {
     "name": "stdout",
     "output_type": "stream",
     "text": [
      "Mean accuracy:  0.7604836688609058\n",
      "Variance:  0.010057241634117453\n"
     ]
    }
   ],
   "source": [
    "#After parameter Tuning - AdaBoost\n",
    "from sklearn.ensemble import AdaBoostClassifier \n",
    "abc = AdaBoostClassifier(n_estimators = 98,\n",
    "                         learning_rate = 0.6)\n",
    "abc.fit(X_train,y_train)\n",
    "pred_y = abc.predict(X_test)\n",
    "model_report(y_test,pred_y)\n",
    "KFold_Cross_Validation(abc,10)"
   ]
  },
  {
   "cell_type": "code",
   "execution_count": 118,
   "metadata": {},
   "outputs": [
    {
     "name": "stdout",
     "output_type": "stream",
     "text": [
      "Confusion Matrix: \n",
      "[[1039  613]\n",
      " [ 180 1489]]\n",
      "Accuracy =  0.7612165010538994\n",
      "Precision =  0.7083729781160799\n",
      "Recall =  0.8921509886159377\n",
      "F1 Score =  0.7897109520021216\n",
      "AUC Score = 0.7605428066566372\n",
      "Kappa score =  0.5217821269780453\n",
      "Error rate =  0.23878349894610063\n",
      "AUC-ROC Curve: \n"
     ]
    },
    {
     "data": {
      "image/png": "[encoded data removed]",
      "text/plain": [
       "<Figure size 432x288 with 1 Axes>"
      ]
     },
     "metadata": {
      "needs_background": "light"
     },
     "output_type": "display_data"
    },
    {
     "name": "stdout",
     "output_type": "stream",
     "text": [
      "Mean accuracy:  0.7625914224190733\n",
      "Variance:  0.009196500418565592\n"
     ]
    }
   ],
   "source": [
    "#GradientBoosting\n",
    "from sklearn.ensemble import GradientBoostingClassifier\n",
    "gbc = GradientBoostingClassifier()\n",
    "gbc.fit(X_train,y_train)\n",
    "pred_y = gbc.predict(X_test)\n",
    "model_report(y_test,pred_y)\n",
    "KFold_Cross_Validation(gbc,10)"
   ]
  },
  {
   "cell_type": "code",
   "execution_count": 119,
   "metadata": {},
   "outputs": [
    {
     "name": "stderr",
     "output_type": "stream",
     "text": [
      "C:\\Users\\Siddhanth\\Anaconda3\\lib\\site-packages\\sklearn\\model_selection\\_split.py:1978: FutureWarning: The default value of cv will change from 3 to 5 in version 0.22. Specify it explicitly to silence this warning.\n",
      "  warnings.warn(CV_WARNING, FutureWarning)\n",
      "[Parallel(n_jobs=4)]: Using backend LokyBackend with 4 concurrent workers.\n"
     ]
    },
    {
     "name": "stdout",
     "output_type": "stream",
     "text": [
      "Fitting 3 folds for each of 20 candidates, totalling 60 fits\n"
     ]
    },
    {
     "name": "stderr",
     "output_type": "stream",
     "text": [
      "[Parallel(n_jobs=4)]: Done   5 tasks      | elapsed:  3.7min\n",
      "[Parallel(n_jobs=4)]: Done  10 tasks      | elapsed:  4.3min\n",
      "[Parallel(n_jobs=4)]: Done  17 tasks      | elapsed:  6.0min\n",
      "[Parallel(n_jobs=4)]: Done  24 tasks      | elapsed: 11.0min\n",
      "[Parallel(n_jobs=4)]: Done  33 tasks      | elapsed: 16.1min\n",
      "[Parallel(n_jobs=4)]: Done  42 tasks      | elapsed: 22.1min\n",
      "[Parallel(n_jobs=4)]: Done  53 tasks      | elapsed: 28.6min\n",
      "[Parallel(n_jobs=4)]: Done  60 out of  60 | elapsed: 30.6min remaining:    0.0s\n",
      "[Parallel(n_jobs=4)]: Done  60 out of  60 | elapsed: 30.6min finished\n"
     ]
    },
    {
     "data": {
      "text/plain": [
       "RandomizedSearchCV(cv='warn', error_score='raise-deprecating',\n",
       "                   estimator=GradientBoostingClassifier(criterion='friedman_mse',\n",
       "                                                        init=None,\n",
       "                                                        learning_rate=0.1,\n",
       "                                                        loss='deviance',\n",
       "                                                        max_depth=3,\n",
       "                                                        max_features=None,\n",
       "                                                        max_leaf_nodes=None,\n",
       "                                                        min_impurity_decrease=0.0,\n",
       "                                                        min_impurity_split=None,\n",
       "                                                        min_samples_leaf=1,\n",
       "                                                        min_samples_split=2,\n",
       "                                                        min_weight_fraction_leaf=0.0,\n",
       "                                                        n_estimators=10...\n",
       "                                        'subsample': array([0.5 , 0.51, 0.52, 0.53, 0.54, 0.55, 0.56, 0.57, 0.58, 0.59, 0.6 ,\n",
       "       0.61, 0.62, 0.63, 0.64, 0.65, 0.66, 0.67, 0.68, 0.69, 0.7 , 0.71,\n",
       "       0.72, 0.73, 0.74, 0.75, 0.76, 0.77, 0.78, 0.79, 0.8 , 0.81, 0.82,\n",
       "       0.83, 0.84, 0.85, 0.86, 0.87, 0.88, 0.89, 0.9 , 0.91, 0.92, 0.93,\n",
       "       0.94, 0.95, 0.96, 0.97, 0.98, 0.99])},\n",
       "                   pre_dispatch='2*n_jobs', random_state=10, refit=True,\n",
       "                   return_train_score=False, scoring='accuracy', verbose=10)"
      ]
     },
     "execution_count": 119,
     "metadata": {},
     "output_type": "execute_result"
    }
   ],
   "source": [
    "#Parameter Tuning Gradient Boosting Machine\n",
    "parameter = {\n",
    "        'n_estimators' : range(1,100,1),\n",
    "        'learning_rate' : [0.05, 0.10, 0.15, 0.20, 0.25, 0.30,0.50,0.60,0.70,0.80,0.90,1.0],\n",
    "        'subsample' : np.arange(0.5,1,0.01),\n",
    "        'min_samples_split' : range(50,500,50),\n",
    "        'min_samples_leaf' : range(10,400,20),\n",
    "        'max_depth' : np.arange(3,10,1)\n",
    "        \n",
    "        }\n",
    "\n",
    "rs = RandomizedSearchCV(\n",
    "        estimator = gbc,\n",
    "        param_distributions = parameter,\n",
    "        n_iter = 20,\n",
    "        scoring ='accuracy',\n",
    "        n_jobs=4,\n",
    "        verbose=10,\n",
    "        random_state=10\n",
    "        )\n",
    "\n",
    "rs.fit(X_train,y_train)"
   ]
  },
  {
   "cell_type": "code",
   "execution_count": 120,
   "metadata": {},
   "outputs": [
    {
     "data": {
      "text/plain": [
       "{'mean_fit_time': array([224.69387698,  35.89333161,  81.03510857,  14.74473429,\n",
       "         33.48826981,  71.81458966, 185.61421919, 209.4591101 ,\n",
       "         71.35382096,  10.22963834, 275.30333662, 165.96909571,\n",
       "        195.84204777, 161.31305448,  76.22911509,  94.05643344,\n",
       "        247.74770315, 168.06016906,  47.01192784,  42.71642033]),\n",
       " 'std_fit_time': array([2.88769907, 1.70487237, 1.2010981 , 0.15506755, 0.5498669 ,\n",
       "        1.0674282 , 0.21736195, 1.30215879, 0.54411291, 0.25857034,\n",
       "        0.98974603, 1.52065241, 5.8999438 , 1.3635166 , 1.2086194 ,\n",
       "        1.10168054, 1.73024878, 0.74299769, 1.35814271, 3.79714291]),\n",
       " 'mean_score_time': array([0.16389505, 0.12333663, 0.13364291, 0.11037374, 0.12865583,\n",
       "        0.12699366, 0.1466078 , 0.14561041, 0.13696734, 0.12100951,\n",
       "        0.16688577, 0.14394784, 0.15159575, 0.16921377, 0.1133639 ,\n",
       "        0.12366978, 0.15924048, 0.13729914, 0.11968112, 0.10105952]),\n",
       " 'std_score_time': array([0.00734305, 0.02079772, 0.00508416, 0.00328791, 0.00215384,\n",
       "        0.00384991, 0.00746293, 0.01572752, 0.01600571, 0.00401692,\n",
       "        0.01477977, 0.00790954, 0.00826497, 0.01663557, 0.0114097 ,\n",
       "        0.01017175, 0.03184523, 0.0142283 , 0.01440372, 0.02203267]),\n",
       " 'param_subsample': masked_array(data=[0.7200000000000002, 0.6300000000000001,\n",
       "                    0.6000000000000001, 0.53, 0.6400000000000001,\n",
       "                    0.5900000000000001, 0.6400000000000001,\n",
       "                    0.8600000000000003, 0.9200000000000004, 0.52,\n",
       "                    0.7900000000000003, 0.6600000000000001,\n",
       "                    0.8000000000000003, 0.8100000000000003,\n",
       "                    0.9600000000000004, 0.7000000000000002,\n",
       "                    0.7600000000000002, 0.56, 0.8500000000000003,\n",
       "                    0.8100000000000003],\n",
       "              mask=[False, False, False, False, False, False, False, False,\n",
       "                    False, False, False, False, False, False, False, False,\n",
       "                    False, False, False, False],\n",
       "        fill_value='?',\n",
       "             dtype=object),\n",
       " 'param_n_estimators': masked_array(data=[81, 16, 50, 9, 19, 27, 96, 78, 18, 5, 79, 86, 53, 95,\n",
       "                    23, 62, 90, 92, 16, 14],\n",
       "              mask=[False, False, False, False, False, False, False, False,\n",
       "                    False, False, False, False, False, False, False, False,\n",
       "                    False, False, False, False],\n",
       "        fill_value='?',\n",
       "             dtype=object),\n",
       " 'param_min_samples_split': masked_array(data=[350, 350, 450, 200, 150, 350, 400, 200, 150, 250, 300,\n",
       "                    200, 400, 300, 50, 350, 50, 200, 200, 50],\n",
       "              mask=[False, False, False, False, False, False, False, False,\n",
       "                    False, False, False, False, False, False, False, False,\n",
       "                    False, False, False, False],\n",
       "        fill_value='?',\n",
       "             dtype=object),\n",
       " 'param_min_samples_leaf': masked_array(data=[270, 230, 50, 370, 310, 10, 390, 230, 250, 310, 10,\n",
       "                    310, 90, 230, 90, 190, 250, 90, 350, 230],\n",
       "              mask=[False, False, False, False, False, False, False, False,\n",
       "                    False, False, False, False, False, False, False, False,\n",
       "                    False, False, False, False],\n",
       "        fill_value='?',\n",
       "             dtype=object),\n",
       " 'param_max_depth': masked_array(data=[9, 8, 4, 4, 4, 8, 8, 5, 9, 8, 8, 5, 9, 3, 5, 3, 8, 5,\n",
       "                    9, 9],\n",
       "              mask=[False, False, False, False, False, False, False, False,\n",
       "                    False, False, False, False, False, False, False, False,\n",
       "                    False, False, False, False],\n",
       "        fill_value='?',\n",
       "             dtype=object),\n",
       " 'param_learning_rate': masked_array(data=[0.3, 0.2, 0.25, 0.6, 0.6, 0.9, 0.7, 0.8, 0.9, 0.15,\n",
       "                    0.15, 0.7, 0.9, 0.05, 0.6, 0.15, 0.1, 0.6, 0.3, 0.6],\n",
       "              mask=[False, False, False, False, False, False, False, False,\n",
       "                    False, False, False, False, False, False, False, False,\n",
       "                    False, False, False, False],\n",
       "        fill_value='?',\n",
       "             dtype=object),\n",
       " 'params': [{'subsample': 0.7200000000000002,\n",
       "   'n_estimators': 81,\n",
       "   'min_samples_split': 350,\n",
       "   'min_samples_leaf': 270,\n",
       "   'max_depth': 9,\n",
       "   'learning_rate': 0.3},\n",
       "  {'subsample': 0.6300000000000001,\n",
       "   'n_estimators': 16,\n",
       "   'min_samples_split': 350,\n",
       "   'min_samples_leaf': 230,\n",
       "   'max_depth': 8,\n",
       "   'learning_rate': 0.2},\n",
       "  {'subsample': 0.6000000000000001,\n",
       "   'n_estimators': 50,\n",
       "   'min_samples_split': 450,\n",
       "   'min_samples_leaf': 50,\n",
       "   'max_depth': 4,\n",
       "   'learning_rate': 0.25},\n",
       "  {'subsample': 0.53,\n",
       "   'n_estimators': 9,\n",
       "   'min_samples_split': 200,\n",
       "   'min_samples_leaf': 370,\n",
       "   'max_depth': 4,\n",
       "   'learning_rate': 0.6},\n",
       "  {'subsample': 0.6400000000000001,\n",
       "   'n_estimators': 19,\n",
       "   'min_samples_split': 150,\n",
       "   'min_samples_leaf': 310,\n",
       "   'max_depth': 4,\n",
       "   'learning_rate': 0.6},\n",
       "  {'subsample': 0.5900000000000001,\n",
       "   'n_estimators': 27,\n",
       "   'min_samples_split': 350,\n",
       "   'min_samples_leaf': 10,\n",
       "   'max_depth': 8,\n",
       "   'learning_rate': 0.9},\n",
       "  {'subsample': 0.6400000000000001,\n",
       "   'n_estimators': 96,\n",
       "   'min_samples_split': 400,\n",
       "   'min_samples_leaf': 390,\n",
       "   'max_depth': 8,\n",
       "   'learning_rate': 0.7},\n",
       "  {'subsample': 0.8600000000000003,\n",
       "   'n_estimators': 78,\n",
       "   'min_samples_split': 200,\n",
       "   'min_samples_leaf': 230,\n",
       "   'max_depth': 5,\n",
       "   'learning_rate': 0.8},\n",
       "  {'subsample': 0.9200000000000004,\n",
       "   'n_estimators': 18,\n",
       "   'min_samples_split': 150,\n",
       "   'min_samples_leaf': 250,\n",
       "   'max_depth': 9,\n",
       "   'learning_rate': 0.9},\n",
       "  {'subsample': 0.52,\n",
       "   'n_estimators': 5,\n",
       "   'min_samples_split': 250,\n",
       "   'min_samples_leaf': 310,\n",
       "   'max_depth': 8,\n",
       "   'learning_rate': 0.15},\n",
       "  {'subsample': 0.7900000000000003,\n",
       "   'n_estimators': 79,\n",
       "   'min_samples_split': 300,\n",
       "   'min_samples_leaf': 10,\n",
       "   'max_depth': 8,\n",
       "   'learning_rate': 0.15},\n",
       "  {'subsample': 0.6600000000000001,\n",
       "   'n_estimators': 86,\n",
       "   'min_samples_split': 200,\n",
       "   'min_samples_leaf': 310,\n",
       "   'max_depth': 5,\n",
       "   'learning_rate': 0.7},\n",
       "  {'subsample': 0.8000000000000003,\n",
       "   'n_estimators': 53,\n",
       "   'min_samples_split': 400,\n",
       "   'min_samples_leaf': 90,\n",
       "   'max_depth': 9,\n",
       "   'learning_rate': 0.9},\n",
       "  {'subsample': 0.8100000000000003,\n",
       "   'n_estimators': 95,\n",
       "   'min_samples_split': 300,\n",
       "   'min_samples_leaf': 230,\n",
       "   'max_depth': 3,\n",
       "   'learning_rate': 0.05},\n",
       "  {'subsample': 0.9600000000000004,\n",
       "   'n_estimators': 23,\n",
       "   'min_samples_split': 50,\n",
       "   'min_samples_leaf': 90,\n",
       "   'max_depth': 5,\n",
       "   'learning_rate': 0.6},\n",
       "  {'subsample': 0.7000000000000002,\n",
       "   'n_estimators': 62,\n",
       "   'min_samples_split': 350,\n",
       "   'min_samples_leaf': 190,\n",
       "   'max_depth': 3,\n",
       "   'learning_rate': 0.15},\n",
       "  {'subsample': 0.7600000000000002,\n",
       "   'n_estimators': 90,\n",
       "   'min_samples_split': 50,\n",
       "   'min_samples_leaf': 250,\n",
       "   'max_depth': 8,\n",
       "   'learning_rate': 0.1},\n",
       "  {'subsample': 0.56,\n",
       "   'n_estimators': 92,\n",
       "   'min_samples_split': 200,\n",
       "   'min_samples_leaf': 90,\n",
       "   'max_depth': 5,\n",
       "   'learning_rate': 0.6},\n",
       "  {'subsample': 0.8500000000000003,\n",
       "   'n_estimators': 16,\n",
       "   'min_samples_split': 200,\n",
       "   'min_samples_leaf': 350,\n",
       "   'max_depth': 9,\n",
       "   'learning_rate': 0.3},\n",
       "  {'subsample': 0.8100000000000003,\n",
       "   'n_estimators': 14,\n",
       "   'min_samples_split': 50,\n",
       "   'min_samples_leaf': 230,\n",
       "   'max_depth': 9,\n",
       "   'learning_rate': 0.6}],\n",
       " 'split0_test_score': array([0.74977416, 0.76106594, 0.75677507, 0.7601626 , 0.76377597,\n",
       "        0.70799458, 0.72538392, 0.72831978, 0.73893406, 0.74774164,\n",
       "        0.75248419, 0.73644986, 0.71273713, 0.76490515, 0.74977416,\n",
       "        0.76603433, 0.76219512, 0.72741644, 0.76196929, 0.75925926]),\n",
       " 'split1_test_score': array([0.74655523, 0.75536481, 0.74858821, 0.75513892, 0.75513892,\n",
       "        0.71380167, 0.72577366, 0.73729388, 0.72916196, 0.74632934,\n",
       "        0.75626835, 0.72893607, 0.71063926, 0.75581658, 0.74791055,\n",
       "        0.75762367, 0.75626835, 0.71990061, 0.7571719 , 0.74565168]),\n",
       " 'split2_test_score': array([0.74988703, 0.75982829, 0.76140985, 0.76140985, 0.75101672,\n",
       "        0.7184817 , 0.7340714 , 0.73181202, 0.7394939 , 0.75237235,\n",
       "        0.76321735, 0.72955264, 0.71531857, 0.76253954, 0.75033891,\n",
       "        0.76299141, 0.76366923, 0.72074108, 0.76253954, 0.74785359]),\n",
       " 'mean_test_score': array([0.7487388 , 0.75875311, 0.75559069, 0.7589037 , 0.75664483,\n",
       "        0.71342519, 0.72840901, 0.73247496, 0.73586326, 0.7488141 ,\n",
       "        0.75732249, 0.73164671, 0.71289813, 0.76108727, 0.74934116,\n",
       "        0.7622167 , 0.76071079, 0.72268654, 0.7605602 , 0.75092237]),\n",
       " 'std_test_score': array([0.0015447 , 0.00244859, 0.00530072, 0.00271036, 0.00531667,\n",
       "        0.00428962, 0.0040064 , 0.00369372, 0.00474405, 0.00258087,\n",
       "        0.00444474, 0.00340623, 0.0019136 , 0.00385003, 0.00103754,\n",
       "        0.00347724, 0.0031984 , 0.00336266, 0.00240717, 0.00596419]),\n",
       " 'rank_test_score': array([13,  6,  9,  5,  8, 19, 17, 15, 14, 12,  7, 16, 20,  2, 11,  1,  3,\n",
       "        18,  4, 10])}"
      ]
     },
     "execution_count": 120,
     "metadata": {},
     "output_type": "execute_result"
    }
   ],
   "source": [
    "rs.cv_results_"
   ]
  },
  {
   "cell_type": "code",
   "execution_count": 121,
   "metadata": {},
   "outputs": [
    {
     "name": "stdout",
     "output_type": "stream",
     "text": [
      "Best accuracy Obtained: 0.7622167005496574\n",
      "Parameters\n",
      "\tsubsample:0.7000000000000002\n",
      "\tn_estimators:62\n",
      "\tmin_samples_split:350\n",
      "\tmin_samples_leaf:190\n",
      "\tmax_depth:3\n",
      "\tlearning_rate:0.15\n"
     ]
    }
   ],
   "source": [
    "print(\"Best accuracy Obtained: {0}\".format(rs.best_score_))\n",
    "print(\"Parameters\")\n",
    "for key, value in rs.best_params_.items():\n",
    "    print(\"\\t{}:{}\".format(key, value))\n"
   ]
  },
  {
   "cell_type": "code",
   "execution_count": 122,
   "metadata": {},
   "outputs": [
    {
     "name": "stdout",
     "output_type": "stream",
     "text": [
      "Confusion Matrix: \n",
      "[[1063  589]\n",
      " [ 230 1439]]\n",
      "Accuracy =  0.7533875338753387\n",
      "Precision =  0.7095660749506904\n",
      "Recall =  0.8621929298981426\n",
      "F1 Score =  0.7784690289423856\n",
      "AUC Score = 0.7528276998158994\n",
      "Kappa score =  0.5062156505314823\n",
      "Error rate =  0.24661246612466126\n",
      "AUC-ROC Curve: \n"
     ]
    },
    {
     "data": {
      "image/png": "[encoded data removed]",
      "text/plain": [
       "<Figure size 432x288 with 1 Axes>"
      ]
     },
     "metadata": {
      "needs_background": "light"
     },
     "output_type": "display_data"
    },
    {
     "name": "stdout",
     "output_type": "stream",
     "text": [
      "Mean accuracy:  0.7619892395061096\n",
      "Variance:  0.009767382072358858\n"
     ]
    }
   ],
   "source": [
    "#Gradient Boosting Machine after parameter tuning\n",
    "from sklearn.ensemble import GradientBoostingClassifier\n",
    "gbc = GradientBoostingClassifier(subsample = 0.7000000000000002,\n",
    "        n_estimators = 62,\n",
    "        min_samples_split = 350,\n",
    "        min_samples_leaf = 190,\n",
    "        max_depth = 3,\n",
    "        learning_rate = 0.15)\n",
    "gbc.fit(X_train,y_train)\n",
    "pred_y = gbc.predict(X_test)\n",
    "model_report(y_test,pred_y)\n",
    "KFold_Cross_Validation(gbc,10)"
   ]
  },
  {
   "cell_type": "code",
   "execution_count": 123,
   "metadata": {},
   "outputs": [
    {
     "data": {
      "text/plain": [
       "Index(['reviewerID', 'reviewContent', 'ReviewRating', 'UsefulCount_Review',\n",
       "       'flagged', 'restaurantID', 'flagged_code', 'ReviewID',\n",
       "       'WordCount_Review', 'TotalReviewCountofRestaurant',\n",
       "       'FakeReviewCountRestaurant', 'AggRestaurantRating', 'reviewContentNew',\n",
       "       'stopwordsCount', 'DeviationfromAggRating', 'charCount',\n",
       "       'uppercaseCount', 'specialCharCount', 'sentenceCount',\n",
       "       'fleschReadingEase', 'fleschKincaidGrade', 'fogScale', 'smogScore',\n",
       "       'ARI', 'CLI', 'linsearWrite', 'daleChallScore', 'sentimentScore',\n",
       "       'nounCount', 'verbCount', 'adjectiveCount', 'adverbCount'],\n",
       "      dtype='object')"
      ]
     },
     "execution_count": 123,
     "metadata": {},
     "output_type": "execute_result"
    }
   ],
   "source": [
    "text_df.columns"
   ]
  },
  {
   "cell_type": "code",
   "execution_count": null,
   "metadata": {},
   "outputs": [],
   "source": []
  }
 ],
 "metadata": {
  "kernelspec": {
   "display_name": "Python 3",
   "language": "python",
   "name": "python3"
  },
  "language_info": {
   "codemirror_mode": {
    "name": "ipython",
    "version": 3
   },
   "file_extension": ".py",
   "mimetype": "text/x-python",
   "name": "python",
   "nbconvert_exporter": "python",
   "pygments_lexer": "ipython3",
   "version": "3.7.1"
  }
 },
 "nbformat": 4,
 "nbformat_minor": 2
}
